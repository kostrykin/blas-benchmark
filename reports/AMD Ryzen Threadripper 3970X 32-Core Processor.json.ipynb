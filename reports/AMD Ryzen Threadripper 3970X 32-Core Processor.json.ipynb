{
 "cells": [
  {
   "cell_type": "markdown",
   "id": "affea244",
   "metadata": {},
   "source": [
    "# AMD Ryzen Threadripper 3970X 32-Core Processor.json"
   ]
  },
  {
   "cell_type": "code",
   "execution_count": 1,
   "id": "2026e0a3",
   "metadata": {
    "execution": {
     "iopub.execute_input": "2024-02-23T22:12:26.446719Z",
     "iopub.status.busy": "2024-02-23T22:12:26.446237Z",
     "iopub.status.idle": "2024-02-23T22:12:26.590287Z",
     "shell.execute_reply": "2024-02-23T22:12:26.589679Z"
    }
   },
   "outputs": [],
   "source": [
    "import pandas as pd"
   ]
  },
  {
   "cell_type": "code",
   "execution_count": 2,
   "id": "401039cd",
   "metadata": {
    "execution": {
     "iopub.execute_input": "2024-02-23T22:12:26.592308Z",
     "iopub.status.busy": "2024-02-23T22:12:26.592151Z",
     "iopub.status.idle": "2024-02-23T22:12:26.596715Z",
     "shell.execute_reply": "2024-02-23T22:12:26.596176Z"
    }
   },
   "outputs": [],
   "source": [
    "df = pd.read_csv(\"results.csv\")\n",
    "df = df[df[\"cpu_name\"] == \"AMD Ryzen Threadripper 3970X 32-Core Processor.json\"]"
   ]
  },
  {
   "cell_type": "markdown",
   "id": "ba77fdc2",
   "metadata": {},
   "source": [
    "### Eigendecomposition of a 2048x2048 matrix"
   ]
  },
  {
   "cell_type": "code",
   "execution_count": 3,
   "id": "f42bcf1b",
   "metadata": {
    "execution": {
     "iopub.execute_input": "2024-02-23T22:12:26.598550Z",
     "iopub.status.busy": "2024-02-23T22:12:26.598441Z",
     "iopub.status.idle": "2024-02-23T22:12:26.607900Z",
     "shell.execute_reply": "2024-02-23T22:12:26.607375Z"
    }
   },
   "outputs": [
    {
     "data": {
      "text/html": [
       "<div>\n",
       "<style scoped>\n",
       "    .dataframe tbody tr th:only-of-type {\n",
       "        vertical-align: middle;\n",
       "    }\n",
       "\n",
       "    .dataframe tbody tr th {\n",
       "        vertical-align: top;\n",
       "    }\n",
       "\n",
       "    .dataframe thead th {\n",
       "        text-align: right;\n",
       "    }\n",
       "</style>\n",
       "<table border=\"1\" class=\"dataframe\">\n",
       "  <thead>\n",
       "    <tr style=\"text-align: right;\">\n",
       "      <th></th>\n",
       "      <th>config_id</th>\n",
       "      <th>seconds</th>\n",
       "    </tr>\n",
       "  </thead>\n",
       "  <tbody>\n",
       "    <tr>\n",
       "      <th>15</th>\n",
       "      <td>openblas</td>\n",
       "      <td>5.333673</td>\n",
       "    </tr>\n",
       "    <tr>\n",
       "      <th>39</th>\n",
       "      <td>mkl2024.0</td>\n",
       "      <td>4.466934</td>\n",
       "    </tr>\n",
       "    <tr>\n",
       "      <th>31</th>\n",
       "      <td>mkl2020.0</td>\n",
       "      <td>4.117341</td>\n",
       "    </tr>\n",
       "    <tr>\n",
       "      <th>1</th>\n",
       "      <td>mkl2020.0_fakeintel</td>\n",
       "      <td>4.071802</td>\n",
       "    </tr>\n",
       "    <tr>\n",
       "      <th>7</th>\n",
       "      <td>mkl2019.5_debug</td>\n",
       "      <td>4.041227</td>\n",
       "    </tr>\n",
       "    <tr>\n",
       "      <th>23</th>\n",
       "      <td>mkl2020.0_debug</td>\n",
       "      <td>4.010695</td>\n",
       "    </tr>\n",
       "  </tbody>\n",
       "</table>\n",
       "</div>"
      ],
      "text/plain": [
       "              config_id   seconds\n",
       "15             openblas  5.333673\n",
       "39            mkl2024.0  4.466934\n",
       "31            mkl2020.0  4.117341\n",
       "1   mkl2020.0_fakeintel  4.071802\n",
       "7       mkl2019.5_debug  4.041227\n",
       "23      mkl2020.0_debug  4.010695"
      ]
     },
     "execution_count": 3,
     "metadata": {},
     "output_type": "execute_result"
    }
   ],
   "source": [
    "df_task = df[df[\"task_id\"] == \"evd\"]\n",
    "df_task[[\"config_id\", \"seconds\"]].sort_values(\"seconds\", ascending=False)"
   ]
  },
  {
   "cell_type": "markdown",
   "id": "649aba37",
   "metadata": {},
   "source": [
    "### Dotted two 4096x4096 matrices"
   ]
  },
  {
   "cell_type": "code",
   "execution_count": 4,
   "id": "4f9a4fb0",
   "metadata": {
    "execution": {
     "iopub.execute_input": "2024-02-23T22:12:26.610231Z",
     "iopub.status.busy": "2024-02-23T22:12:26.609823Z",
     "iopub.status.idle": "2024-02-23T22:12:26.616892Z",
     "shell.execute_reply": "2024-02-23T22:12:26.616382Z"
    }
   },
   "outputs": [
    {
     "data": {
      "text/html": [
       "<div>\n",
       "<style scoped>\n",
       "    .dataframe tbody tr th:only-of-type {\n",
       "        vertical-align: middle;\n",
       "    }\n",
       "\n",
       "    .dataframe tbody tr th {\n",
       "        vertical-align: top;\n",
       "    }\n",
       "\n",
       "    .dataframe thead th {\n",
       "        text-align: right;\n",
       "    }\n",
       "</style>\n",
       "<table border=\"1\" class=\"dataframe\">\n",
       "  <thead>\n",
       "    <tr style=\"text-align: right;\">\n",
       "      <th></th>\n",
       "      <th>config_id</th>\n",
       "      <th>seconds</th>\n",
       "    </tr>\n",
       "  </thead>\n",
       "  <tbody>\n",
       "    <tr>\n",
       "      <th>17</th>\n",
       "      <td>openblas</td>\n",
       "      <td>1.262695</td>\n",
       "    </tr>\n",
       "    <tr>\n",
       "      <th>41</th>\n",
       "      <td>mkl2024.0</td>\n",
       "      <td>1.156193</td>\n",
       "    </tr>\n",
       "    <tr>\n",
       "      <th>33</th>\n",
       "      <td>mkl2020.0</td>\n",
       "      <td>1.148645</td>\n",
       "    </tr>\n",
       "    <tr>\n",
       "      <th>25</th>\n",
       "      <td>mkl2020.0_debug</td>\n",
       "      <td>1.148207</td>\n",
       "    </tr>\n",
       "    <tr>\n",
       "      <th>2</th>\n",
       "      <td>mkl2020.0_fakeintel</td>\n",
       "      <td>1.146141</td>\n",
       "    </tr>\n",
       "    <tr>\n",
       "      <th>9</th>\n",
       "      <td>mkl2019.5_debug</td>\n",
       "      <td>1.142623</td>\n",
       "    </tr>\n",
       "  </tbody>\n",
       "</table>\n",
       "</div>"
      ],
      "text/plain": [
       "              config_id   seconds\n",
       "17             openblas  1.262695\n",
       "41            mkl2024.0  1.156193\n",
       "33            mkl2020.0  1.148645\n",
       "25      mkl2020.0_debug  1.148207\n",
       "2   mkl2020.0_fakeintel  1.146141\n",
       "9       mkl2019.5_debug  1.142623"
      ]
     },
     "execution_count": 4,
     "metadata": {},
     "output_type": "execute_result"
    }
   ],
   "source": [
    "df_task = df[df[\"task_id\"] == \"dot4096\"]\n",
    "df_task[[\"config_id\", \"seconds\"]].sort_values(\"seconds\", ascending=False)"
   ]
  },
  {
   "cell_type": "markdown",
   "id": "1816d50a",
   "metadata": {},
   "source": [
    "### Dotted two vectors of length 524288"
   ]
  },
  {
   "cell_type": "code",
   "execution_count": 5,
   "id": "b8140f53",
   "metadata": {
    "execution": {
     "iopub.execute_input": "2024-02-23T22:12:26.618864Z",
     "iopub.status.busy": "2024-02-23T22:12:26.618758Z",
     "iopub.status.idle": "2024-02-23T22:12:26.623912Z",
     "shell.execute_reply": "2024-02-23T22:12:26.623463Z"
    }
   },
   "outputs": [
    {
     "data": {
      "text/html": [
       "<div>\n",
       "<style scoped>\n",
       "    .dataframe tbody tr th:only-of-type {\n",
       "        vertical-align: middle;\n",
       "    }\n",
       "\n",
       "    .dataframe tbody tr th {\n",
       "        vertical-align: top;\n",
       "    }\n",
       "\n",
       "    .dataframe thead th {\n",
       "        text-align: right;\n",
       "    }\n",
       "</style>\n",
       "<table border=\"1\" class=\"dataframe\">\n",
       "  <thead>\n",
       "    <tr style=\"text-align: right;\">\n",
       "      <th></th>\n",
       "      <th>config_id</th>\n",
       "      <th>seconds</th>\n",
       "    </tr>\n",
       "  </thead>\n",
       "  <tbody>\n",
       "    <tr>\n",
       "      <th>35</th>\n",
       "      <td>mkl2020.0</td>\n",
       "      <td>0.000045</td>\n",
       "    </tr>\n",
       "    <tr>\n",
       "      <th>27</th>\n",
       "      <td>mkl2020.0_debug</td>\n",
       "      <td>0.000045</td>\n",
       "    </tr>\n",
       "    <tr>\n",
       "      <th>43</th>\n",
       "      <td>mkl2024.0</td>\n",
       "      <td>0.000045</td>\n",
       "    </tr>\n",
       "    <tr>\n",
       "      <th>3</th>\n",
       "      <td>mkl2020.0_fakeintel</td>\n",
       "      <td>0.000045</td>\n",
       "    </tr>\n",
       "    <tr>\n",
       "      <th>11</th>\n",
       "      <td>mkl2019.5_debug</td>\n",
       "      <td>0.000044</td>\n",
       "    </tr>\n",
       "    <tr>\n",
       "      <th>19</th>\n",
       "      <td>openblas</td>\n",
       "      <td>0.000044</td>\n",
       "    </tr>\n",
       "  </tbody>\n",
       "</table>\n",
       "</div>"
      ],
      "text/plain": [
       "              config_id   seconds\n",
       "35            mkl2020.0  0.000045\n",
       "27      mkl2020.0_debug  0.000045\n",
       "43            mkl2024.0  0.000045\n",
       "3   mkl2020.0_fakeintel  0.000045\n",
       "11      mkl2019.5_debug  0.000044\n",
       "19             openblas  0.000044"
      ]
     },
     "execution_count": 5,
     "metadata": {},
     "output_type": "execute_result"
    }
   ],
   "source": [
    "df_task = df[df[\"task_id\"] == \"dot524288\"]\n",
    "df_task[[\"config_id\", \"seconds\"]].sort_values(\"seconds\", ascending=False)"
   ]
  },
  {
   "cell_type": "markdown",
   "id": "62e6b509",
   "metadata": {},
   "source": [
    "### SVD of a 2048x1024 matrix"
   ]
  },
  {
   "cell_type": "code",
   "execution_count": 6,
   "id": "95a45ad0",
   "metadata": {
    "execution": {
     "iopub.execute_input": "2024-02-23T22:12:26.625623Z",
     "iopub.status.busy": "2024-02-23T22:12:26.625517Z",
     "iopub.status.idle": "2024-02-23T22:12:26.631260Z",
     "shell.execute_reply": "2024-02-23T22:12:26.630799Z"
    }
   },
   "outputs": [
    {
     "data": {
      "text/html": [
       "<div>\n",
       "<style scoped>\n",
       "    .dataframe tbody tr th:only-of-type {\n",
       "        vertical-align: middle;\n",
       "    }\n",
       "\n",
       "    .dataframe tbody tr th {\n",
       "        vertical-align: top;\n",
       "    }\n",
       "\n",
       "    .dataframe thead th {\n",
       "        text-align: right;\n",
       "    }\n",
       "</style>\n",
       "<table border=\"1\" class=\"dataframe\">\n",
       "  <thead>\n",
       "    <tr style=\"text-align: right;\">\n",
       "      <th></th>\n",
       "      <th>config_id</th>\n",
       "      <th>seconds</th>\n",
       "    </tr>\n",
       "  </thead>\n",
       "  <tbody>\n",
       "    <tr>\n",
       "      <th>13</th>\n",
       "      <td>openblas</td>\n",
       "      <td>0.960542</td>\n",
       "    </tr>\n",
       "    <tr>\n",
       "      <th>37</th>\n",
       "      <td>mkl2024.0</td>\n",
       "      <td>0.709602</td>\n",
       "    </tr>\n",
       "    <tr>\n",
       "      <th>29</th>\n",
       "      <td>mkl2020.0</td>\n",
       "      <td>0.709034</td>\n",
       "    </tr>\n",
       "    <tr>\n",
       "      <th>21</th>\n",
       "      <td>mkl2020.0_debug</td>\n",
       "      <td>0.708275</td>\n",
       "    </tr>\n",
       "    <tr>\n",
       "      <th>5</th>\n",
       "      <td>mkl2019.5_debug</td>\n",
       "      <td>0.708160</td>\n",
       "    </tr>\n",
       "    <tr>\n",
       "      <th>0</th>\n",
       "      <td>mkl2020.0_fakeintel</td>\n",
       "      <td>0.707496</td>\n",
       "    </tr>\n",
       "  </tbody>\n",
       "</table>\n",
       "</div>"
      ],
      "text/plain": [
       "              config_id   seconds\n",
       "13             openblas  0.960542\n",
       "37            mkl2024.0  0.709602\n",
       "29            mkl2020.0  0.709034\n",
       "21      mkl2020.0_debug  0.708275\n",
       "5       mkl2019.5_debug  0.708160\n",
       "0   mkl2020.0_fakeintel  0.707496"
      ]
     },
     "execution_count": 6,
     "metadata": {},
     "output_type": "execute_result"
    }
   ],
   "source": [
    "df_task = df[df[\"task_id\"] == \"svd\"]\n",
    "df_task[[\"config_id\", \"seconds\"]].sort_values(\"seconds\", ascending=False)"
   ]
  }
 ],
 "metadata": {
  "language_info": {
   "codemirror_mode": {
    "name": "ipython",
    "version": 3
   },
   "file_extension": ".py",
   "mimetype": "text/x-python",
   "name": "python",
   "nbconvert_exporter": "python",
   "pygments_lexer": "ipython3",
   "version": "3.8.18"
  }
 },
 "nbformat": 4,
 "nbformat_minor": 5
}
