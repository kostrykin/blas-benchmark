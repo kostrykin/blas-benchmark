{
 "cells": [
  {
   "cell_type": "markdown",
   "id": "d1dc918f",
   "metadata": {},
   "source": [
    "# AMD Ryzen Threadripper 3970X 32-Core Processor.json"
   ]
  },
  {
   "cell_type": "code",
   "execution_count": 1,
   "id": "9d6e61ae",
   "metadata": {
    "execution": {
     "iopub.execute_input": "2024-02-23T20:19:30.362964Z",
     "iopub.status.busy": "2024-02-23T20:19:30.362764Z",
     "iopub.status.idle": "2024-02-23T20:19:30.509070Z",
     "shell.execute_reply": "2024-02-23T20:19:30.508461Z"
    }
   },
   "outputs": [],
   "source": [
    "import pandas as pd"
   ]
  },
  {
   "cell_type": "code",
   "execution_count": 2,
   "id": "4bf5ef35",
   "metadata": {
    "execution": {
     "iopub.execute_input": "2024-02-23T20:19:30.511110Z",
     "iopub.status.busy": "2024-02-23T20:19:30.510944Z",
     "iopub.status.idle": "2024-02-23T20:19:30.515453Z",
     "shell.execute_reply": "2024-02-23T20:19:30.514994Z"
    }
   },
   "outputs": [],
   "source": [
    "df = pd.read_csv(\"results.csv\")\n",
    "df = df[df[\"cpu_name\"] == \"AMD Ryzen Threadripper 3970X 32-Core Processor.json\"]"
   ]
  },
  {
   "cell_type": "markdown",
   "id": "0c4f0e08",
   "metadata": {},
   "source": [
    "### Eigendecomposition of a 2048x2048 matrix"
   ]
  },
  {
   "cell_type": "code",
   "execution_count": 3,
   "id": "85b24ee3",
   "metadata": {
    "execution": {
     "iopub.execute_input": "2024-02-23T20:19:30.517647Z",
     "iopub.status.busy": "2024-02-23T20:19:30.517284Z",
     "iopub.status.idle": "2024-02-23T20:19:30.527278Z",
     "shell.execute_reply": "2024-02-23T20:19:30.526816Z"
    }
   },
   "outputs": [
    {
     "data": {
      "text/html": [
       "<div>\n",
       "<style scoped>\n",
       "    .dataframe tbody tr th:only-of-type {\n",
       "        vertical-align: middle;\n",
       "    }\n",
       "\n",
       "    .dataframe tbody tr th {\n",
       "        vertical-align: top;\n",
       "    }\n",
       "\n",
       "    .dataframe thead th {\n",
       "        text-align: right;\n",
       "    }\n",
       "</style>\n",
       "<table border=\"1\" class=\"dataframe\">\n",
       "  <thead>\n",
       "    <tr style=\"text-align: right;\">\n",
       "      <th></th>\n",
       "      <th>config_id</th>\n",
       "      <th>seconds</th>\n",
       "    </tr>\n",
       "  </thead>\n",
       "  <tbody>\n",
       "    <tr>\n",
       "      <th>19</th>\n",
       "      <td>mkl2020.0</td>\n",
       "      <td>5.397212</td>\n",
       "    </tr>\n",
       "    <tr>\n",
       "      <th>5</th>\n",
       "      <td>openblas</td>\n",
       "      <td>5.305424</td>\n",
       "    </tr>\n",
       "    <tr>\n",
       "      <th>27</th>\n",
       "      <td>mkl2024.0</td>\n",
       "      <td>5.219242</td>\n",
       "    </tr>\n",
       "    <tr>\n",
       "      <th>11</th>\n",
       "      <td>mkl2020.0_debug</td>\n",
       "      <td>4.529334</td>\n",
       "    </tr>\n",
       "    <tr>\n",
       "      <th>1</th>\n",
       "      <td>mkl2019.5_debug</td>\n",
       "      <td>4.509339</td>\n",
       "    </tr>\n",
       "  </tbody>\n",
       "</table>\n",
       "</div>"
      ],
      "text/plain": [
       "          config_id   seconds\n",
       "19        mkl2020.0  5.397212\n",
       "5          openblas  5.305424\n",
       "27        mkl2024.0  5.219242\n",
       "11  mkl2020.0_debug  4.529334\n",
       "1   mkl2019.5_debug  4.509339"
      ]
     },
     "execution_count": 3,
     "metadata": {},
     "output_type": "execute_result"
    }
   ],
   "source": [
    "df_task = df[df[\"task_id\"] == \"evd\"]\n",
    "df_task[[\"config_id\", \"seconds\"]].sort_values(\"seconds\", ascending=False)"
   ]
  },
  {
   "cell_type": "markdown",
   "id": "b82b0f26",
   "metadata": {},
   "source": [
    "### Dotted two 4096x4096 matrices"
   ]
  },
  {
   "cell_type": "code",
   "execution_count": 4,
   "id": "95245448",
   "metadata": {
    "execution": {
     "iopub.execute_input": "2024-02-23T20:19:30.529117Z",
     "iopub.status.busy": "2024-02-23T20:19:30.528937Z",
     "iopub.status.idle": "2024-02-23T20:19:30.534260Z",
     "shell.execute_reply": "2024-02-23T20:19:30.533834Z"
    }
   },
   "outputs": [
    {
     "data": {
      "text/html": [
       "<div>\n",
       "<style scoped>\n",
       "    .dataframe tbody tr th:only-of-type {\n",
       "        vertical-align: middle;\n",
       "    }\n",
       "\n",
       "    .dataframe tbody tr th {\n",
       "        vertical-align: top;\n",
       "    }\n",
       "\n",
       "    .dataframe thead th {\n",
       "        text-align: right;\n",
       "    }\n",
       "</style>\n",
       "<table border=\"1\" class=\"dataframe\">\n",
       "  <thead>\n",
       "    <tr style=\"text-align: right;\">\n",
       "      <th></th>\n",
       "      <th>config_id</th>\n",
       "      <th>seconds</th>\n",
       "    </tr>\n",
       "  </thead>\n",
       "  <tbody>\n",
       "    <tr>\n",
       "      <th>21</th>\n",
       "      <td>mkl2020.0</td>\n",
       "      <td>1.326379</td>\n",
       "    </tr>\n",
       "    <tr>\n",
       "      <th>29</th>\n",
       "      <td>mkl2024.0</td>\n",
       "      <td>1.314940</td>\n",
       "    </tr>\n",
       "    <tr>\n",
       "      <th>6</th>\n",
       "      <td>openblas</td>\n",
       "      <td>1.265192</td>\n",
       "    </tr>\n",
       "    <tr>\n",
       "      <th>13</th>\n",
       "      <td>mkl2020.0_debug</td>\n",
       "      <td>1.153249</td>\n",
       "    </tr>\n",
       "    <tr>\n",
       "      <th>2</th>\n",
       "      <td>mkl2019.5_debug</td>\n",
       "      <td>1.151082</td>\n",
       "    </tr>\n",
       "  </tbody>\n",
       "</table>\n",
       "</div>"
      ],
      "text/plain": [
       "          config_id   seconds\n",
       "21        mkl2020.0  1.326379\n",
       "29        mkl2024.0  1.314940\n",
       "6          openblas  1.265192\n",
       "13  mkl2020.0_debug  1.153249\n",
       "2   mkl2019.5_debug  1.151082"
      ]
     },
     "execution_count": 4,
     "metadata": {},
     "output_type": "execute_result"
    }
   ],
   "source": [
    "df_task = df[df[\"task_id\"] == \"dot4096\"]\n",
    "df_task[[\"config_id\", \"seconds\"]].sort_values(\"seconds\", ascending=False)"
   ]
  },
  {
   "cell_type": "markdown",
   "id": "58b30b53",
   "metadata": {},
   "source": [
    "### Dotted two vectors of length 524288"
   ]
  },
  {
   "cell_type": "code",
   "execution_count": 5,
   "id": "0f46d480",
   "metadata": {
    "execution": {
     "iopub.execute_input": "2024-02-23T20:19:30.536565Z",
     "iopub.status.busy": "2024-02-23T20:19:30.536199Z",
     "iopub.status.idle": "2024-02-23T20:19:30.542857Z",
     "shell.execute_reply": "2024-02-23T20:19:30.542389Z"
    }
   },
   "outputs": [
    {
     "data": {
      "text/html": [
       "<div>\n",
       "<style scoped>\n",
       "    .dataframe tbody tr th:only-of-type {\n",
       "        vertical-align: middle;\n",
       "    }\n",
       "\n",
       "    .dataframe tbody tr th {\n",
       "        vertical-align: top;\n",
       "    }\n",
       "\n",
       "    .dataframe thead th {\n",
       "        text-align: right;\n",
       "    }\n",
       "</style>\n",
       "<table border=\"1\" class=\"dataframe\">\n",
       "  <thead>\n",
       "    <tr style=\"text-align: right;\">\n",
       "      <th></th>\n",
       "      <th>config_id</th>\n",
       "      <th>seconds</th>\n",
       "    </tr>\n",
       "  </thead>\n",
       "  <tbody>\n",
       "    <tr>\n",
       "      <th>31</th>\n",
       "      <td>mkl2024.0</td>\n",
       "      <td>0.000049</td>\n",
       "    </tr>\n",
       "    <tr>\n",
       "      <th>23</th>\n",
       "      <td>mkl2020.0</td>\n",
       "      <td>0.000049</td>\n",
       "    </tr>\n",
       "    <tr>\n",
       "      <th>15</th>\n",
       "      <td>mkl2020.0_debug</td>\n",
       "      <td>0.000045</td>\n",
       "    </tr>\n",
       "    <tr>\n",
       "      <th>3</th>\n",
       "      <td>mkl2019.5_debug</td>\n",
       "      <td>0.000045</td>\n",
       "    </tr>\n",
       "    <tr>\n",
       "      <th>7</th>\n",
       "      <td>openblas</td>\n",
       "      <td>0.000044</td>\n",
       "    </tr>\n",
       "  </tbody>\n",
       "</table>\n",
       "</div>"
      ],
      "text/plain": [
       "          config_id   seconds\n",
       "31        mkl2024.0  0.000049\n",
       "23        mkl2020.0  0.000049\n",
       "15  mkl2020.0_debug  0.000045\n",
       "3   mkl2019.5_debug  0.000045\n",
       "7          openblas  0.000044"
      ]
     },
     "execution_count": 5,
     "metadata": {},
     "output_type": "execute_result"
    }
   ],
   "source": [
    "df_task = df[df[\"task_id\"] == \"dot524288\"]\n",
    "df_task[[\"config_id\", \"seconds\"]].sort_values(\"seconds\", ascending=False)"
   ]
  },
  {
   "cell_type": "markdown",
   "id": "540492b5",
   "metadata": {},
   "source": [
    "### SVD of a 2048x1024 matrix"
   ]
  },
  {
   "cell_type": "code",
   "execution_count": 6,
   "id": "9deeadc5",
   "metadata": {
    "execution": {
     "iopub.execute_input": "2024-02-23T20:19:30.545161Z",
     "iopub.status.busy": "2024-02-23T20:19:30.544710Z",
     "iopub.status.idle": "2024-02-23T20:19:30.551498Z",
     "shell.execute_reply": "2024-02-23T20:19:30.550985Z"
    }
   },
   "outputs": [
    {
     "data": {
      "text/html": [
       "<div>\n",
       "<style scoped>\n",
       "    .dataframe tbody tr th:only-of-type {\n",
       "        vertical-align: middle;\n",
       "    }\n",
       "\n",
       "    .dataframe tbody tr th {\n",
       "        vertical-align: top;\n",
       "    }\n",
       "\n",
       "    .dataframe thead th {\n",
       "        text-align: right;\n",
       "    }\n",
       "</style>\n",
       "<table border=\"1\" class=\"dataframe\">\n",
       "  <thead>\n",
       "    <tr style=\"text-align: right;\">\n",
       "      <th></th>\n",
       "      <th>config_id</th>\n",
       "      <th>seconds</th>\n",
       "    </tr>\n",
       "  </thead>\n",
       "  <tbody>\n",
       "    <tr>\n",
       "      <th>4</th>\n",
       "      <td>openblas</td>\n",
       "      <td>0.963404</td>\n",
       "    </tr>\n",
       "    <tr>\n",
       "      <th>17</th>\n",
       "      <td>mkl2020.0</td>\n",
       "      <td>0.782890</td>\n",
       "    </tr>\n",
       "    <tr>\n",
       "      <th>25</th>\n",
       "      <td>mkl2024.0</td>\n",
       "      <td>0.779294</td>\n",
       "    </tr>\n",
       "    <tr>\n",
       "      <th>9</th>\n",
       "      <td>mkl2020.0_debug</td>\n",
       "      <td>0.711939</td>\n",
       "    </tr>\n",
       "    <tr>\n",
       "      <th>0</th>\n",
       "      <td>mkl2019.5_debug</td>\n",
       "      <td>0.709896</td>\n",
       "    </tr>\n",
       "  </tbody>\n",
       "</table>\n",
       "</div>"
      ],
      "text/plain": [
       "          config_id   seconds\n",
       "4          openblas  0.963404\n",
       "17        mkl2020.0  0.782890\n",
       "25        mkl2024.0  0.779294\n",
       "9   mkl2020.0_debug  0.711939\n",
       "0   mkl2019.5_debug  0.709896"
      ]
     },
     "execution_count": 6,
     "metadata": {},
     "output_type": "execute_result"
    }
   ],
   "source": [
    "df_task = df[df[\"task_id\"] == \"svd\"]\n",
    "df_task[[\"config_id\", \"seconds\"]].sort_values(\"seconds\", ascending=False)"
   ]
  }
 ],
 "metadata": {
  "language_info": {
   "codemirror_mode": {
    "name": "ipython",
    "version": 3
   },
   "file_extension": ".py",
   "mimetype": "text/x-python",
   "name": "python",
   "nbconvert_exporter": "python",
   "pygments_lexer": "ipython3",
   "version": "3.8.18"
  }
 },
 "nbformat": 4,
 "nbformat_minor": 5
}
