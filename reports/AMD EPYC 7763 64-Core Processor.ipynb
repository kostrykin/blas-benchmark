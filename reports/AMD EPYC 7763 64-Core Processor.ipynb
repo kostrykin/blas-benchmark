{
 "cells": [
  {
   "cell_type": "markdown",
   "id": "fe7ab6c3",
   "metadata": {},
   "source": [
    "# AMD EPYC 7763 64-Core Processor"
   ]
  },
  {
   "cell_type": "code",
   "execution_count": 1,
   "id": "a7c3f8e7",
   "metadata": {
    "execution": {
     "iopub.execute_input": "2024-02-24T08:06:22.278395Z",
     "iopub.status.busy": "2024-02-24T08:06:22.277952Z",
     "iopub.status.idle": "2024-02-24T08:06:22.680702Z",
     "shell.execute_reply": "2024-02-24T08:06:22.680097Z"
    }
   },
   "outputs": [],
   "source": [
    "import pandas as pd"
   ]
  },
  {
   "cell_type": "code",
   "execution_count": 2,
   "id": "725a6986",
   "metadata": {
    "execution": {
     "iopub.execute_input": "2024-02-24T08:06:22.683836Z",
     "iopub.status.busy": "2024-02-24T08:06:22.683223Z",
     "iopub.status.idle": "2024-02-24T08:06:22.693452Z",
     "shell.execute_reply": "2024-02-24T08:06:22.692837Z"
    }
   },
   "outputs": [],
   "source": [
    "df = pd.read_csv(\"results.csv\")\n",
    "df = df[df[\"cpu_name\"] == \"AMD EPYC 7763 64-Core Processor\"]"
   ]
  },
  {
   "cell_type": "markdown",
   "id": "8589323e",
   "metadata": {},
   "source": [
    "### Dotted two 4096x4096 matrices"
   ]
  },
  {
   "cell_type": "code",
   "execution_count": 3,
   "id": "f72ecf09",
   "metadata": {
    "execution": {
     "iopub.execute_input": "2024-02-24T08:06:22.695732Z",
     "iopub.status.busy": "2024-02-24T08:06:22.695569Z",
     "iopub.status.idle": "2024-02-24T08:06:22.708034Z",
     "shell.execute_reply": "2024-02-24T08:06:22.707504Z"
    }
   },
   "outputs": [
    {
     "data": {
      "text/html": [
       "<div>\n",
       "<style scoped>\n",
       "    .dataframe tbody tr th:only-of-type {\n",
       "        vertical-align: middle;\n",
       "    }\n",
       "\n",
       "    .dataframe tbody tr th {\n",
       "        vertical-align: top;\n",
       "    }\n",
       "\n",
       "    .dataframe thead th {\n",
       "        text-align: right;\n",
       "    }\n",
       "</style>\n",
       "<table border=\"1\" class=\"dataframe\">\n",
       "  <thead>\n",
       "    <tr style=\"text-align: right;\">\n",
       "      <th></th>\n",
       "      <th>config_id</th>\n",
       "      <th>seconds</th>\n",
       "    </tr>\n",
       "  </thead>\n",
       "  <tbody>\n",
       "    <tr>\n",
       "      <th>40</th>\n",
       "      <td>mkl2024.0</td>\n",
       "      <td>3.254253</td>\n",
       "    </tr>\n",
       "    <tr>\n",
       "      <th>24</th>\n",
       "      <td>mkl2020.0_debug</td>\n",
       "      <td>3.249269</td>\n",
       "    </tr>\n",
       "    <tr>\n",
       "      <th>32</th>\n",
       "      <td>mkl2020.0</td>\n",
       "      <td>3.217958</td>\n",
       "    </tr>\n",
       "    <tr>\n",
       "      <th>16</th>\n",
       "      <td>openblas</td>\n",
       "      <td>3.177852</td>\n",
       "    </tr>\n",
       "    <tr>\n",
       "      <th>8</th>\n",
       "      <td>mkl2019.5_debug</td>\n",
       "      <td>3.061647</td>\n",
       "    </tr>\n",
       "  </tbody>\n",
       "</table>\n",
       "</div>"
      ],
      "text/plain": [
       "          config_id   seconds\n",
       "40        mkl2024.0  3.254253\n",
       "24  mkl2020.0_debug  3.249269\n",
       "32        mkl2020.0  3.217958\n",
       "16         openblas  3.177852\n",
       "8   mkl2019.5_debug  3.061647"
      ]
     },
     "execution_count": 3,
     "metadata": {},
     "output_type": "execute_result"
    }
   ],
   "source": [
    "df_task = df[df[\"task_id\"] == \"dot4096\"]\n",
    "df_task[[\"config_id\", \"seconds\"]].sort_values(\"seconds\", ascending=False)"
   ]
  },
  {
   "cell_type": "markdown",
   "id": "5094f27f",
   "metadata": {},
   "source": [
    "### Dotted two vectors of length 524288"
   ]
  },
  {
   "cell_type": "code",
   "execution_count": 4,
   "id": "d0c40557",
   "metadata": {
    "execution": {
     "iopub.execute_input": "2024-02-24T08:06:22.710453Z",
     "iopub.status.busy": "2024-02-24T08:06:22.710028Z",
     "iopub.status.idle": "2024-02-24T08:06:22.717204Z",
     "shell.execute_reply": "2024-02-24T08:06:22.716678Z"
    }
   },
   "outputs": [
    {
     "data": {
      "text/html": [
       "<div>\n",
       "<style scoped>\n",
       "    .dataframe tbody tr th:only-of-type {\n",
       "        vertical-align: middle;\n",
       "    }\n",
       "\n",
       "    .dataframe tbody tr th {\n",
       "        vertical-align: top;\n",
       "    }\n",
       "\n",
       "    .dataframe thead th {\n",
       "        text-align: right;\n",
       "    }\n",
       "</style>\n",
       "<table border=\"1\" class=\"dataframe\">\n",
       "  <thead>\n",
       "    <tr style=\"text-align: right;\">\n",
       "      <th></th>\n",
       "      <th>config_id</th>\n",
       "      <th>seconds</th>\n",
       "    </tr>\n",
       "  </thead>\n",
       "  <tbody>\n",
       "    <tr>\n",
       "      <th>26</th>\n",
       "      <td>mkl2020.0_debug</td>\n",
       "      <td>0.002293</td>\n",
       "    </tr>\n",
       "    <tr>\n",
       "      <th>18</th>\n",
       "      <td>openblas</td>\n",
       "      <td>0.000174</td>\n",
       "    </tr>\n",
       "    <tr>\n",
       "      <th>10</th>\n",
       "      <td>mkl2019.5_debug</td>\n",
       "      <td>0.000152</td>\n",
       "    </tr>\n",
       "    <tr>\n",
       "      <th>42</th>\n",
       "      <td>mkl2024.0</td>\n",
       "      <td>0.000150</td>\n",
       "    </tr>\n",
       "    <tr>\n",
       "      <th>34</th>\n",
       "      <td>mkl2020.0</td>\n",
       "      <td>0.000144</td>\n",
       "    </tr>\n",
       "  </tbody>\n",
       "</table>\n",
       "</div>"
      ],
      "text/plain": [
       "          config_id   seconds\n",
       "26  mkl2020.0_debug  0.002293\n",
       "18         openblas  0.000174\n",
       "10  mkl2019.5_debug  0.000152\n",
       "42        mkl2024.0  0.000150\n",
       "34        mkl2020.0  0.000144"
      ]
     },
     "execution_count": 4,
     "metadata": {},
     "output_type": "execute_result"
    }
   ],
   "source": [
    "df_task = df[df[\"task_id\"] == \"dot524288\"]\n",
    "df_task[[\"config_id\", \"seconds\"]].sort_values(\"seconds\", ascending=False)"
   ]
  },
  {
   "cell_type": "markdown",
   "id": "23b53bdf",
   "metadata": {},
   "source": [
    "### SVD of a 2048x1024 matrix"
   ]
  },
  {
   "cell_type": "code",
   "execution_count": 5,
   "id": "0e057b84",
   "metadata": {
    "execution": {
     "iopub.execute_input": "2024-02-24T08:06:22.719165Z",
     "iopub.status.busy": "2024-02-24T08:06:22.719059Z",
     "iopub.status.idle": "2024-02-24T08:06:22.724241Z",
     "shell.execute_reply": "2024-02-24T08:06:22.723789Z"
    }
   },
   "outputs": [
    {
     "data": {
      "text/html": [
       "<div>\n",
       "<style scoped>\n",
       "    .dataframe tbody tr th:only-of-type {\n",
       "        vertical-align: middle;\n",
       "    }\n",
       "\n",
       "    .dataframe tbody tr th {\n",
       "        vertical-align: top;\n",
       "    }\n",
       "\n",
       "    .dataframe thead th {\n",
       "        text-align: right;\n",
       "    }\n",
       "</style>\n",
       "<table border=\"1\" class=\"dataframe\">\n",
       "  <thead>\n",
       "    <tr style=\"text-align: right;\">\n",
       "      <th></th>\n",
       "      <th>config_id</th>\n",
       "      <th>seconds</th>\n",
       "    </tr>\n",
       "  </thead>\n",
       "  <tbody>\n",
       "    <tr>\n",
       "      <th>12</th>\n",
       "      <td>openblas</td>\n",
       "      <td>1.617803</td>\n",
       "    </tr>\n",
       "    <tr>\n",
       "      <th>36</th>\n",
       "      <td>mkl2024.0</td>\n",
       "      <td>1.400305</td>\n",
       "    </tr>\n",
       "    <tr>\n",
       "      <th>28</th>\n",
       "      <td>mkl2020.0</td>\n",
       "      <td>1.369105</td>\n",
       "    </tr>\n",
       "    <tr>\n",
       "      <th>20</th>\n",
       "      <td>mkl2020.0_debug</td>\n",
       "      <td>1.324003</td>\n",
       "    </tr>\n",
       "    <tr>\n",
       "      <th>4</th>\n",
       "      <td>mkl2019.5_debug</td>\n",
       "      <td>1.252938</td>\n",
       "    </tr>\n",
       "  </tbody>\n",
       "</table>\n",
       "</div>"
      ],
      "text/plain": [
       "          config_id   seconds\n",
       "12         openblas  1.617803\n",
       "36        mkl2024.0  1.400305\n",
       "28        mkl2020.0  1.369105\n",
       "20  mkl2020.0_debug  1.324003\n",
       "4   mkl2019.5_debug  1.252938"
      ]
     },
     "execution_count": 5,
     "metadata": {},
     "output_type": "execute_result"
    }
   ],
   "source": [
    "df_task = df[df[\"task_id\"] == \"svd\"]\n",
    "df_task[[\"config_id\", \"seconds\"]].sort_values(\"seconds\", ascending=False)"
   ]
  },
  {
   "cell_type": "markdown",
   "id": "fb4e7b10",
   "metadata": {},
   "source": [
    "### Eigendecomposition of a 2048x2048 matrix"
   ]
  },
  {
   "cell_type": "code",
   "execution_count": 6,
   "id": "9ef287f0",
   "metadata": {
    "execution": {
     "iopub.execute_input": "2024-02-24T08:06:22.725962Z",
     "iopub.status.busy": "2024-02-24T08:06:22.725854Z",
     "iopub.status.idle": "2024-02-24T08:06:22.733466Z",
     "shell.execute_reply": "2024-02-24T08:06:22.732834Z"
    }
   },
   "outputs": [
    {
     "data": {
      "text/html": [
       "<div>\n",
       "<style scoped>\n",
       "    .dataframe tbody tr th:only-of-type {\n",
       "        vertical-align: middle;\n",
       "    }\n",
       "\n",
       "    .dataframe tbody tr th {\n",
       "        vertical-align: top;\n",
       "    }\n",
       "\n",
       "    .dataframe thead th {\n",
       "        text-align: right;\n",
       "    }\n",
       "</style>\n",
       "<table border=\"1\" class=\"dataframe\">\n",
       "  <thead>\n",
       "    <tr style=\"text-align: right;\">\n",
       "      <th></th>\n",
       "      <th>config_id</th>\n",
       "      <th>seconds</th>\n",
       "    </tr>\n",
       "  </thead>\n",
       "  <tbody>\n",
       "    <tr>\n",
       "      <th>30</th>\n",
       "      <td>mkl2020.0</td>\n",
       "      <td>8.072297</td>\n",
       "    </tr>\n",
       "    <tr>\n",
       "      <th>14</th>\n",
       "      <td>openblas</td>\n",
       "      <td>7.824031</td>\n",
       "    </tr>\n",
       "    <tr>\n",
       "      <th>38</th>\n",
       "      <td>mkl2024.0</td>\n",
       "      <td>7.541875</td>\n",
       "    </tr>\n",
       "    <tr>\n",
       "      <th>22</th>\n",
       "      <td>mkl2020.0_debug</td>\n",
       "      <td>6.220846</td>\n",
       "    </tr>\n",
       "    <tr>\n",
       "      <th>6</th>\n",
       "      <td>mkl2019.5_debug</td>\n",
       "      <td>5.993702</td>\n",
       "    </tr>\n",
       "  </tbody>\n",
       "</table>\n",
       "</div>"
      ],
      "text/plain": [
       "          config_id   seconds\n",
       "30        mkl2020.0  8.072297\n",
       "14         openblas  7.824031\n",
       "38        mkl2024.0  7.541875\n",
       "22  mkl2020.0_debug  6.220846\n",
       "6   mkl2019.5_debug  5.993702"
      ]
     },
     "execution_count": 6,
     "metadata": {},
     "output_type": "execute_result"
    }
   ],
   "source": [
    "df_task = df[df[\"task_id\"] == \"evd\"]\n",
    "df_task[[\"config_id\", \"seconds\"]].sort_values(\"seconds\", ascending=False)"
   ]
  }
 ],
 "metadata": {
  "language_info": {
   "codemirror_mode": {
    "name": "ipython",
    "version": 3
   },
   "file_extension": ".py",
   "mimetype": "text/x-python",
   "name": "python",
   "nbconvert_exporter": "python",
   "pygments_lexer": "ipython3",
   "version": "3.8.18"
  }
 },
 "nbformat": 4,
 "nbformat_minor": 5
}
