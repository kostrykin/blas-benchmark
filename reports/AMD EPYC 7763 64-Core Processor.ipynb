{
 "cells": [
  {
   "cell_type": "markdown",
   "id": "e26f7f4a",
   "metadata": {},
   "source": [
    "# AMD EPYC 7763 64-Core Processor"
   ]
  },
  {
   "cell_type": "code",
   "execution_count": 1,
   "id": "dd535119",
   "metadata": {
    "execution": {
     "iopub.execute_input": "2024-02-24T07:28:33.596874Z",
     "iopub.status.busy": "2024-02-24T07:28:33.596425Z",
     "iopub.status.idle": "2024-02-24T07:28:33.744315Z",
     "shell.execute_reply": "2024-02-24T07:28:33.743704Z"
    }
   },
   "outputs": [],
   "source": [
    "import pandas as pd"
   ]
  },
  {
   "cell_type": "code",
   "execution_count": 2,
   "id": "8b4663bd",
   "metadata": {
    "execution": {
     "iopub.execute_input": "2024-02-24T07:28:33.746765Z",
     "iopub.status.busy": "2024-02-24T07:28:33.746605Z",
     "iopub.status.idle": "2024-02-24T07:28:33.751182Z",
     "shell.execute_reply": "2024-02-24T07:28:33.750645Z"
    }
   },
   "outputs": [],
   "source": [
    "df = pd.read_csv(\"results.csv\")\n",
    "df = df[df[\"cpu_name\"] == \"AMD EPYC 7763 64-Core Processor\"]"
   ]
  },
  {
   "cell_type": "markdown",
   "id": "2ea1250f",
   "metadata": {},
   "source": [
    "### Dotted two 4096x4096 matrices"
   ]
  },
  {
   "cell_type": "code",
   "execution_count": 3,
   "id": "05b102bf",
   "metadata": {
    "execution": {
     "iopub.execute_input": "2024-02-24T07:28:33.753311Z",
     "iopub.status.busy": "2024-02-24T07:28:33.753200Z",
     "iopub.status.idle": "2024-02-24T07:28:33.762877Z",
     "shell.execute_reply": "2024-02-24T07:28:33.762366Z"
    }
   },
   "outputs": [
    {
     "data": {
      "text/html": [
       "<div>\n",
       "<style scoped>\n",
       "    .dataframe tbody tr th:only-of-type {\n",
       "        vertical-align: middle;\n",
       "    }\n",
       "\n",
       "    .dataframe tbody tr th {\n",
       "        vertical-align: top;\n",
       "    }\n",
       "\n",
       "    .dataframe thead th {\n",
       "        text-align: right;\n",
       "    }\n",
       "</style>\n",
       "<table border=\"1\" class=\"dataframe\">\n",
       "  <thead>\n",
       "    <tr style=\"text-align: right;\">\n",
       "      <th></th>\n",
       "      <th>config_id</th>\n",
       "      <th>seconds</th>\n",
       "    </tr>\n",
       "  </thead>\n",
       "  <tbody>\n",
       "    <tr>\n",
       "      <th>40</th>\n",
       "      <td>mkl2024.0</td>\n",
       "      <td>3.254253</td>\n",
       "    </tr>\n",
       "    <tr>\n",
       "      <th>24</th>\n",
       "      <td>mkl2020.0_debug</td>\n",
       "      <td>3.249269</td>\n",
       "    </tr>\n",
       "    <tr>\n",
       "      <th>32</th>\n",
       "      <td>mkl2020.0</td>\n",
       "      <td>3.217958</td>\n",
       "    </tr>\n",
       "    <tr>\n",
       "      <th>16</th>\n",
       "      <td>openblas</td>\n",
       "      <td>3.177852</td>\n",
       "    </tr>\n",
       "    <tr>\n",
       "      <th>8</th>\n",
       "      <td>mkl2019.5_debug</td>\n",
       "      <td>3.061647</td>\n",
       "    </tr>\n",
       "  </tbody>\n",
       "</table>\n",
       "</div>"
      ],
      "text/plain": [
       "          config_id   seconds\n",
       "40        mkl2024.0  3.254253\n",
       "24  mkl2020.0_debug  3.249269\n",
       "32        mkl2020.0  3.217958\n",
       "16         openblas  3.177852\n",
       "8   mkl2019.5_debug  3.061647"
      ]
     },
     "execution_count": 3,
     "metadata": {},
     "output_type": "execute_result"
    }
   ],
   "source": [
    "df_task = df[df[\"task_id\"] == \"dot4096\"]\n",
    "df_task[[\"config_id\", \"seconds\"]].sort_values(\"seconds\", ascending=False)"
   ]
  },
  {
   "cell_type": "markdown",
   "id": "9a60d0b6",
   "metadata": {},
   "source": [
    "### Dotted two vectors of length 524288"
   ]
  },
  {
   "cell_type": "code",
   "execution_count": 4,
   "id": "eee881ef",
   "metadata": {
    "execution": {
     "iopub.execute_input": "2024-02-24T07:28:33.765056Z",
     "iopub.status.busy": "2024-02-24T07:28:33.764924Z",
     "iopub.status.idle": "2024-02-24T07:28:33.770387Z",
     "shell.execute_reply": "2024-02-24T07:28:33.769947Z"
    }
   },
   "outputs": [
    {
     "data": {
      "text/html": [
       "<div>\n",
       "<style scoped>\n",
       "    .dataframe tbody tr th:only-of-type {\n",
       "        vertical-align: middle;\n",
       "    }\n",
       "\n",
       "    .dataframe tbody tr th {\n",
       "        vertical-align: top;\n",
       "    }\n",
       "\n",
       "    .dataframe thead th {\n",
       "        text-align: right;\n",
       "    }\n",
       "</style>\n",
       "<table border=\"1\" class=\"dataframe\">\n",
       "  <thead>\n",
       "    <tr style=\"text-align: right;\">\n",
       "      <th></th>\n",
       "      <th>config_id</th>\n",
       "      <th>seconds</th>\n",
       "    </tr>\n",
       "  </thead>\n",
       "  <tbody>\n",
       "    <tr>\n",
       "      <th>26</th>\n",
       "      <td>mkl2020.0_debug</td>\n",
       "      <td>0.002293</td>\n",
       "    </tr>\n",
       "    <tr>\n",
       "      <th>18</th>\n",
       "      <td>openblas</td>\n",
       "      <td>0.000174</td>\n",
       "    </tr>\n",
       "    <tr>\n",
       "      <th>10</th>\n",
       "      <td>mkl2019.5_debug</td>\n",
       "      <td>0.000152</td>\n",
       "    </tr>\n",
       "    <tr>\n",
       "      <th>42</th>\n",
       "      <td>mkl2024.0</td>\n",
       "      <td>0.000150</td>\n",
       "    </tr>\n",
       "    <tr>\n",
       "      <th>34</th>\n",
       "      <td>mkl2020.0</td>\n",
       "      <td>0.000144</td>\n",
       "    </tr>\n",
       "  </tbody>\n",
       "</table>\n",
       "</div>"
      ],
      "text/plain": [
       "          config_id   seconds\n",
       "26  mkl2020.0_debug  0.002293\n",
       "18         openblas  0.000174\n",
       "10  mkl2019.5_debug  0.000152\n",
       "42        mkl2024.0  0.000150\n",
       "34        mkl2020.0  0.000144"
      ]
     },
     "execution_count": 4,
     "metadata": {},
     "output_type": "execute_result"
    }
   ],
   "source": [
    "df_task = df[df[\"task_id\"] == \"dot524288\"]\n",
    "df_task[[\"config_id\", \"seconds\"]].sort_values(\"seconds\", ascending=False)"
   ]
  },
  {
   "cell_type": "markdown",
   "id": "fdaa537c",
   "metadata": {},
   "source": [
    "### SVD of a 2048x1024 matrix"
   ]
  },
  {
   "cell_type": "code",
   "execution_count": 5,
   "id": "ffb590ec",
   "metadata": {
    "execution": {
     "iopub.execute_input": "2024-02-24T07:28:33.772865Z",
     "iopub.status.busy": "2024-02-24T07:28:33.772429Z",
     "iopub.status.idle": "2024-02-24T07:28:33.779188Z",
     "shell.execute_reply": "2024-02-24T07:28:33.778677Z"
    }
   },
   "outputs": [
    {
     "data": {
      "text/html": [
       "<div>\n",
       "<style scoped>\n",
       "    .dataframe tbody tr th:only-of-type {\n",
       "        vertical-align: middle;\n",
       "    }\n",
       "\n",
       "    .dataframe tbody tr th {\n",
       "        vertical-align: top;\n",
       "    }\n",
       "\n",
       "    .dataframe thead th {\n",
       "        text-align: right;\n",
       "    }\n",
       "</style>\n",
       "<table border=\"1\" class=\"dataframe\">\n",
       "  <thead>\n",
       "    <tr style=\"text-align: right;\">\n",
       "      <th></th>\n",
       "      <th>config_id</th>\n",
       "      <th>seconds</th>\n",
       "    </tr>\n",
       "  </thead>\n",
       "  <tbody>\n",
       "    <tr>\n",
       "      <th>12</th>\n",
       "      <td>openblas</td>\n",
       "      <td>1.617803</td>\n",
       "    </tr>\n",
       "    <tr>\n",
       "      <th>36</th>\n",
       "      <td>mkl2024.0</td>\n",
       "      <td>1.400305</td>\n",
       "    </tr>\n",
       "    <tr>\n",
       "      <th>28</th>\n",
       "      <td>mkl2020.0</td>\n",
       "      <td>1.369105</td>\n",
       "    </tr>\n",
       "    <tr>\n",
       "      <th>20</th>\n",
       "      <td>mkl2020.0_debug</td>\n",
       "      <td>1.324003</td>\n",
       "    </tr>\n",
       "    <tr>\n",
       "      <th>4</th>\n",
       "      <td>mkl2019.5_debug</td>\n",
       "      <td>1.252938</td>\n",
       "    </tr>\n",
       "  </tbody>\n",
       "</table>\n",
       "</div>"
      ],
      "text/plain": [
       "          config_id   seconds\n",
       "12         openblas  1.617803\n",
       "36        mkl2024.0  1.400305\n",
       "28        mkl2020.0  1.369105\n",
       "20  mkl2020.0_debug  1.324003\n",
       "4   mkl2019.5_debug  1.252938"
      ]
     },
     "execution_count": 5,
     "metadata": {},
     "output_type": "execute_result"
    }
   ],
   "source": [
    "df_task = df[df[\"task_id\"] == \"svd\"]\n",
    "df_task[[\"config_id\", \"seconds\"]].sort_values(\"seconds\", ascending=False)"
   ]
  },
  {
   "cell_type": "markdown",
   "id": "c53e8f73",
   "metadata": {},
   "source": [
    "### Eigendecomposition of a 2048x2048 matrix"
   ]
  },
  {
   "cell_type": "code",
   "execution_count": 6,
   "id": "55c767b2",
   "metadata": {
    "execution": {
     "iopub.execute_input": "2024-02-24T07:28:33.781502Z",
     "iopub.status.busy": "2024-02-24T07:28:33.781040Z",
     "iopub.status.idle": "2024-02-24T07:28:33.787879Z",
     "shell.execute_reply": "2024-02-24T07:28:33.787357Z"
    }
   },
   "outputs": [
    {
     "data": {
      "text/html": [
       "<div>\n",
       "<style scoped>\n",
       "    .dataframe tbody tr th:only-of-type {\n",
       "        vertical-align: middle;\n",
       "    }\n",
       "\n",
       "    .dataframe tbody tr th {\n",
       "        vertical-align: top;\n",
       "    }\n",
       "\n",
       "    .dataframe thead th {\n",
       "        text-align: right;\n",
       "    }\n",
       "</style>\n",
       "<table border=\"1\" class=\"dataframe\">\n",
       "  <thead>\n",
       "    <tr style=\"text-align: right;\">\n",
       "      <th></th>\n",
       "      <th>config_id</th>\n",
       "      <th>seconds</th>\n",
       "    </tr>\n",
       "  </thead>\n",
       "  <tbody>\n",
       "    <tr>\n",
       "      <th>30</th>\n",
       "      <td>mkl2020.0</td>\n",
       "      <td>8.072297</td>\n",
       "    </tr>\n",
       "    <tr>\n",
       "      <th>14</th>\n",
       "      <td>openblas</td>\n",
       "      <td>7.824031</td>\n",
       "    </tr>\n",
       "    <tr>\n",
       "      <th>38</th>\n",
       "      <td>mkl2024.0</td>\n",
       "      <td>7.541875</td>\n",
       "    </tr>\n",
       "    <tr>\n",
       "      <th>22</th>\n",
       "      <td>mkl2020.0_debug</td>\n",
       "      <td>6.220846</td>\n",
       "    </tr>\n",
       "    <tr>\n",
       "      <th>6</th>\n",
       "      <td>mkl2019.5_debug</td>\n",
       "      <td>5.993702</td>\n",
       "    </tr>\n",
       "  </tbody>\n",
       "</table>\n",
       "</div>"
      ],
      "text/plain": [
       "          config_id   seconds\n",
       "30        mkl2020.0  8.072297\n",
       "14         openblas  7.824031\n",
       "38        mkl2024.0  7.541875\n",
       "22  mkl2020.0_debug  6.220846\n",
       "6   mkl2019.5_debug  5.993702"
      ]
     },
     "execution_count": 6,
     "metadata": {},
     "output_type": "execute_result"
    }
   ],
   "source": [
    "df_task = df[df[\"task_id\"] == \"evd\"]\n",
    "df_task[[\"config_id\", \"seconds\"]].sort_values(\"seconds\", ascending=False)"
   ]
  }
 ],
 "metadata": {
  "language_info": {
   "codemirror_mode": {
    "name": "ipython",
    "version": 3
   },
   "file_extension": ".py",
   "mimetype": "text/x-python",
   "name": "python",
   "nbconvert_exporter": "python",
   "pygments_lexer": "ipython3",
   "version": "3.8.18"
  }
 },
 "nbformat": 4,
 "nbformat_minor": 5
}
