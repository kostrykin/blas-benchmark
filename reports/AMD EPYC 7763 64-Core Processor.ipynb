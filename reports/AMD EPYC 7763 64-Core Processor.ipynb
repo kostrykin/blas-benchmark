{
 "cells": [
  {
   "cell_type": "markdown",
   "id": "29bae018",
   "metadata": {},
   "source": [
    "# AMD EPYC 7763 64-Core Processor"
   ]
  },
  {
   "cell_type": "code",
   "execution_count": 1,
   "id": "f2244484",
   "metadata": {
    "execution": {
     "iopub.execute_input": "2024-02-24T19:22:52.839319Z",
     "iopub.status.busy": "2024-02-24T19:22:52.838929Z",
     "iopub.status.idle": "2024-02-24T19:22:52.987629Z",
     "shell.execute_reply": "2024-02-24T19:22:52.987032Z"
    }
   },
   "outputs": [],
   "source": [
    "import pandas as pd\n",
    "import numpy as np"
   ]
  },
  {
   "cell_type": "code",
   "execution_count": 2,
   "id": "a8e670a6",
   "metadata": {
    "execution": {
     "iopub.execute_input": "2024-02-24T19:22:52.989650Z",
     "iopub.status.busy": "2024-02-24T19:22:52.989494Z",
     "iopub.status.idle": "2024-02-24T19:22:52.994012Z",
     "shell.execute_reply": "2024-02-24T19:22:52.993476Z"
    }
   },
   "outputs": [],
   "source": [
    "df = pd.read_csv(\"results.csv\")\n",
    "df = df[df[\"cpu_name\"] == \"AMD EPYC 7763 64-Core Processor\"]"
   ]
  },
  {
   "cell_type": "code",
   "execution_count": 3,
   "id": "b8a4eec0",
   "metadata": {
    "execution": {
     "iopub.execute_input": "2024-02-24T19:22:52.996456Z",
     "iopub.status.busy": "2024-02-24T19:22:52.995974Z",
     "iopub.status.idle": "2024-02-24T19:22:53.014263Z",
     "shell.execute_reply": "2024-02-24T19:22:53.013791Z"
    }
   },
   "outputs": [
    {
     "data": {
      "text/html": [
       "<div>\n",
       "<style scoped>\n",
       "    .dataframe tbody tr th:only-of-type {\n",
       "        vertical-align: middle;\n",
       "    }\n",
       "\n",
       "    .dataframe tbody tr th {\n",
       "        vertical-align: top;\n",
       "    }\n",
       "\n",
       "    .dataframe thead th {\n",
       "        text-align: right;\n",
       "    }\n",
       "</style>\n",
       "<table border=\"1\" class=\"dataframe\">\n",
       "  <thead>\n",
       "    <tr style=\"text-align: right;\">\n",
       "      <th></th>\n",
       "      <th>config_id</th>\n",
       "      <th>score</th>\n",
       "    </tr>\n",
       "  </thead>\n",
       "  <tbody>\n",
       "    <tr>\n",
       "      <th>0</th>\n",
       "      <td>mkl2020.1_fakeintel</td>\n",
       "      <td>0.424446</td>\n",
       "    </tr>\n",
       "    <tr>\n",
       "      <th>1</th>\n",
       "      <td>mkl2019.5_debug</td>\n",
       "      <td>0.420667</td>\n",
       "    </tr>\n",
       "    <tr>\n",
       "      <th>3</th>\n",
       "      <td>mkl2020.0_debug</td>\n",
       "      <td>0.419254</td>\n",
       "    </tr>\n",
       "    <tr>\n",
       "      <th>5</th>\n",
       "      <td>mkl2024.0</td>\n",
       "      <td>0.266082</td>\n",
       "    </tr>\n",
       "    <tr>\n",
       "      <th>4</th>\n",
       "      <td>mkl2020.0</td>\n",
       "      <td>0.251971</td>\n",
       "    </tr>\n",
       "    <tr>\n",
       "      <th>2</th>\n",
       "      <td>openblas</td>\n",
       "      <td>0.209822</td>\n",
       "    </tr>\n",
       "  </tbody>\n",
       "</table>\n",
       "</div>"
      ],
      "text/plain": [
       "             config_id     score\n",
       "0  mkl2020.1_fakeintel  0.424446\n",
       "1      mkl2019.5_debug  0.420667\n",
       "3      mkl2020.0_debug  0.419254\n",
       "5            mkl2024.0  0.266082\n",
       "4            mkl2020.0  0.251971\n",
       "2             openblas  0.209822"
      ]
     },
     "execution_count": 3,
     "metadata": {},
     "output_type": "execute_result"
    }
   ],
   "source": [
    "configs = df[\"config_id\"].unique()\n",
    "scores = {config_id: list() for config_id in configs}\n",
    "for task_id in df[\"task_id\"].unique():\n",
    "    df_task = df[df[\"task_id\"] == task_id]\n",
    "    for config_id in configs:\n",
    "        config_seconds = df_task[df_task[\"config_id\"] == config_id][\"seconds\"].min()\n",
    "        ref_seconds = df_task[\"seconds\"].max()\n",
    "        max_speedup = ref_seconds / config_seconds\n",
    "        scores[config_id].append(max_speedup)\n",
    "mean_scores = {config_id: np.prod(scores[config_id]) / len(scores[config_id])}\n",
    "mean_scores = [np.prod(scores[config_id]) / len(scores[config_id]) for config_id in configs]\n",
    "df_scores = pd.DataFrame.from_dict(dict(config_id=configs, score=mean_scores))\n",
    "df_scores.sort_values(\"score\", ascending=False)"
   ]
  },
  {
   "cell_type": "markdown",
   "id": "476642c3",
   "metadata": {},
   "source": [
    "### Dotted two 4096x4096 matrices"
   ]
  },
  {
   "cell_type": "code",
   "execution_count": 4,
   "id": "0d7f1011",
   "metadata": {
    "execution": {
     "iopub.execute_input": "2024-02-24T19:22:53.016528Z",
     "iopub.status.busy": "2024-02-24T19:22:53.016399Z",
     "iopub.status.idle": "2024-02-24T19:22:53.022045Z",
     "shell.execute_reply": "2024-02-24T19:22:53.021525Z"
    }
   },
   "outputs": [
    {
     "data": {
      "text/html": [
       "<div>\n",
       "<style scoped>\n",
       "    .dataframe tbody tr th:only-of-type {\n",
       "        vertical-align: middle;\n",
       "    }\n",
       "\n",
       "    .dataframe tbody tr th {\n",
       "        vertical-align: top;\n",
       "    }\n",
       "\n",
       "    .dataframe thead th {\n",
       "        text-align: right;\n",
       "    }\n",
       "</style>\n",
       "<table border=\"1\" class=\"dataframe\">\n",
       "  <thead>\n",
       "    <tr style=\"text-align: right;\">\n",
       "      <th></th>\n",
       "      <th>config_id</th>\n",
       "      <th>seconds</th>\n",
       "    </tr>\n",
       "  </thead>\n",
       "  <tbody>\n",
       "    <tr>\n",
       "      <th>46</th>\n",
       "      <td>mkl2020.0</td>\n",
       "      <td>3.181888</td>\n",
       "    </tr>\n",
       "    <tr>\n",
       "      <th>56</th>\n",
       "      <td>mkl2024.0</td>\n",
       "      <td>3.179767</td>\n",
       "    </tr>\n",
       "    <tr>\n",
       "      <th>26</th>\n",
       "      <td>openblas</td>\n",
       "      <td>3.178720</td>\n",
       "    </tr>\n",
       "    <tr>\n",
       "      <th>36</th>\n",
       "      <td>mkl2020.0_debug</td>\n",
       "      <td>3.085924</td>\n",
       "    </tr>\n",
       "    <tr>\n",
       "      <th>16</th>\n",
       "      <td>mkl2019.5_debug</td>\n",
       "      <td>3.060314</td>\n",
       "    </tr>\n",
       "    <tr>\n",
       "      <th>6</th>\n",
       "      <td>mkl2020.1_fakeintel</td>\n",
       "      <td>3.048538</td>\n",
       "    </tr>\n",
       "  </tbody>\n",
       "</table>\n",
       "</div>"
      ],
      "text/plain": [
       "              config_id   seconds\n",
       "46            mkl2020.0  3.181888\n",
       "56            mkl2024.0  3.179767\n",
       "26             openblas  3.178720\n",
       "36      mkl2020.0_debug  3.085924\n",
       "16      mkl2019.5_debug  3.060314\n",
       "6   mkl2020.1_fakeintel  3.048538"
      ]
     },
     "execution_count": 4,
     "metadata": {},
     "output_type": "execute_result"
    }
   ],
   "source": [
    "df_task = df[df[\"task_id\"] == \"dot4096\"]\n",
    "df_task[[\"config_id\", \"seconds\"]].sort_values(\"seconds\", ascending=False)"
   ]
  },
  {
   "cell_type": "markdown",
   "id": "17ab8e10",
   "metadata": {},
   "source": [
    "### Dotted two vectors of length 524288"
   ]
  },
  {
   "cell_type": "code",
   "execution_count": 5,
   "id": "85ea3bf6",
   "metadata": {
    "execution": {
     "iopub.execute_input": "2024-02-24T19:22:53.024348Z",
     "iopub.status.busy": "2024-02-24T19:22:53.023984Z",
     "iopub.status.idle": "2024-02-24T19:22:53.030722Z",
     "shell.execute_reply": "2024-02-24T19:22:53.030202Z"
    }
   },
   "outputs": [
    {
     "data": {
      "text/html": [
       "<div>\n",
       "<style scoped>\n",
       "    .dataframe tbody tr th:only-of-type {\n",
       "        vertical-align: middle;\n",
       "    }\n",
       "\n",
       "    .dataframe tbody tr th {\n",
       "        vertical-align: top;\n",
       "    }\n",
       "\n",
       "    .dataframe thead th {\n",
       "        text-align: right;\n",
       "    }\n",
       "</style>\n",
       "<table border=\"1\" class=\"dataframe\">\n",
       "  <thead>\n",
       "    <tr style=\"text-align: right;\">\n",
       "      <th></th>\n",
       "      <th>config_id</th>\n",
       "      <th>seconds</th>\n",
       "    </tr>\n",
       "  </thead>\n",
       "  <tbody>\n",
       "    <tr>\n",
       "      <th>28</th>\n",
       "      <td>openblas</td>\n",
       "      <td>0.000301</td>\n",
       "    </tr>\n",
       "    <tr>\n",
       "      <th>58</th>\n",
       "      <td>mkl2024.0</td>\n",
       "      <td>0.000280</td>\n",
       "    </tr>\n",
       "    <tr>\n",
       "      <th>48</th>\n",
       "      <td>mkl2020.0</td>\n",
       "      <td>0.000277</td>\n",
       "    </tr>\n",
       "    <tr>\n",
       "      <th>18</th>\n",
       "      <td>mkl2019.5_debug</td>\n",
       "      <td>0.000271</td>\n",
       "    </tr>\n",
       "    <tr>\n",
       "      <th>8</th>\n",
       "      <td>mkl2020.1_fakeintel</td>\n",
       "      <td>0.000270</td>\n",
       "    </tr>\n",
       "    <tr>\n",
       "      <th>38</th>\n",
       "      <td>mkl2020.0_debug</td>\n",
       "      <td>0.000270</td>\n",
       "    </tr>\n",
       "  </tbody>\n",
       "</table>\n",
       "</div>"
      ],
      "text/plain": [
       "              config_id   seconds\n",
       "28             openblas  0.000301\n",
       "58            mkl2024.0  0.000280\n",
       "48            mkl2020.0  0.000277\n",
       "18      mkl2019.5_debug  0.000271\n",
       "8   mkl2020.1_fakeintel  0.000270\n",
       "38      mkl2020.0_debug  0.000270"
      ]
     },
     "execution_count": 5,
     "metadata": {},
     "output_type": "execute_result"
    }
   ],
   "source": [
    "df_task = df[df[\"task_id\"] == \"dot524288\"]\n",
    "df_task[[\"config_id\", \"seconds\"]].sort_values(\"seconds\", ascending=False)"
   ]
  },
  {
   "cell_type": "markdown",
   "id": "9b7d70ec",
   "metadata": {},
   "source": [
    "### SVD of a 2048x1024 matrix"
   ]
  },
  {
   "cell_type": "code",
   "execution_count": 6,
   "id": "067e53a4",
   "metadata": {
    "execution": {
     "iopub.execute_input": "2024-02-24T19:22:53.032790Z",
     "iopub.status.busy": "2024-02-24T19:22:53.032628Z",
     "iopub.status.idle": "2024-02-24T19:22:53.039443Z",
     "shell.execute_reply": "2024-02-24T19:22:53.038929Z"
    }
   },
   "outputs": [
    {
     "data": {
      "text/html": [
       "<div>\n",
       "<style scoped>\n",
       "    .dataframe tbody tr th:only-of-type {\n",
       "        vertical-align: middle;\n",
       "    }\n",
       "\n",
       "    .dataframe tbody tr th {\n",
       "        vertical-align: top;\n",
       "    }\n",
       "\n",
       "    .dataframe thead th {\n",
       "        text-align: right;\n",
       "    }\n",
       "</style>\n",
       "<table border=\"1\" class=\"dataframe\">\n",
       "  <thead>\n",
       "    <tr style=\"text-align: right;\">\n",
       "      <th></th>\n",
       "      <th>config_id</th>\n",
       "      <th>seconds</th>\n",
       "    </tr>\n",
       "  </thead>\n",
       "  <tbody>\n",
       "    <tr>\n",
       "      <th>20</th>\n",
       "      <td>openblas</td>\n",
       "      <td>1.570393</td>\n",
       "    </tr>\n",
       "    <tr>\n",
       "      <th>50</th>\n",
       "      <td>mkl2024.0</td>\n",
       "      <td>1.377880</td>\n",
       "    </tr>\n",
       "    <tr>\n",
       "      <th>40</th>\n",
       "      <td>mkl2020.0</td>\n",
       "      <td>1.359779</td>\n",
       "    </tr>\n",
       "    <tr>\n",
       "      <th>10</th>\n",
       "      <td>mkl2019.5_debug</td>\n",
       "      <td>1.210544</td>\n",
       "    </tr>\n",
       "    <tr>\n",
       "      <th>0</th>\n",
       "      <td>mkl2020.1_fakeintel</td>\n",
       "      <td>1.203953</td>\n",
       "    </tr>\n",
       "    <tr>\n",
       "      <th>30</th>\n",
       "      <td>mkl2020.0_debug</td>\n",
       "      <td>1.202698</td>\n",
       "    </tr>\n",
       "  </tbody>\n",
       "</table>\n",
       "</div>"
      ],
      "text/plain": [
       "              config_id   seconds\n",
       "20             openblas  1.570393\n",
       "50            mkl2024.0  1.377880\n",
       "40            mkl2020.0  1.359779\n",
       "10      mkl2019.5_debug  1.210544\n",
       "0   mkl2020.1_fakeintel  1.203953\n",
       "30      mkl2020.0_debug  1.202698"
      ]
     },
     "execution_count": 6,
     "metadata": {},
     "output_type": "execute_result"
    }
   ],
   "source": [
    "df_task = df[df[\"task_id\"] == \"svd\"]\n",
    "df_task[[\"config_id\", \"seconds\"]].sort_values(\"seconds\", ascending=False)"
   ]
  },
  {
   "cell_type": "markdown",
   "id": "14dc91b3",
   "metadata": {},
   "source": [
    "### Eigendecomposition of a 2048x2048 matrix"
   ]
  },
  {
   "cell_type": "code",
   "execution_count": 7,
   "id": "fcdfe8b8",
   "metadata": {
    "execution": {
     "iopub.execute_input": "2024-02-24T19:22:53.041672Z",
     "iopub.status.busy": "2024-02-24T19:22:53.041251Z",
     "iopub.status.idle": "2024-02-24T19:22:53.048055Z",
     "shell.execute_reply": "2024-02-24T19:22:53.047538Z"
    }
   },
   "outputs": [
    {
     "data": {
      "text/html": [
       "<div>\n",
       "<style scoped>\n",
       "    .dataframe tbody tr th:only-of-type {\n",
       "        vertical-align: middle;\n",
       "    }\n",
       "\n",
       "    .dataframe tbody tr th {\n",
       "        vertical-align: top;\n",
       "    }\n",
       "\n",
       "    .dataframe thead th {\n",
       "        text-align: right;\n",
       "    }\n",
       "</style>\n",
       "<table border=\"1\" class=\"dataframe\">\n",
       "  <thead>\n",
       "    <tr style=\"text-align: right;\">\n",
       "      <th></th>\n",
       "      <th>config_id</th>\n",
       "      <th>seconds</th>\n",
       "    </tr>\n",
       "  </thead>\n",
       "  <tbody>\n",
       "    <tr>\n",
       "      <th>42</th>\n",
       "      <td>mkl2020.0</td>\n",
       "      <td>8.009610</td>\n",
       "    </tr>\n",
       "    <tr>\n",
       "      <th>22</th>\n",
       "      <td>openblas</td>\n",
       "      <td>7.642267</td>\n",
       "    </tr>\n",
       "    <tr>\n",
       "      <th>52</th>\n",
       "      <td>mkl2024.0</td>\n",
       "      <td>7.449068</td>\n",
       "    </tr>\n",
       "    <tr>\n",
       "      <th>12</th>\n",
       "      <td>mkl2019.5_debug</td>\n",
       "      <td>5.734832</td>\n",
       "    </tr>\n",
       "    <tr>\n",
       "      <th>32</th>\n",
       "      <td>mkl2020.0_debug</td>\n",
       "      <td>5.729027</td>\n",
       "    </tr>\n",
       "    <tr>\n",
       "      <th>2</th>\n",
       "      <td>mkl2020.1_fakeintel</td>\n",
       "      <td>5.722131</td>\n",
       "    </tr>\n",
       "  </tbody>\n",
       "</table>\n",
       "</div>"
      ],
      "text/plain": [
       "              config_id   seconds\n",
       "42            mkl2020.0  8.009610\n",
       "22             openblas  7.642267\n",
       "52            mkl2024.0  7.449068\n",
       "12      mkl2019.5_debug  5.734832\n",
       "32      mkl2020.0_debug  5.729027\n",
       "2   mkl2020.1_fakeintel  5.722131"
      ]
     },
     "execution_count": 7,
     "metadata": {},
     "output_type": "execute_result"
    }
   ],
   "source": [
    "df_task = df[df[\"task_id\"] == \"evd\"]\n",
    "df_task[[\"config_id\", \"seconds\"]].sort_values(\"seconds\", ascending=False)"
   ]
  },
  {
   "cell_type": "markdown",
   "id": "c8b9b86e",
   "metadata": {},
   "source": [
    "### Convex programming (logistic regression)"
   ]
  },
  {
   "cell_type": "code",
   "execution_count": 8,
   "id": "845de87f",
   "metadata": {
    "execution": {
     "iopub.execute_input": "2024-02-24T19:22:53.050220Z",
     "iopub.status.busy": "2024-02-24T19:22:53.049898Z",
     "iopub.status.idle": "2024-02-24T19:22:53.056630Z",
     "shell.execute_reply": "2024-02-24T19:22:53.056112Z"
    }
   },
   "outputs": [
    {
     "data": {
      "text/html": [
       "<div>\n",
       "<style scoped>\n",
       "    .dataframe tbody tr th:only-of-type {\n",
       "        vertical-align: middle;\n",
       "    }\n",
       "\n",
       "    .dataframe tbody tr th {\n",
       "        vertical-align: top;\n",
       "    }\n",
       "\n",
       "    .dataframe thead th {\n",
       "        text-align: right;\n",
       "    }\n",
       "</style>\n",
       "<table border=\"1\" class=\"dataframe\">\n",
       "  <thead>\n",
       "    <tr style=\"text-align: right;\">\n",
       "      <th></th>\n",
       "      <th>config_id</th>\n",
       "      <th>seconds</th>\n",
       "    </tr>\n",
       "  </thead>\n",
       "  <tbody>\n",
       "    <tr>\n",
       "      <th>24</th>\n",
       "      <td>openblas</td>\n",
       "      <td>3.762647</td>\n",
       "    </tr>\n",
       "    <tr>\n",
       "      <th>34</th>\n",
       "      <td>mkl2020.0_debug</td>\n",
       "      <td>3.762130</td>\n",
       "    </tr>\n",
       "    <tr>\n",
       "      <th>4</th>\n",
       "      <td>mkl2020.1_fakeintel</td>\n",
       "      <td>3.757096</td>\n",
       "    </tr>\n",
       "    <tr>\n",
       "      <th>44</th>\n",
       "      <td>mkl2020.0</td>\n",
       "      <td>3.743234</td>\n",
       "    </tr>\n",
       "    <tr>\n",
       "      <th>14</th>\n",
       "      <td>mkl2019.5_debug</td>\n",
       "      <td>3.737027</td>\n",
       "    </tr>\n",
       "    <tr>\n",
       "      <th>54</th>\n",
       "      <td>mkl2024.0</td>\n",
       "      <td>3.723070</td>\n",
       "    </tr>\n",
       "  </tbody>\n",
       "</table>\n",
       "</div>"
      ],
      "text/plain": [
       "              config_id   seconds\n",
       "24             openblas  3.762647\n",
       "34      mkl2020.0_debug  3.762130\n",
       "4   mkl2020.1_fakeintel  3.757096\n",
       "44            mkl2020.0  3.743234\n",
       "14      mkl2019.5_debug  3.737027\n",
       "54            mkl2024.0  3.723070"
      ]
     },
     "execution_count": 8,
     "metadata": {},
     "output_type": "execute_result"
    }
   ],
   "source": [
    "df_task = df[df[\"task_id\"] == \"cvxprog\"]\n",
    "df_task[[\"config_id\", \"seconds\"]].sort_values(\"seconds\", ascending=False)"
   ]
  }
 ],
 "metadata": {
  "language_info": {
   "codemirror_mode": {
    "name": "ipython",
    "version": 3
   },
   "file_extension": ".py",
   "mimetype": "text/x-python",
   "name": "python",
   "nbconvert_exporter": "python",
   "pygments_lexer": "ipython3",
   "version": "3.8.18"
  }
 },
 "nbformat": 4,
 "nbformat_minor": 5
}
