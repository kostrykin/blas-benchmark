{
 "cells": [
  {
   "cell_type": "markdown",
   "id": "584f6764",
   "metadata": {},
   "source": [
    "# AMD EPYC 7763 64-Core Processor"
   ]
  },
  {
   "cell_type": "code",
   "execution_count": 1,
   "id": "7c39dcd8",
   "metadata": {
    "execution": {
     "iopub.execute_input": "2024-02-24T15:07:29.130424Z",
     "iopub.status.busy": "2024-02-24T15:07:29.129892Z",
     "iopub.status.idle": "2024-02-24T15:07:29.491250Z",
     "shell.execute_reply": "2024-02-24T15:07:29.490305Z"
    }
   },
   "outputs": [],
   "source": [
    "import pandas as pd"
   ]
  },
  {
   "cell_type": "code",
   "execution_count": 2,
   "id": "cf5de7a5",
   "metadata": {
    "execution": {
     "iopub.execute_input": "2024-02-24T15:07:29.505375Z",
     "iopub.status.busy": "2024-02-24T15:07:29.503449Z",
     "iopub.status.idle": "2024-02-24T15:07:29.515354Z",
     "shell.execute_reply": "2024-02-24T15:07:29.514561Z"
    }
   },
   "outputs": [],
   "source": [
    "df = pd.read_csv(\"results.csv\")\n",
    "df = df[df[\"cpu_name\"] == \"AMD EPYC 7763 64-Core Processor\"]"
   ]
  },
  {
   "cell_type": "markdown",
   "id": "a59848a0",
   "metadata": {},
   "source": [
    "### Dotted two 4096x4096 matrices"
   ]
  },
  {
   "cell_type": "code",
   "execution_count": 3,
   "id": "7b598b20",
   "metadata": {
    "execution": {
     "iopub.execute_input": "2024-02-24T15:07:29.528025Z",
     "iopub.status.busy": "2024-02-24T15:07:29.524693Z",
     "iopub.status.idle": "2024-02-24T15:07:29.583063Z",
     "shell.execute_reply": "2024-02-24T15:07:29.581124Z"
    }
   },
   "outputs": [
    {
     "data": {
      "text/html": [
       "<div>\n",
       "<style scoped>\n",
       "    .dataframe tbody tr th:only-of-type {\n",
       "        vertical-align: middle;\n",
       "    }\n",
       "\n",
       "    .dataframe tbody tr th {\n",
       "        vertical-align: top;\n",
       "    }\n",
       "\n",
       "    .dataframe thead th {\n",
       "        text-align: right;\n",
       "    }\n",
       "</style>\n",
       "<table border=\"1\" class=\"dataframe\">\n",
       "  <thead>\n",
       "    <tr style=\"text-align: right;\">\n",
       "      <th></th>\n",
       "      <th>config_id</th>\n",
       "      <th>seconds</th>\n",
       "    </tr>\n",
       "  </thead>\n",
       "  <tbody>\n",
       "    <tr>\n",
       "      <th>4</th>\n",
       "      <td>mkl2020.0</td>\n",
       "      <td>3.181888</td>\n",
       "    </tr>\n",
       "    <tr>\n",
       "      <th>14</th>\n",
       "      <td>mkl2024.0</td>\n",
       "      <td>3.179767</td>\n",
       "    </tr>\n",
       "    <tr>\n",
       "      <th>24</th>\n",
       "      <td>openblas</td>\n",
       "      <td>3.178720</td>\n",
       "    </tr>\n",
       "    <tr>\n",
       "      <th>54</th>\n",
       "      <td>mkl2020.0_debug</td>\n",
       "      <td>3.085924</td>\n",
       "    </tr>\n",
       "    <tr>\n",
       "      <th>44</th>\n",
       "      <td>mkl2019.5_debug</td>\n",
       "      <td>3.060314</td>\n",
       "    </tr>\n",
       "    <tr>\n",
       "      <th>34</th>\n",
       "      <td>mkl2020.1_fakeintel</td>\n",
       "      <td>3.048538</td>\n",
       "    </tr>\n",
       "  </tbody>\n",
       "</table>\n",
       "</div>"
      ],
      "text/plain": [
       "              config_id   seconds\n",
       "4             mkl2020.0  3.181888\n",
       "14            mkl2024.0  3.179767\n",
       "24             openblas  3.178720\n",
       "54      mkl2020.0_debug  3.085924\n",
       "44      mkl2019.5_debug  3.060314\n",
       "34  mkl2020.1_fakeintel  3.048538"
      ]
     },
     "execution_count": 3,
     "metadata": {},
     "output_type": "execute_result"
    }
   ],
   "source": [
    "df_task = df[df[\"task_id\"] == \"dot4096\"]\n",
    "df_task[[\"config_id\", \"seconds\"]].sort_values(\"seconds\", ascending=False)"
   ]
  },
  {
   "cell_type": "markdown",
   "id": "0038f338",
   "metadata": {},
   "source": [
    "### Dotted two vectors of length 524288"
   ]
  },
  {
   "cell_type": "code",
   "execution_count": 4,
   "id": "3847456d",
   "metadata": {
    "execution": {
     "iopub.execute_input": "2024-02-24T15:07:29.592780Z",
     "iopub.status.busy": "2024-02-24T15:07:29.589419Z",
     "iopub.status.idle": "2024-02-24T15:07:29.603671Z",
     "shell.execute_reply": "2024-02-24T15:07:29.602937Z"
    }
   },
   "outputs": [
    {
     "data": {
      "text/html": [
       "<div>\n",
       "<style scoped>\n",
       "    .dataframe tbody tr th:only-of-type {\n",
       "        vertical-align: middle;\n",
       "    }\n",
       "\n",
       "    .dataframe tbody tr th {\n",
       "        vertical-align: top;\n",
       "    }\n",
       "\n",
       "    .dataframe thead th {\n",
       "        text-align: right;\n",
       "    }\n",
       "</style>\n",
       "<table border=\"1\" class=\"dataframe\">\n",
       "  <thead>\n",
       "    <tr style=\"text-align: right;\">\n",
       "      <th></th>\n",
       "      <th>config_id</th>\n",
       "      <th>seconds</th>\n",
       "    </tr>\n",
       "  </thead>\n",
       "  <tbody>\n",
       "    <tr>\n",
       "      <th>20</th>\n",
       "      <td>openblas</td>\n",
       "      <td>0.000301</td>\n",
       "    </tr>\n",
       "    <tr>\n",
       "      <th>10</th>\n",
       "      <td>mkl2024.0</td>\n",
       "      <td>0.000280</td>\n",
       "    </tr>\n",
       "    <tr>\n",
       "      <th>0</th>\n",
       "      <td>mkl2020.0</td>\n",
       "      <td>0.000277</td>\n",
       "    </tr>\n",
       "    <tr>\n",
       "      <th>40</th>\n",
       "      <td>mkl2019.5_debug</td>\n",
       "      <td>0.000271</td>\n",
       "    </tr>\n",
       "    <tr>\n",
       "      <th>30</th>\n",
       "      <td>mkl2020.1_fakeintel</td>\n",
       "      <td>0.000270</td>\n",
       "    </tr>\n",
       "    <tr>\n",
       "      <th>50</th>\n",
       "      <td>mkl2020.0_debug</td>\n",
       "      <td>0.000270</td>\n",
       "    </tr>\n",
       "  </tbody>\n",
       "</table>\n",
       "</div>"
      ],
      "text/plain": [
       "              config_id   seconds\n",
       "20             openblas  0.000301\n",
       "10            mkl2024.0  0.000280\n",
       "0             mkl2020.0  0.000277\n",
       "40      mkl2019.5_debug  0.000271\n",
       "30  mkl2020.1_fakeintel  0.000270\n",
       "50      mkl2020.0_debug  0.000270"
      ]
     },
     "execution_count": 4,
     "metadata": {},
     "output_type": "execute_result"
    }
   ],
   "source": [
    "df_task = df[df[\"task_id\"] == \"dot524288\"]\n",
    "df_task[[\"config_id\", \"seconds\"]].sort_values(\"seconds\", ascending=False)"
   ]
  },
  {
   "cell_type": "markdown",
   "id": "7ebc8af2",
   "metadata": {},
   "source": [
    "### SVD of a 2048x1024 matrix"
   ]
  },
  {
   "cell_type": "code",
   "execution_count": 5,
   "id": "aac30d08",
   "metadata": {
    "execution": {
     "iopub.execute_input": "2024-02-24T15:07:29.606497Z",
     "iopub.status.busy": "2024-02-24T15:07:29.606042Z",
     "iopub.status.idle": "2024-02-24T15:07:29.614637Z",
     "shell.execute_reply": "2024-02-24T15:07:29.613796Z"
    }
   },
   "outputs": [
    {
     "data": {
      "text/html": [
       "<div>\n",
       "<style scoped>\n",
       "    .dataframe tbody tr th:only-of-type {\n",
       "        vertical-align: middle;\n",
       "    }\n",
       "\n",
       "    .dataframe tbody tr th {\n",
       "        vertical-align: top;\n",
       "    }\n",
       "\n",
       "    .dataframe thead th {\n",
       "        text-align: right;\n",
       "    }\n",
       "</style>\n",
       "<table border=\"1\" class=\"dataframe\">\n",
       "  <thead>\n",
       "    <tr style=\"text-align: right;\">\n",
       "      <th></th>\n",
       "      <th>config_id</th>\n",
       "      <th>seconds</th>\n",
       "    </tr>\n",
       "  </thead>\n",
       "  <tbody>\n",
       "    <tr>\n",
       "      <th>22</th>\n",
       "      <td>openblas</td>\n",
       "      <td>1.570393</td>\n",
       "    </tr>\n",
       "    <tr>\n",
       "      <th>12</th>\n",
       "      <td>mkl2024.0</td>\n",
       "      <td>1.377880</td>\n",
       "    </tr>\n",
       "    <tr>\n",
       "      <th>2</th>\n",
       "      <td>mkl2020.0</td>\n",
       "      <td>1.359779</td>\n",
       "    </tr>\n",
       "    <tr>\n",
       "      <th>42</th>\n",
       "      <td>mkl2019.5_debug</td>\n",
       "      <td>1.210544</td>\n",
       "    </tr>\n",
       "    <tr>\n",
       "      <th>32</th>\n",
       "      <td>mkl2020.1_fakeintel</td>\n",
       "      <td>1.203953</td>\n",
       "    </tr>\n",
       "    <tr>\n",
       "      <th>52</th>\n",
       "      <td>mkl2020.0_debug</td>\n",
       "      <td>1.202698</td>\n",
       "    </tr>\n",
       "  </tbody>\n",
       "</table>\n",
       "</div>"
      ],
      "text/plain": [
       "              config_id   seconds\n",
       "22             openblas  1.570393\n",
       "12            mkl2024.0  1.377880\n",
       "2             mkl2020.0  1.359779\n",
       "42      mkl2019.5_debug  1.210544\n",
       "32  mkl2020.1_fakeintel  1.203953\n",
       "52      mkl2020.0_debug  1.202698"
      ]
     },
     "execution_count": 5,
     "metadata": {},
     "output_type": "execute_result"
    }
   ],
   "source": [
    "df_task = df[df[\"task_id\"] == \"svd\"]\n",
    "df_task[[\"config_id\", \"seconds\"]].sort_values(\"seconds\", ascending=False)"
   ]
  },
  {
   "cell_type": "markdown",
   "id": "5d3bccce",
   "metadata": {},
   "source": [
    "### Eigendecomposition of a 2048x2048 matrix"
   ]
  },
  {
   "cell_type": "code",
   "execution_count": 6,
   "id": "f2f9e6dd",
   "metadata": {
    "execution": {
     "iopub.execute_input": "2024-02-24T15:07:29.617294Z",
     "iopub.status.busy": "2024-02-24T15:07:29.617095Z",
     "iopub.status.idle": "2024-02-24T15:07:29.626042Z",
     "shell.execute_reply": "2024-02-24T15:07:29.625239Z"
    }
   },
   "outputs": [
    {
     "data": {
      "text/html": [
       "<div>\n",
       "<style scoped>\n",
       "    .dataframe tbody tr th:only-of-type {\n",
       "        vertical-align: middle;\n",
       "    }\n",
       "\n",
       "    .dataframe tbody tr th {\n",
       "        vertical-align: top;\n",
       "    }\n",
       "\n",
       "    .dataframe thead th {\n",
       "        text-align: right;\n",
       "    }\n",
       "</style>\n",
       "<table border=\"1\" class=\"dataframe\">\n",
       "  <thead>\n",
       "    <tr style=\"text-align: right;\">\n",
       "      <th></th>\n",
       "      <th>config_id</th>\n",
       "      <th>seconds</th>\n",
       "    </tr>\n",
       "  </thead>\n",
       "  <tbody>\n",
       "    <tr>\n",
       "      <th>8</th>\n",
       "      <td>mkl2020.0</td>\n",
       "      <td>8.009610</td>\n",
       "    </tr>\n",
       "    <tr>\n",
       "      <th>28</th>\n",
       "      <td>openblas</td>\n",
       "      <td>7.642267</td>\n",
       "    </tr>\n",
       "    <tr>\n",
       "      <th>18</th>\n",
       "      <td>mkl2024.0</td>\n",
       "      <td>7.449068</td>\n",
       "    </tr>\n",
       "    <tr>\n",
       "      <th>48</th>\n",
       "      <td>mkl2019.5_debug</td>\n",
       "      <td>5.734832</td>\n",
       "    </tr>\n",
       "    <tr>\n",
       "      <th>58</th>\n",
       "      <td>mkl2020.0_debug</td>\n",
       "      <td>5.729027</td>\n",
       "    </tr>\n",
       "    <tr>\n",
       "      <th>38</th>\n",
       "      <td>mkl2020.1_fakeintel</td>\n",
       "      <td>5.722131</td>\n",
       "    </tr>\n",
       "  </tbody>\n",
       "</table>\n",
       "</div>"
      ],
      "text/plain": [
       "              config_id   seconds\n",
       "8             mkl2020.0  8.009610\n",
       "28             openblas  7.642267\n",
       "18            mkl2024.0  7.449068\n",
       "48      mkl2019.5_debug  5.734832\n",
       "58      mkl2020.0_debug  5.729027\n",
       "38  mkl2020.1_fakeintel  5.722131"
      ]
     },
     "execution_count": 6,
     "metadata": {},
     "output_type": "execute_result"
    }
   ],
   "source": [
    "df_task = df[df[\"task_id\"] == \"evd\"]\n",
    "df_task[[\"config_id\", \"seconds\"]].sort_values(\"seconds\", ascending=False)"
   ]
  },
  {
   "cell_type": "markdown",
   "id": "1545d942",
   "metadata": {},
   "source": [
    "### Convex programming (logistic regression)"
   ]
  },
  {
   "cell_type": "code",
   "execution_count": 7,
   "id": "71ed77c9",
   "metadata": {
    "execution": {
     "iopub.execute_input": "2024-02-24T15:07:29.629468Z",
     "iopub.status.busy": "2024-02-24T15:07:29.628931Z",
     "iopub.status.idle": "2024-02-24T15:07:29.637217Z",
     "shell.execute_reply": "2024-02-24T15:07:29.636422Z"
    }
   },
   "outputs": [
    {
     "data": {
      "text/html": [
       "<div>\n",
       "<style scoped>\n",
       "    .dataframe tbody tr th:only-of-type {\n",
       "        vertical-align: middle;\n",
       "    }\n",
       "\n",
       "    .dataframe tbody tr th {\n",
       "        vertical-align: top;\n",
       "    }\n",
       "\n",
       "    .dataframe thead th {\n",
       "        text-align: right;\n",
       "    }\n",
       "</style>\n",
       "<table border=\"1\" class=\"dataframe\">\n",
       "  <thead>\n",
       "    <tr style=\"text-align: right;\">\n",
       "      <th></th>\n",
       "      <th>config_id</th>\n",
       "      <th>seconds</th>\n",
       "    </tr>\n",
       "  </thead>\n",
       "  <tbody>\n",
       "    <tr>\n",
       "      <th>26</th>\n",
       "      <td>openblas</td>\n",
       "      <td>3.762647</td>\n",
       "    </tr>\n",
       "    <tr>\n",
       "      <th>56</th>\n",
       "      <td>mkl2020.0_debug</td>\n",
       "      <td>3.762130</td>\n",
       "    </tr>\n",
       "    <tr>\n",
       "      <th>36</th>\n",
       "      <td>mkl2020.1_fakeintel</td>\n",
       "      <td>3.757096</td>\n",
       "    </tr>\n",
       "    <tr>\n",
       "      <th>6</th>\n",
       "      <td>mkl2020.0</td>\n",
       "      <td>3.743234</td>\n",
       "    </tr>\n",
       "    <tr>\n",
       "      <th>46</th>\n",
       "      <td>mkl2019.5_debug</td>\n",
       "      <td>3.737027</td>\n",
       "    </tr>\n",
       "    <tr>\n",
       "      <th>16</th>\n",
       "      <td>mkl2024.0</td>\n",
       "      <td>3.723070</td>\n",
       "    </tr>\n",
       "  </tbody>\n",
       "</table>\n",
       "</div>"
      ],
      "text/plain": [
       "              config_id   seconds\n",
       "26             openblas  3.762647\n",
       "56      mkl2020.0_debug  3.762130\n",
       "36  mkl2020.1_fakeintel  3.757096\n",
       "6             mkl2020.0  3.743234\n",
       "46      mkl2019.5_debug  3.737027\n",
       "16            mkl2024.0  3.723070"
      ]
     },
     "execution_count": 7,
     "metadata": {},
     "output_type": "execute_result"
    }
   ],
   "source": [
    "df_task = df[df[\"task_id\"] == \"cvxprog\"]\n",
    "df_task[[\"config_id\", \"seconds\"]].sort_values(\"seconds\", ascending=False)"
   ]
  }
 ],
 "metadata": {
  "language_info": {
   "codemirror_mode": {
    "name": "ipython",
    "version": 3
   },
   "file_extension": ".py",
   "mimetype": "text/x-python",
   "name": "python",
   "nbconvert_exporter": "python",
   "pygments_lexer": "ipython3",
   "version": "3.10.13"
  }
 },
 "nbformat": 4,
 "nbformat_minor": 5
}
