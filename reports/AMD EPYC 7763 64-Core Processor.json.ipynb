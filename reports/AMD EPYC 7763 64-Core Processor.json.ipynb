{
 "cells": [
  {
   "cell_type": "markdown",
   "id": "a98530b2",
   "metadata": {},
   "source": [
    "# AMD EPYC 7763 64-Core Processor.json"
   ]
  },
  {
   "cell_type": "code",
   "execution_count": 1,
   "id": "83dba60d",
   "metadata": {
    "execution": {
     "iopub.execute_input": "2024-02-23T19:07:22.805717Z",
     "iopub.status.busy": "2024-02-23T19:07:22.805190Z",
     "iopub.status.idle": "2024-02-23T19:07:23.137080Z",
     "shell.execute_reply": "2024-02-23T19:07:23.136310Z"
    }
   },
   "outputs": [],
   "source": [
    "import pandas as pd"
   ]
  },
  {
   "cell_type": "code",
   "execution_count": 2,
   "id": "3a749e2d",
   "metadata": {
    "execution": {
     "iopub.execute_input": "2024-02-23T19:07:23.140306Z",
     "iopub.status.busy": "2024-02-23T19:07:23.139810Z",
     "iopub.status.idle": "2024-02-23T19:07:23.146565Z",
     "shell.execute_reply": "2024-02-23T19:07:23.145913Z"
    }
   },
   "outputs": [],
   "source": [
    "df = pd.read_csv(\"results.csv\")\n",
    "df = df[df[\"cpu_name\"] == \"AMD EPYC 7763 64-Core Processor.json\"]"
   ]
  },
  {
   "cell_type": "markdown",
   "id": "c7b50da8",
   "metadata": {},
   "source": [
    "### Dotted two 4096x4096 matrices"
   ]
  },
  {
   "cell_type": "code",
   "execution_count": 3,
   "id": "efe30ec4",
   "metadata": {
    "execution": {
     "iopub.execute_input": "2024-02-23T19:07:23.149099Z",
     "iopub.status.busy": "2024-02-23T19:07:23.148890Z",
     "iopub.status.idle": "2024-02-23T19:07:23.160874Z",
     "shell.execute_reply": "2024-02-23T19:07:23.160071Z"
    }
   },
   "outputs": [
    {
     "data": {
      "text/html": [
       "<div>\n",
       "<style scoped>\n",
       "    .dataframe tbody tr th:only-of-type {\n",
       "        vertical-align: middle;\n",
       "    }\n",
       "\n",
       "    .dataframe tbody tr th {\n",
       "        vertical-align: top;\n",
       "    }\n",
       "\n",
       "    .dataframe thead th {\n",
       "        text-align: right;\n",
       "    }\n",
       "</style>\n",
       "<table border=\"1\" class=\"dataframe\">\n",
       "  <thead>\n",
       "    <tr style=\"text-align: right;\">\n",
       "      <th></th>\n",
       "      <th>config_id</th>\n",
       "      <th>seconds</th>\n",
       "    </tr>\n",
       "  </thead>\n",
       "  <tbody>\n",
       "    <tr>\n",
       "      <th>20</th>\n",
       "      <td>mkl2019.5</td>\n",
       "      <td>3.570648</td>\n",
       "    </tr>\n",
       "    <tr>\n",
       "      <th>12</th>\n",
       "      <td>mkl2024.0</td>\n",
       "      <td>3.405617</td>\n",
       "    </tr>\n",
       "    <tr>\n",
       "      <th>4</th>\n",
       "      <td>mkl2020.0</td>\n",
       "      <td>3.382421</td>\n",
       "    </tr>\n",
       "    <tr>\n",
       "      <th>28</th>\n",
       "      <td>mkl2020.0_debug</td>\n",
       "      <td>3.249269</td>\n",
       "    </tr>\n",
       "  </tbody>\n",
       "</table>\n",
       "</div>"
      ],
      "text/plain": [
       "          config_id   seconds\n",
       "20        mkl2019.5  3.570648\n",
       "12        mkl2024.0  3.405617\n",
       "4         mkl2020.0  3.382421\n",
       "28  mkl2020.0_debug  3.249269"
      ]
     },
     "execution_count": 3,
     "metadata": {},
     "output_type": "execute_result"
    }
   ],
   "source": [
    "df_task = df[df[\"task_id\"] == \"dot4096\"]\n",
    "df_task[[\"config_id\", \"seconds\"]].sort_values(\"seconds\", ascending=False)"
   ]
  },
  {
   "cell_type": "markdown",
   "id": "78c0f6b1",
   "metadata": {},
   "source": [
    "### Dotted two vectors of length 524288"
   ]
  },
  {
   "cell_type": "code",
   "execution_count": 4,
   "id": "167e542f",
   "metadata": {
    "execution": {
     "iopub.execute_input": "2024-02-23T19:07:23.163587Z",
     "iopub.status.busy": "2024-02-23T19:07:23.163179Z",
     "iopub.status.idle": "2024-02-23T19:07:23.171173Z",
     "shell.execute_reply": "2024-02-23T19:07:23.170420Z"
    }
   },
   "outputs": [
    {
     "data": {
      "text/html": [
       "<div>\n",
       "<style scoped>\n",
       "    .dataframe tbody tr th:only-of-type {\n",
       "        vertical-align: middle;\n",
       "    }\n",
       "\n",
       "    .dataframe tbody tr th {\n",
       "        vertical-align: top;\n",
       "    }\n",
       "\n",
       "    .dataframe thead th {\n",
       "        text-align: right;\n",
       "    }\n",
       "</style>\n",
       "<table border=\"1\" class=\"dataframe\">\n",
       "  <thead>\n",
       "    <tr style=\"text-align: right;\">\n",
       "      <th></th>\n",
       "      <th>config_id</th>\n",
       "      <th>seconds</th>\n",
       "    </tr>\n",
       "  </thead>\n",
       "  <tbody>\n",
       "    <tr>\n",
       "      <th>24</th>\n",
       "      <td>mkl2020.0_debug</td>\n",
       "      <td>0.002293</td>\n",
       "    </tr>\n",
       "    <tr>\n",
       "      <th>8</th>\n",
       "      <td>mkl2024.0</td>\n",
       "      <td>0.002003</td>\n",
       "    </tr>\n",
       "    <tr>\n",
       "      <th>0</th>\n",
       "      <td>mkl2020.0</td>\n",
       "      <td>0.001994</td>\n",
       "    </tr>\n",
       "    <tr>\n",
       "      <th>16</th>\n",
       "      <td>mkl2019.5</td>\n",
       "      <td>0.001885</td>\n",
       "    </tr>\n",
       "  </tbody>\n",
       "</table>\n",
       "</div>"
      ],
      "text/plain": [
       "          config_id   seconds\n",
       "24  mkl2020.0_debug  0.002293\n",
       "8         mkl2024.0  0.002003\n",
       "0         mkl2020.0  0.001994\n",
       "16        mkl2019.5  0.001885"
      ]
     },
     "execution_count": 4,
     "metadata": {},
     "output_type": "execute_result"
    }
   ],
   "source": [
    "df_task = df[df[\"task_id\"] == \"dot524288\"]\n",
    "df_task[[\"config_id\", \"seconds\"]].sort_values(\"seconds\", ascending=False)"
   ]
  },
  {
   "cell_type": "markdown",
   "id": "34a0a64a",
   "metadata": {},
   "source": [
    "### Eigendecomposition of a 2048x2048 matrix"
   ]
  },
  {
   "cell_type": "code",
   "execution_count": 5,
   "id": "7db53131",
   "metadata": {
    "execution": {
     "iopub.execute_input": "2024-02-23T19:07:23.173981Z",
     "iopub.status.busy": "2024-02-23T19:07:23.173529Z",
     "iopub.status.idle": "2024-02-23T19:07:23.181586Z",
     "shell.execute_reply": "2024-02-23T19:07:23.180798Z"
    }
   },
   "outputs": [
    {
     "data": {
      "text/html": [
       "<div>\n",
       "<style scoped>\n",
       "    .dataframe tbody tr th:only-of-type {\n",
       "        vertical-align: middle;\n",
       "    }\n",
       "\n",
       "    .dataframe tbody tr th {\n",
       "        vertical-align: top;\n",
       "    }\n",
       "\n",
       "    .dataframe thead th {\n",
       "        text-align: right;\n",
       "    }\n",
       "</style>\n",
       "<table border=\"1\" class=\"dataframe\">\n",
       "  <thead>\n",
       "    <tr style=\"text-align: right;\">\n",
       "      <th></th>\n",
       "      <th>config_id</th>\n",
       "      <th>seconds</th>\n",
       "    </tr>\n",
       "  </thead>\n",
       "  <tbody>\n",
       "    <tr>\n",
       "      <th>6</th>\n",
       "      <td>mkl2020.0</td>\n",
       "      <td>8.644181</td>\n",
       "    </tr>\n",
       "    <tr>\n",
       "      <th>22</th>\n",
       "      <td>mkl2019.5</td>\n",
       "      <td>8.504202</td>\n",
       "    </tr>\n",
       "    <tr>\n",
       "      <th>14</th>\n",
       "      <td>mkl2024.0</td>\n",
       "      <td>7.779402</td>\n",
       "    </tr>\n",
       "    <tr>\n",
       "      <th>30</th>\n",
       "      <td>mkl2020.0_debug</td>\n",
       "      <td>6.220846</td>\n",
       "    </tr>\n",
       "  </tbody>\n",
       "</table>\n",
       "</div>"
      ],
      "text/plain": [
       "          config_id   seconds\n",
       "6         mkl2020.0  8.644181\n",
       "22        mkl2019.5  8.504202\n",
       "14        mkl2024.0  7.779402\n",
       "30  mkl2020.0_debug  6.220846"
      ]
     },
     "execution_count": 5,
     "metadata": {},
     "output_type": "execute_result"
    }
   ],
   "source": [
    "df_task = df[df[\"task_id\"] == \"evd\"]\n",
    "df_task[[\"config_id\", \"seconds\"]].sort_values(\"seconds\", ascending=False)"
   ]
  },
  {
   "cell_type": "markdown",
   "id": "ce233caf",
   "metadata": {},
   "source": [
    "### SVD of a 2048x1024 matrix"
   ]
  },
  {
   "cell_type": "code",
   "execution_count": 6,
   "id": "13bd45e9",
   "metadata": {
    "execution": {
     "iopub.execute_input": "2024-02-23T19:07:23.184303Z",
     "iopub.status.busy": "2024-02-23T19:07:23.183877Z",
     "iopub.status.idle": "2024-02-23T19:07:23.192239Z",
     "shell.execute_reply": "2024-02-23T19:07:23.191467Z"
    }
   },
   "outputs": [
    {
     "data": {
      "text/html": [
       "<div>\n",
       "<style scoped>\n",
       "    .dataframe tbody tr th:only-of-type {\n",
       "        vertical-align: middle;\n",
       "    }\n",
       "\n",
       "    .dataframe tbody tr th {\n",
       "        vertical-align: top;\n",
       "    }\n",
       "\n",
       "    .dataframe thead th {\n",
       "        text-align: right;\n",
       "    }\n",
       "</style>\n",
       "<table border=\"1\" class=\"dataframe\">\n",
       "  <thead>\n",
       "    <tr style=\"text-align: right;\">\n",
       "      <th></th>\n",
       "      <th>config_id</th>\n",
       "      <th>seconds</th>\n",
       "    </tr>\n",
       "  </thead>\n",
       "  <tbody>\n",
       "    <tr>\n",
       "      <th>2</th>\n",
       "      <td>mkl2020.0</td>\n",
       "      <td>1.468643</td>\n",
       "    </tr>\n",
       "    <tr>\n",
       "      <th>18</th>\n",
       "      <td>mkl2019.5</td>\n",
       "      <td>1.424053</td>\n",
       "    </tr>\n",
       "    <tr>\n",
       "      <th>10</th>\n",
       "      <td>mkl2024.0</td>\n",
       "      <td>1.423912</td>\n",
       "    </tr>\n",
       "    <tr>\n",
       "      <th>26</th>\n",
       "      <td>mkl2020.0_debug</td>\n",
       "      <td>1.324003</td>\n",
       "    </tr>\n",
       "  </tbody>\n",
       "</table>\n",
       "</div>"
      ],
      "text/plain": [
       "          config_id   seconds\n",
       "2         mkl2020.0  1.468643\n",
       "18        mkl2019.5  1.424053\n",
       "10        mkl2024.0  1.423912\n",
       "26  mkl2020.0_debug  1.324003"
      ]
     },
     "execution_count": 6,
     "metadata": {},
     "output_type": "execute_result"
    }
   ],
   "source": [
    "df_task = df[df[\"task_id\"] == \"svd\"]\n",
    "df_task[[\"config_id\", \"seconds\"]].sort_values(\"seconds\", ascending=False)"
   ]
  }
 ],
 "metadata": {
  "language_info": {
   "codemirror_mode": {
    "name": "ipython",
    "version": 3
   },
   "file_extension": ".py",
   "mimetype": "text/x-python",
   "name": "python",
   "nbconvert_exporter": "python",
   "pygments_lexer": "ipython3",
   "version": "3.10.13"
  }
 },
 "nbformat": 4,
 "nbformat_minor": 5
}
