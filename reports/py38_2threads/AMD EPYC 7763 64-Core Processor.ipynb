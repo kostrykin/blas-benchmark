{
 "cells": [
  {
   "cell_type": "markdown",
   "id": "1c91ceec",
   "metadata": {},
   "source": [
    "# AMD EPYC 7763 64-Core Processor"
   ]
  },
  {
   "cell_type": "code",
   "execution_count": 1,
   "id": "3d45a49b",
   "metadata": {
    "execution": {
     "iopub.execute_input": "2024-02-25T21:59:40.203352Z",
     "iopub.status.busy": "2024-02-25T21:59:40.203156Z",
     "iopub.status.idle": "2024-02-25T21:59:40.360487Z",
     "shell.execute_reply": "2024-02-25T21:59:40.359816Z"
    }
   },
   "outputs": [],
   "source": [
    "import pandas as pd\n",
    "import numpy as np"
   ]
  },
  {
   "cell_type": "code",
   "execution_count": 2,
   "id": "c7c4264b",
   "metadata": {
    "execution": {
     "iopub.execute_input": "2024-02-25T21:59:40.363066Z",
     "iopub.status.busy": "2024-02-25T21:59:40.362899Z",
     "iopub.status.idle": "2024-02-25T21:59:40.367937Z",
     "shell.execute_reply": "2024-02-25T21:59:40.367370Z"
    }
   },
   "outputs": [],
   "source": [
    "df = pd.read_csv(\"results.csv\")\n",
    "df = df[df[\"cpu_name\"] == \"AMD EPYC 7763 64-Core Processor\"]\n",
    "df = df[df[\"profile_id\"] == \"py38_2threads\"]"
   ]
  },
  {
   "cell_type": "markdown",
   "id": "3ab963ba",
   "metadata": {},
   "source": [
    "**Profile:**\n",
    "```json\n",
    "{\"python\": 3.8, \"threads\": 2, \"id\": \"py38_2threads\"}\n",
    "```"
   ]
  },
  {
   "cell_type": "markdown",
   "id": "491ff86e",
   "metadata": {},
   "source": [
    "## Highscore"
   ]
  },
  {
   "cell_type": "markdown",
   "id": "540a3cae",
   "metadata": {},
   "source": [
    "The *score* of a configuration is the *geometric mean* of the best possible speed-up in comparison to the other configurations."
   ]
  },
  {
   "cell_type": "code",
   "execution_count": 3,
   "id": "705a2157",
   "metadata": {
    "execution": {
     "iopub.execute_input": "2024-02-25T21:59:40.370249Z",
     "iopub.status.busy": "2024-02-25T21:59:40.370136Z",
     "iopub.status.idle": "2024-02-25T21:59:40.389481Z",
     "shell.execute_reply": "2024-02-25T21:59:40.388985Z"
    }
   },
   "outputs": [
    {
     "data": {
      "text/html": [
       "<div>\n",
       "<style scoped>\n",
       "    .dataframe tbody tr th:only-of-type {\n",
       "        vertical-align: middle;\n",
       "    }\n",
       "\n",
       "    .dataframe tbody tr th {\n",
       "        vertical-align: top;\n",
       "    }\n",
       "\n",
       "    .dataframe thead th {\n",
       "        text-align: right;\n",
       "    }\n",
       "</style>\n",
       "<table border=\"1\" class=\"dataframe\">\n",
       "  <thead>\n",
       "    <tr style=\"text-align: right;\">\n",
       "      <th></th>\n",
       "      <th>config_id</th>\n",
       "      <th>score</th>\n",
       "    </tr>\n",
       "  </thead>\n",
       "  <tbody>\n",
       "    <tr>\n",
       "      <th>0</th>\n",
       "      <td>mkl2020.1_fakeintel</td>\n",
       "      <td>1.164156</td>\n",
       "    </tr>\n",
       "    <tr>\n",
       "      <th>1</th>\n",
       "      <td>mkl2019.5_debug</td>\n",
       "      <td>1.162623</td>\n",
       "    </tr>\n",
       "    <tr>\n",
       "      <th>2</th>\n",
       "      <td>mkl2020.0_debug</td>\n",
       "      <td>1.162273</td>\n",
       "    </tr>\n",
       "    <tr>\n",
       "      <th>3</th>\n",
       "      <td>mkl2024.0</td>\n",
       "      <td>1.065984</td>\n",
       "    </tr>\n",
       "    <tr>\n",
       "      <th>4</th>\n",
       "      <td>mkl2020.0</td>\n",
       "      <td>1.037575</td>\n",
       "    </tr>\n",
       "    <tr>\n",
       "      <th>5</th>\n",
       "      <td>openblas</td>\n",
       "      <td>1.016262</td>\n",
       "    </tr>\n",
       "  </tbody>\n",
       "</table>\n",
       "</div>"
      ],
      "text/plain": [
       "             config_id     score\n",
       "0  mkl2020.1_fakeintel  1.164156\n",
       "1      mkl2019.5_debug  1.162623\n",
       "2      mkl2020.0_debug  1.162273\n",
       "3            mkl2024.0  1.065984\n",
       "4            mkl2020.0  1.037575\n",
       "5             openblas  1.016262"
      ]
     },
     "execution_count": 3,
     "metadata": {},
     "output_type": "execute_result"
    }
   ],
   "source": [
    "configs = df[\"config_id\"].unique()\n",
    "scores = {config_id: list() for config_id in configs}\n",
    "for task_id in df[\"task_id\"].unique():\n",
    "    df_task = df[df[\"task_id\"] == task_id]\n",
    "    for config_id in configs:\n",
    "        config_seconds = df_task[df_task[\"config_id\"] == config_id][\"seconds\"].min()\n",
    "        ref_seconds = df_task[\"seconds\"].max()\n",
    "        max_speedup = ref_seconds / config_seconds\n",
    "        scores[config_id].append(max_speedup)\n",
    "mean_scores = [pow(np.prod(scores[config_id]), 1 / len(scores[config_id])) for config_id in configs]\n",
    "df_scores = pd.DataFrame.from_dict(dict(config_id=configs, score=mean_scores))\n",
    "df_scores.sort_values(\"score\", ascending=False).reset_index(drop=True)"
   ]
  },
  {
   "cell_type": "markdown",
   "id": "a8e19b19",
   "metadata": {},
   "source": [
    "## Benchmark details"
   ]
  },
  {
   "cell_type": "markdown",
   "id": "d892d69a",
   "metadata": {},
   "source": [
    "### Task 1: Dotted two 4096x4096 matrices"
   ]
  },
  {
   "cell_type": "code",
   "execution_count": 4,
   "id": "dff4e467",
   "metadata": {
    "execution": {
     "iopub.execute_input": "2024-02-25T21:59:40.391850Z",
     "iopub.status.busy": "2024-02-25T21:59:40.391719Z",
     "iopub.status.idle": "2024-02-25T21:59:40.397237Z",
     "shell.execute_reply": "2024-02-25T21:59:40.396775Z"
    }
   },
   "outputs": [
    {
     "data": {
      "text/html": [
       "<div>\n",
       "<style scoped>\n",
       "    .dataframe tbody tr th:only-of-type {\n",
       "        vertical-align: middle;\n",
       "    }\n",
       "\n",
       "    .dataframe tbody tr th {\n",
       "        vertical-align: top;\n",
       "    }\n",
       "\n",
       "    .dataframe thead th {\n",
       "        text-align: right;\n",
       "    }\n",
       "</style>\n",
       "<table border=\"1\" class=\"dataframe\">\n",
       "  <thead>\n",
       "    <tr style=\"text-align: right;\">\n",
       "      <th></th>\n",
       "      <th>config_id</th>\n",
       "      <th>seconds</th>\n",
       "    </tr>\n",
       "  </thead>\n",
       "  <tbody>\n",
       "    <tr>\n",
       "      <th>81</th>\n",
       "      <td>mkl2024.0</td>\n",
       "      <td>3.184848</td>\n",
       "    </tr>\n",
       "    <tr>\n",
       "      <th>66</th>\n",
       "      <td>mkl2020.0</td>\n",
       "      <td>3.168414</td>\n",
       "    </tr>\n",
       "    <tr>\n",
       "      <th>36</th>\n",
       "      <td>openblas</td>\n",
       "      <td>3.146158</td>\n",
       "    </tr>\n",
       "    <tr>\n",
       "      <th>51</th>\n",
       "      <td>mkl2020.0_debug</td>\n",
       "      <td>3.055683</td>\n",
       "    </tr>\n",
       "    <tr>\n",
       "      <th>21</th>\n",
       "      <td>mkl2019.5_debug</td>\n",
       "      <td>3.048322</td>\n",
       "    </tr>\n",
       "    <tr>\n",
       "      <th>6</th>\n",
       "      <td>mkl2020.1_fakeintel</td>\n",
       "      <td>3.029701</td>\n",
       "    </tr>\n",
       "  </tbody>\n",
       "</table>\n",
       "</div>"
      ],
      "text/plain": [
       "              config_id   seconds\n",
       "81            mkl2024.0  3.184848\n",
       "66            mkl2020.0  3.168414\n",
       "36             openblas  3.146158\n",
       "51      mkl2020.0_debug  3.055683\n",
       "21      mkl2019.5_debug  3.048322\n",
       "6   mkl2020.1_fakeintel  3.029701"
      ]
     },
     "execution_count": 4,
     "metadata": {},
     "output_type": "execute_result"
    }
   ],
   "source": [
    "df_task = df[df[\"task_id\"] == \"dot4096\"]\n",
    "df_task[[\"config_id\", \"seconds\"]].sort_values(\"seconds\", ascending=False)"
   ]
  },
  {
   "cell_type": "markdown",
   "id": "3c47d0ba",
   "metadata": {},
   "source": [
    "### Task 2: Dotted two vectors of length 524288"
   ]
  },
  {
   "cell_type": "code",
   "execution_count": 5,
   "id": "bd3be292",
   "metadata": {
    "execution": {
     "iopub.execute_input": "2024-02-25T21:59:40.399603Z",
     "iopub.status.busy": "2024-02-25T21:59:40.399234Z",
     "iopub.status.idle": "2024-02-25T21:59:40.406184Z",
     "shell.execute_reply": "2024-02-25T21:59:40.405659Z"
    }
   },
   "outputs": [
    {
     "data": {
      "text/html": [
       "<div>\n",
       "<style scoped>\n",
       "    .dataframe tbody tr th:only-of-type {\n",
       "        vertical-align: middle;\n",
       "    }\n",
       "\n",
       "    .dataframe tbody tr th {\n",
       "        vertical-align: top;\n",
       "    }\n",
       "\n",
       "    .dataframe thead th {\n",
       "        text-align: right;\n",
       "    }\n",
       "</style>\n",
       "<table border=\"1\" class=\"dataframe\">\n",
       "  <thead>\n",
       "    <tr style=\"text-align: right;\">\n",
       "      <th></th>\n",
       "      <th>config_id</th>\n",
       "      <th>seconds</th>\n",
       "    </tr>\n",
       "  </thead>\n",
       "  <tbody>\n",
       "    <tr>\n",
       "      <th>38</th>\n",
       "      <td>openblas</td>\n",
       "      <td>0.000291</td>\n",
       "    </tr>\n",
       "    <tr>\n",
       "      <th>68</th>\n",
       "      <td>mkl2020.0</td>\n",
       "      <td>0.000278</td>\n",
       "    </tr>\n",
       "    <tr>\n",
       "      <th>83</th>\n",
       "      <td>mkl2024.0</td>\n",
       "      <td>0.000273</td>\n",
       "    </tr>\n",
       "    <tr>\n",
       "      <th>23</th>\n",
       "      <td>mkl2019.5_debug</td>\n",
       "      <td>0.000269</td>\n",
       "    </tr>\n",
       "    <tr>\n",
       "      <th>53</th>\n",
       "      <td>mkl2020.0_debug</td>\n",
       "      <td>0.000269</td>\n",
       "    </tr>\n",
       "    <tr>\n",
       "      <th>8</th>\n",
       "      <td>mkl2020.1_fakeintel</td>\n",
       "      <td>0.000269</td>\n",
       "    </tr>\n",
       "  </tbody>\n",
       "</table>\n",
       "</div>"
      ],
      "text/plain": [
       "              config_id   seconds\n",
       "38             openblas  0.000291\n",
       "68            mkl2020.0  0.000278\n",
       "83            mkl2024.0  0.000273\n",
       "23      mkl2019.5_debug  0.000269\n",
       "53      mkl2020.0_debug  0.000269\n",
       "8   mkl2020.1_fakeintel  0.000269"
      ]
     },
     "execution_count": 5,
     "metadata": {},
     "output_type": "execute_result"
    }
   ],
   "source": [
    "df_task = df[df[\"task_id\"] == \"dot524288\"]\n",
    "df_task[[\"config_id\", \"seconds\"]].sort_values(\"seconds\", ascending=False)"
   ]
  },
  {
   "cell_type": "markdown",
   "id": "5c9832f0",
   "metadata": {},
   "source": [
    "### Task 3: SVD of a 2048x1024 matrix"
   ]
  },
  {
   "cell_type": "code",
   "execution_count": 6,
   "id": "fc95d0be",
   "metadata": {
    "execution": {
     "iopub.execute_input": "2024-02-25T21:59:40.408344Z",
     "iopub.status.busy": "2024-02-25T21:59:40.408035Z",
     "iopub.status.idle": "2024-02-25T21:59:40.414958Z",
     "shell.execute_reply": "2024-02-25T21:59:40.414422Z"
    }
   },
   "outputs": [
    {
     "data": {
      "text/html": [
       "<div>\n",
       "<style scoped>\n",
       "    .dataframe tbody tr th:only-of-type {\n",
       "        vertical-align: middle;\n",
       "    }\n",
       "\n",
       "    .dataframe tbody tr th {\n",
       "        vertical-align: top;\n",
       "    }\n",
       "\n",
       "    .dataframe thead th {\n",
       "        text-align: right;\n",
       "    }\n",
       "</style>\n",
       "<table border=\"1\" class=\"dataframe\">\n",
       "  <thead>\n",
       "    <tr style=\"text-align: right;\">\n",
       "      <th></th>\n",
       "      <th>config_id</th>\n",
       "      <th>seconds</th>\n",
       "    </tr>\n",
       "  </thead>\n",
       "  <tbody>\n",
       "    <tr>\n",
       "      <th>30</th>\n",
       "      <td>openblas</td>\n",
       "      <td>1.570884</td>\n",
       "    </tr>\n",
       "    <tr>\n",
       "      <th>60</th>\n",
       "      <td>mkl2020.0</td>\n",
       "      <td>1.377807</td>\n",
       "    </tr>\n",
       "    <tr>\n",
       "      <th>75</th>\n",
       "      <td>mkl2024.0</td>\n",
       "      <td>1.376377</td>\n",
       "    </tr>\n",
       "    <tr>\n",
       "      <th>45</th>\n",
       "      <td>mkl2020.0_debug</td>\n",
       "      <td>1.207574</td>\n",
       "    </tr>\n",
       "    <tr>\n",
       "      <th>15</th>\n",
       "      <td>mkl2019.5_debug</td>\n",
       "      <td>1.207478</td>\n",
       "    </tr>\n",
       "    <tr>\n",
       "      <th>0</th>\n",
       "      <td>mkl2020.1_fakeintel</td>\n",
       "      <td>1.206933</td>\n",
       "    </tr>\n",
       "  </tbody>\n",
       "</table>\n",
       "</div>"
      ],
      "text/plain": [
       "              config_id   seconds\n",
       "30             openblas  1.570884\n",
       "60            mkl2020.0  1.377807\n",
       "75            mkl2024.0  1.376377\n",
       "45      mkl2020.0_debug  1.207574\n",
       "15      mkl2019.5_debug  1.207478\n",
       "0   mkl2020.1_fakeintel  1.206933"
      ]
     },
     "execution_count": 6,
     "metadata": {},
     "output_type": "execute_result"
    }
   ],
   "source": [
    "df_task = df[df[\"task_id\"] == \"svd\"]\n",
    "df_task[[\"config_id\", \"seconds\"]].sort_values(\"seconds\", ascending=False)"
   ]
  },
  {
   "cell_type": "markdown",
   "id": "790f13ac",
   "metadata": {},
   "source": [
    "### Task 4: Eigendecomposition of a 2048x2048 matrix"
   ]
  },
  {
   "cell_type": "code",
   "execution_count": 7,
   "id": "2e9f407a",
   "metadata": {
    "execution": {
     "iopub.execute_input": "2024-02-25T21:59:40.417661Z",
     "iopub.status.busy": "2024-02-25T21:59:40.417283Z",
     "iopub.status.idle": "2024-02-25T21:59:40.424227Z",
     "shell.execute_reply": "2024-02-25T21:59:40.423688Z"
    }
   },
   "outputs": [
    {
     "data": {
      "text/html": [
       "<div>\n",
       "<style scoped>\n",
       "    .dataframe tbody tr th:only-of-type {\n",
       "        vertical-align: middle;\n",
       "    }\n",
       "\n",
       "    .dataframe tbody tr th {\n",
       "        vertical-align: top;\n",
       "    }\n",
       "\n",
       "    .dataframe thead th {\n",
       "        text-align: right;\n",
       "    }\n",
       "</style>\n",
       "<table border=\"1\" class=\"dataframe\">\n",
       "  <thead>\n",
       "    <tr style=\"text-align: right;\">\n",
       "      <th></th>\n",
       "      <th>config_id</th>\n",
       "      <th>seconds</th>\n",
       "    </tr>\n",
       "  </thead>\n",
       "  <tbody>\n",
       "    <tr>\n",
       "      <th>62</th>\n",
       "      <td>mkl2020.0</td>\n",
       "      <td>8.224734</td>\n",
       "    </tr>\n",
       "    <tr>\n",
       "      <th>32</th>\n",
       "      <td>openblas</td>\n",
       "      <td>7.705040</td>\n",
       "    </tr>\n",
       "    <tr>\n",
       "      <th>77</th>\n",
       "      <td>mkl2024.0</td>\n",
       "      <td>7.387450</td>\n",
       "    </tr>\n",
       "    <tr>\n",
       "      <th>17</th>\n",
       "      <td>mkl2019.5_debug</td>\n",
       "      <td>5.749087</td>\n",
       "    </tr>\n",
       "    <tr>\n",
       "      <th>47</th>\n",
       "      <td>mkl2020.0_debug</td>\n",
       "      <td>5.728361</td>\n",
       "    </tr>\n",
       "    <tr>\n",
       "      <th>2</th>\n",
       "      <td>mkl2020.1_fakeintel</td>\n",
       "      <td>5.712482</td>\n",
       "    </tr>\n",
       "  </tbody>\n",
       "</table>\n",
       "</div>"
      ],
      "text/plain": [
       "              config_id   seconds\n",
       "62            mkl2020.0  8.224734\n",
       "32             openblas  7.705040\n",
       "77            mkl2024.0  7.387450\n",
       "17      mkl2019.5_debug  5.749087\n",
       "47      mkl2020.0_debug  5.728361\n",
       "2   mkl2020.1_fakeintel  5.712482"
      ]
     },
     "execution_count": 7,
     "metadata": {},
     "output_type": "execute_result"
    }
   ],
   "source": [
    "df_task = df[df[\"task_id\"] == \"evd\"]\n",
    "df_task[[\"config_id\", \"seconds\"]].sort_values(\"seconds\", ascending=False)"
   ]
  },
  {
   "cell_type": "markdown",
   "id": "4652eae7",
   "metadata": {},
   "source": [
    "### Task 5: Convex programming (logistic regression)"
   ]
  },
  {
   "cell_type": "code",
   "execution_count": 8,
   "id": "726b288e",
   "metadata": {
    "execution": {
     "iopub.execute_input": "2024-02-25T21:59:40.426215Z",
     "iopub.status.busy": "2024-02-25T21:59:40.426051Z",
     "iopub.status.idle": "2024-02-25T21:59:40.432930Z",
     "shell.execute_reply": "2024-02-25T21:59:40.432396Z"
    }
   },
   "outputs": [
    {
     "data": {
      "text/html": [
       "<div>\n",
       "<style scoped>\n",
       "    .dataframe tbody tr th:only-of-type {\n",
       "        vertical-align: middle;\n",
       "    }\n",
       "\n",
       "    .dataframe tbody tr th {\n",
       "        vertical-align: top;\n",
       "    }\n",
       "\n",
       "    .dataframe thead th {\n",
       "        text-align: right;\n",
       "    }\n",
       "</style>\n",
       "<table border=\"1\" class=\"dataframe\">\n",
       "  <thead>\n",
       "    <tr style=\"text-align: right;\">\n",
       "      <th></th>\n",
       "      <th>config_id</th>\n",
       "      <th>seconds</th>\n",
       "    </tr>\n",
       "  </thead>\n",
       "  <tbody>\n",
       "    <tr>\n",
       "      <th>4</th>\n",
       "      <td>mkl2020.1_fakeintel</td>\n",
       "      <td>3.740224</td>\n",
       "    </tr>\n",
       "    <tr>\n",
       "      <th>64</th>\n",
       "      <td>mkl2020.0</td>\n",
       "      <td>3.731668</td>\n",
       "    </tr>\n",
       "    <tr>\n",
       "      <th>34</th>\n",
       "      <td>openblas</td>\n",
       "      <td>3.728410</td>\n",
       "    </tr>\n",
       "    <tr>\n",
       "      <th>49</th>\n",
       "      <td>mkl2020.0_debug</td>\n",
       "      <td>3.723825</td>\n",
       "    </tr>\n",
       "    <tr>\n",
       "      <th>19</th>\n",
       "      <td>mkl2019.5_debug</td>\n",
       "      <td>3.711639</td>\n",
       "    </tr>\n",
       "    <tr>\n",
       "      <th>79</th>\n",
       "      <td>mkl2024.0</td>\n",
       "      <td>3.680933</td>\n",
       "    </tr>\n",
       "  </tbody>\n",
       "</table>\n",
       "</div>"
      ],
      "text/plain": [
       "              config_id   seconds\n",
       "4   mkl2020.1_fakeintel  3.740224\n",
       "64            mkl2020.0  3.731668\n",
       "34             openblas  3.728410\n",
       "49      mkl2020.0_debug  3.723825\n",
       "19      mkl2019.5_debug  3.711639\n",
       "79            mkl2024.0  3.680933"
      ]
     },
     "execution_count": 8,
     "metadata": {},
     "output_type": "execute_result"
    }
   ],
   "source": [
    "df_task = df[df[\"task_id\"] == \"cvxprog\"]\n",
    "df_task[[\"config_id\", \"seconds\"]].sort_values(\"seconds\", ascending=False)"
   ]
  }
 ],
 "metadata": {
  "language_info": {
   "codemirror_mode": {
    "name": "ipython",
    "version": 3
   },
   "file_extension": ".py",
   "mimetype": "text/x-python",
   "name": "python",
   "nbconvert_exporter": "python",
   "pygments_lexer": "ipython3",
   "version": "3.8.18"
  }
 },
 "nbformat": 4,
 "nbformat_minor": 5
}
