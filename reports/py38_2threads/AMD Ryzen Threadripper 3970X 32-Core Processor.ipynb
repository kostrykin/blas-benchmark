{
 "cells": [
  {
   "cell_type": "markdown",
   "id": "82a18058",
   "metadata": {},
   "source": [
    "# AMD Ryzen Threadripper 3970X 32-Core Processor"
   ]
  },
  {
   "cell_type": "code",
   "execution_count": 1,
   "id": "957f07cb",
   "metadata": {
    "execution": {
     "iopub.execute_input": "2024-02-25T21:10:47.875424Z",
     "iopub.status.busy": "2024-02-25T21:10:47.874986Z",
     "iopub.status.idle": "2024-02-25T21:10:48.076671Z",
     "shell.execute_reply": "2024-02-25T21:10:48.076145Z"
    }
   },
   "outputs": [],
   "source": [
    "import pandas as pd\n",
    "import numpy as np"
   ]
  },
  {
   "cell_type": "code",
   "execution_count": 2,
   "id": "74fe203b",
   "metadata": {
    "execution": {
     "iopub.execute_input": "2024-02-25T21:10:48.080004Z",
     "iopub.status.busy": "2024-02-25T21:10:48.079668Z",
     "iopub.status.idle": "2024-02-25T21:10:48.087331Z",
     "shell.execute_reply": "2024-02-25T21:10:48.086872Z"
    }
   },
   "outputs": [],
   "source": [
    "df = pd.read_csv(\"results.csv\")\n",
    "df = df[df[\"cpu_name\"] == \"AMD Ryzen Threadripper 3970X 32-Core Processor\"]\n",
    "df = df[df[\"profile_id\"] == \"py38_2threads\"]"
   ]
  },
  {
   "cell_type": "markdown",
   "id": "19f1b8b8",
   "metadata": {},
   "source": [
    "**Profile:**\n",
    "```json\n",
    "{\"python\": 3.8, \"threads\": 2, \"id\": \"py38_2threads\"}\n",
    "```"
   ]
  },
  {
   "cell_type": "markdown",
   "id": "0fd0caee",
   "metadata": {},
   "source": [
    "## Highscore"
   ]
  },
  {
   "cell_type": "markdown",
   "id": "87ba1dd1",
   "metadata": {},
   "source": [
    "The *score* of a configuration is the *geometric mean* of the best possible speed-up in comparison to the other configurations."
   ]
  },
  {
   "cell_type": "code",
   "execution_count": 3,
   "id": "287c858a",
   "metadata": {
    "execution": {
     "iopub.execute_input": "2024-02-25T21:10:48.089125Z",
     "iopub.status.busy": "2024-02-25T21:10:48.088969Z",
     "iopub.status.idle": "2024-02-25T21:10:48.104953Z",
     "shell.execute_reply": "2024-02-25T21:10:48.104514Z"
    }
   },
   "outputs": [
    {
     "data": {
      "text/html": [
       "<div>\n",
       "<style scoped>\n",
       "    .dataframe tbody tr th:only-of-type {\n",
       "        vertical-align: middle;\n",
       "    }\n",
       "\n",
       "    .dataframe tbody tr th {\n",
       "        vertical-align: top;\n",
       "    }\n",
       "\n",
       "    .dataframe thead th {\n",
       "        text-align: right;\n",
       "    }\n",
       "</style>\n",
       "<table border=\"1\" class=\"dataframe\">\n",
       "  <thead>\n",
       "    <tr style=\"text-align: right;\">\n",
       "      <th></th>\n",
       "      <th>config_id</th>\n",
       "      <th>score</th>\n",
       "    </tr>\n",
       "  </thead>\n",
       "  <tbody>\n",
       "    <tr>\n",
       "      <th>0</th>\n",
       "      <td>mkl2020.1_fakeintel</td>\n",
       "      <td>1.150525</td>\n",
       "    </tr>\n",
       "    <tr>\n",
       "      <th>1</th>\n",
       "      <td>mkl2020.0</td>\n",
       "      <td>1.147041</td>\n",
       "    </tr>\n",
       "    <tr>\n",
       "      <th>2</th>\n",
       "      <td>mkl2019.5_debug</td>\n",
       "      <td>1.146322</td>\n",
       "    </tr>\n",
       "    <tr>\n",
       "      <th>3</th>\n",
       "      <td>mkl2020.0_debug</td>\n",
       "      <td>1.137886</td>\n",
       "    </tr>\n",
       "    <tr>\n",
       "      <th>4</th>\n",
       "      <td>mkl2024.0</td>\n",
       "      <td>1.121358</td>\n",
       "    </tr>\n",
       "    <tr>\n",
       "      <th>5</th>\n",
       "      <td>openblas</td>\n",
       "      <td>1.003532</td>\n",
       "    </tr>\n",
       "  </tbody>\n",
       "</table>\n",
       "</div>"
      ],
      "text/plain": [
       "             config_id     score\n",
       "0  mkl2020.1_fakeintel  1.150525\n",
       "1            mkl2020.0  1.147041\n",
       "2      mkl2019.5_debug  1.146322\n",
       "3      mkl2020.0_debug  1.137886\n",
       "4            mkl2024.0  1.121358\n",
       "5             openblas  1.003532"
      ]
     },
     "execution_count": 3,
     "metadata": {},
     "output_type": "execute_result"
    }
   ],
   "source": [
    "configs = df[\"config_id\"].unique()\n",
    "scores = {config_id: list() for config_id in configs}\n",
    "for task_id in df[\"task_id\"].unique():\n",
    "    df_task = df[df[\"task_id\"] == task_id]\n",
    "    for config_id in configs:\n",
    "        config_seconds = df_task[df_task[\"config_id\"] == config_id][\"seconds\"].min()\n",
    "        ref_seconds = df_task[\"seconds\"].max()\n",
    "        max_speedup = ref_seconds / config_seconds\n",
    "        scores[config_id].append(max_speedup)\n",
    "mean_scores = [pow(np.prod(scores[config_id]), 1 / len(scores[config_id])) for config_id in configs]\n",
    "df_scores = pd.DataFrame.from_dict(dict(config_id=configs, score=mean_scores))\n",
    "df_scores.sort_values(\"score\", ascending=False).reset_index(drop=True)"
   ]
  },
  {
   "cell_type": "markdown",
   "id": "081edb5c",
   "metadata": {},
   "source": [
    "## Benchmark details"
   ]
  },
  {
   "cell_type": "markdown",
   "id": "9cd8de9d",
   "metadata": {},
   "source": [
    "### Task 1: Dotted two 4096x4096 matrices"
   ]
  },
  {
   "cell_type": "code",
   "execution_count": 4,
   "id": "d572d7c6",
   "metadata": {
    "execution": {
     "iopub.execute_input": "2024-02-25T21:10:48.107741Z",
     "iopub.status.busy": "2024-02-25T21:10:48.107564Z",
     "iopub.status.idle": "2024-02-25T21:10:48.112852Z",
     "shell.execute_reply": "2024-02-25T21:10:48.112400Z"
    }
   },
   "outputs": [
    {
     "data": {
      "text/html": [
       "<div>\n",
       "<style scoped>\n",
       "    .dataframe tbody tr th:only-of-type {\n",
       "        vertical-align: middle;\n",
       "    }\n",
       "\n",
       "    .dataframe tbody tr th {\n",
       "        vertical-align: top;\n",
       "    }\n",
       "\n",
       "    .dataframe thead th {\n",
       "        text-align: right;\n",
       "    }\n",
       "</style>\n",
       "<table border=\"1\" class=\"dataframe\">\n",
       "  <thead>\n",
       "    <tr style=\"text-align: right;\">\n",
       "      <th></th>\n",
       "      <th>config_id</th>\n",
       "      <th>seconds</th>\n",
       "    </tr>\n",
       "  </thead>\n",
       "  <tbody>\n",
       "    <tr>\n",
       "      <th>23</th>\n",
       "      <td>openblas</td>\n",
       "      <td>1.267146</td>\n",
       "    </tr>\n",
       "    <tr>\n",
       "      <th>53</th>\n",
       "      <td>mkl2024.0</td>\n",
       "      <td>1.165482</td>\n",
       "    </tr>\n",
       "    <tr>\n",
       "      <th>13</th>\n",
       "      <td>mkl2019.5_debug</td>\n",
       "      <td>1.160590</td>\n",
       "    </tr>\n",
       "    <tr>\n",
       "      <th>3</th>\n",
       "      <td>mkl2020.1_fakeintel</td>\n",
       "      <td>1.158009</td>\n",
       "    </tr>\n",
       "    <tr>\n",
       "      <th>43</th>\n",
       "      <td>mkl2020.0</td>\n",
       "      <td>1.152240</td>\n",
       "    </tr>\n",
       "    <tr>\n",
       "      <th>33</th>\n",
       "      <td>mkl2020.0_debug</td>\n",
       "      <td>1.152165</td>\n",
       "    </tr>\n",
       "  </tbody>\n",
       "</table>\n",
       "</div>"
      ],
      "text/plain": [
       "              config_id   seconds\n",
       "23             openblas  1.267146\n",
       "53            mkl2024.0  1.165482\n",
       "13      mkl2019.5_debug  1.160590\n",
       "3   mkl2020.1_fakeintel  1.158009\n",
       "43            mkl2020.0  1.152240\n",
       "33      mkl2020.0_debug  1.152165"
      ]
     },
     "execution_count": 4,
     "metadata": {},
     "output_type": "execute_result"
    }
   ],
   "source": [
    "df_task = df[df[\"task_id\"] == \"dot4096\"]\n",
    "df_task[[\"config_id\", \"seconds\"]].sort_values(\"seconds\", ascending=False)"
   ]
  },
  {
   "cell_type": "markdown",
   "id": "d296f00b",
   "metadata": {},
   "source": [
    "### Task 2: Dotted two vectors of length 524288"
   ]
  },
  {
   "cell_type": "code",
   "execution_count": 5,
   "id": "1a25cee2",
   "metadata": {
    "execution": {
     "iopub.execute_input": "2024-02-25T21:10:48.115122Z",
     "iopub.status.busy": "2024-02-25T21:10:48.114910Z",
     "iopub.status.idle": "2024-02-25T21:10:48.121833Z",
     "shell.execute_reply": "2024-02-25T21:10:48.121319Z"
    }
   },
   "outputs": [
    {
     "data": {
      "text/html": [
       "<div>\n",
       "<style scoped>\n",
       "    .dataframe tbody tr th:only-of-type {\n",
       "        vertical-align: middle;\n",
       "    }\n",
       "\n",
       "    .dataframe tbody tr th {\n",
       "        vertical-align: top;\n",
       "    }\n",
       "\n",
       "    .dataframe thead th {\n",
       "        text-align: right;\n",
       "    }\n",
       "</style>\n",
       "<table border=\"1\" class=\"dataframe\">\n",
       "  <thead>\n",
       "    <tr style=\"text-align: right;\">\n",
       "      <th></th>\n",
       "      <th>config_id</th>\n",
       "      <th>seconds</th>\n",
       "    </tr>\n",
       "  </thead>\n",
       "  <tbody>\n",
       "    <tr>\n",
       "      <th>24</th>\n",
       "      <td>openblas</td>\n",
       "      <td>0.000273</td>\n",
       "    </tr>\n",
       "    <tr>\n",
       "      <th>54</th>\n",
       "      <td>mkl2024.0</td>\n",
       "      <td>0.000272</td>\n",
       "    </tr>\n",
       "    <tr>\n",
       "      <th>44</th>\n",
       "      <td>mkl2020.0</td>\n",
       "      <td>0.000267</td>\n",
       "    </tr>\n",
       "    <tr>\n",
       "      <th>14</th>\n",
       "      <td>mkl2019.5_debug</td>\n",
       "      <td>0.000267</td>\n",
       "    </tr>\n",
       "    <tr>\n",
       "      <th>34</th>\n",
       "      <td>mkl2020.0_debug</td>\n",
       "      <td>0.000266</td>\n",
       "    </tr>\n",
       "    <tr>\n",
       "      <th>4</th>\n",
       "      <td>mkl2020.1_fakeintel</td>\n",
       "      <td>0.000264</td>\n",
       "    </tr>\n",
       "  </tbody>\n",
       "</table>\n",
       "</div>"
      ],
      "text/plain": [
       "              config_id   seconds\n",
       "24             openblas  0.000273\n",
       "54            mkl2024.0  0.000272\n",
       "44            mkl2020.0  0.000267\n",
       "14      mkl2019.5_debug  0.000267\n",
       "34      mkl2020.0_debug  0.000266\n",
       "4   mkl2020.1_fakeintel  0.000264"
      ]
     },
     "execution_count": 5,
     "metadata": {},
     "output_type": "execute_result"
    }
   ],
   "source": [
    "df_task = df[df[\"task_id\"] == \"dot524288\"]\n",
    "df_task[[\"config_id\", \"seconds\"]].sort_values(\"seconds\", ascending=False)"
   ]
  },
  {
   "cell_type": "markdown",
   "id": "0df8777c",
   "metadata": {},
   "source": [
    "### Task 3: SVD of a 2048x1024 matrix"
   ]
  },
  {
   "cell_type": "code",
   "execution_count": 6,
   "id": "e7f79c17",
   "metadata": {
    "execution": {
     "iopub.execute_input": "2024-02-25T21:10:48.123999Z",
     "iopub.status.busy": "2024-02-25T21:10:48.123784Z",
     "iopub.status.idle": "2024-02-25T21:10:48.130563Z",
     "shell.execute_reply": "2024-02-25T21:10:48.130067Z"
    }
   },
   "outputs": [
    {
     "data": {
      "text/html": [
       "<div>\n",
       "<style scoped>\n",
       "    .dataframe tbody tr th:only-of-type {\n",
       "        vertical-align: middle;\n",
       "    }\n",
       "\n",
       "    .dataframe tbody tr th {\n",
       "        vertical-align: top;\n",
       "    }\n",
       "\n",
       "    .dataframe thead th {\n",
       "        text-align: right;\n",
       "    }\n",
       "</style>\n",
       "<table border=\"1\" class=\"dataframe\">\n",
       "  <thead>\n",
       "    <tr style=\"text-align: right;\">\n",
       "      <th></th>\n",
       "      <th>config_id</th>\n",
       "      <th>seconds</th>\n",
       "    </tr>\n",
       "  </thead>\n",
       "  <tbody>\n",
       "    <tr>\n",
       "      <th>20</th>\n",
       "      <td>openblas</td>\n",
       "      <td>0.969291</td>\n",
       "    </tr>\n",
       "    <tr>\n",
       "      <th>30</th>\n",
       "      <td>mkl2020.0_debug</td>\n",
       "      <td>0.715144</td>\n",
       "    </tr>\n",
       "    <tr>\n",
       "      <th>10</th>\n",
       "      <td>mkl2019.5_debug</td>\n",
       "      <td>0.711635</td>\n",
       "    </tr>\n",
       "    <tr>\n",
       "      <th>0</th>\n",
       "      <td>mkl2020.1_fakeintel</td>\n",
       "      <td>0.707903</td>\n",
       "    </tr>\n",
       "    <tr>\n",
       "      <th>50</th>\n",
       "      <td>mkl2024.0</td>\n",
       "      <td>0.701466</td>\n",
       "    </tr>\n",
       "    <tr>\n",
       "      <th>40</th>\n",
       "      <td>mkl2020.0</td>\n",
       "      <td>0.699556</td>\n",
       "    </tr>\n",
       "  </tbody>\n",
       "</table>\n",
       "</div>"
      ],
      "text/plain": [
       "              config_id   seconds\n",
       "20             openblas  0.969291\n",
       "30      mkl2020.0_debug  0.715144\n",
       "10      mkl2019.5_debug  0.711635\n",
       "0   mkl2020.1_fakeintel  0.707903\n",
       "50            mkl2024.0  0.701466\n",
       "40            mkl2020.0  0.699556"
      ]
     },
     "execution_count": 6,
     "metadata": {},
     "output_type": "execute_result"
    }
   ],
   "source": [
    "df_task = df[df[\"task_id\"] == \"svd\"]\n",
    "df_task[[\"config_id\", \"seconds\"]].sort_values(\"seconds\", ascending=False)"
   ]
  },
  {
   "cell_type": "markdown",
   "id": "dacebcf2",
   "metadata": {},
   "source": [
    "### Task 4: Eigendecomposition of a 2048x2048 matrix"
   ]
  },
  {
   "cell_type": "code",
   "execution_count": 7,
   "id": "244196d5",
   "metadata": {
    "execution": {
     "iopub.execute_input": "2024-02-25T21:10:48.132776Z",
     "iopub.status.busy": "2024-02-25T21:10:48.132478Z",
     "iopub.status.idle": "2024-02-25T21:10:48.139077Z",
     "shell.execute_reply": "2024-02-25T21:10:48.138577Z"
    }
   },
   "outputs": [
    {
     "data": {
      "text/html": [
       "<div>\n",
       "<style scoped>\n",
       "    .dataframe tbody tr th:only-of-type {\n",
       "        vertical-align: middle;\n",
       "    }\n",
       "\n",
       "    .dataframe tbody tr th {\n",
       "        vertical-align: top;\n",
       "    }\n",
       "\n",
       "    .dataframe thead th {\n",
       "        text-align: right;\n",
       "    }\n",
       "</style>\n",
       "<table border=\"1\" class=\"dataframe\">\n",
       "  <thead>\n",
       "    <tr style=\"text-align: right;\">\n",
       "      <th></th>\n",
       "      <th>config_id</th>\n",
       "      <th>seconds</th>\n",
       "    </tr>\n",
       "  </thead>\n",
       "  <tbody>\n",
       "    <tr>\n",
       "      <th>21</th>\n",
       "      <td>openblas</td>\n",
       "      <td>5.292787</td>\n",
       "    </tr>\n",
       "    <tr>\n",
       "      <th>51</th>\n",
       "      <td>mkl2024.0</td>\n",
       "      <td>4.510958</td>\n",
       "    </tr>\n",
       "    <tr>\n",
       "      <th>31</th>\n",
       "      <td>mkl2020.0_debug</td>\n",
       "      <td>4.237787</td>\n",
       "    </tr>\n",
       "    <tr>\n",
       "      <th>1</th>\n",
       "      <td>mkl2020.1_fakeintel</td>\n",
       "      <td>4.156066</td>\n",
       "    </tr>\n",
       "    <tr>\n",
       "      <th>41</th>\n",
       "      <td>mkl2020.0</td>\n",
       "      <td>4.148875</td>\n",
       "    </tr>\n",
       "    <tr>\n",
       "      <th>11</th>\n",
       "      <td>mkl2019.5_debug</td>\n",
       "      <td>4.126760</td>\n",
       "    </tr>\n",
       "  </tbody>\n",
       "</table>\n",
       "</div>"
      ],
      "text/plain": [
       "              config_id   seconds\n",
       "21             openblas  5.292787\n",
       "51            mkl2024.0  4.510958\n",
       "31      mkl2020.0_debug  4.237787\n",
       "1   mkl2020.1_fakeintel  4.156066\n",
       "41            mkl2020.0  4.148875\n",
       "11      mkl2019.5_debug  4.126760"
      ]
     },
     "execution_count": 7,
     "metadata": {},
     "output_type": "execute_result"
    }
   ],
   "source": [
    "df_task = df[df[\"task_id\"] == \"evd\"]\n",
    "df_task[[\"config_id\", \"seconds\"]].sort_values(\"seconds\", ascending=False)"
   ]
  },
  {
   "cell_type": "markdown",
   "id": "8a7d7dd7",
   "metadata": {},
   "source": [
    "### Task 5: Convex programming (logistic regression)"
   ]
  },
  {
   "cell_type": "code",
   "execution_count": 8,
   "id": "b1b82523",
   "metadata": {
    "execution": {
     "iopub.execute_input": "2024-02-25T21:10:48.141288Z",
     "iopub.status.busy": "2024-02-25T21:10:48.141010Z",
     "iopub.status.idle": "2024-02-25T21:10:48.147590Z",
     "shell.execute_reply": "2024-02-25T21:10:48.147092Z"
    }
   },
   "outputs": [
    {
     "data": {
      "text/html": [
       "<div>\n",
       "<style scoped>\n",
       "    .dataframe tbody tr th:only-of-type {\n",
       "        vertical-align: middle;\n",
       "    }\n",
       "\n",
       "    .dataframe tbody tr th {\n",
       "        vertical-align: top;\n",
       "    }\n",
       "\n",
       "    .dataframe thead th {\n",
       "        text-align: right;\n",
       "    }\n",
       "</style>\n",
       "<table border=\"1\" class=\"dataframe\">\n",
       "  <thead>\n",
       "    <tr style=\"text-align: right;\">\n",
       "      <th></th>\n",
       "      <th>config_id</th>\n",
       "      <th>seconds</th>\n",
       "    </tr>\n",
       "  </thead>\n",
       "  <tbody>\n",
       "    <tr>\n",
       "      <th>32</th>\n",
       "      <td>mkl2020.0_debug</td>\n",
       "      <td>3.841233</td>\n",
       "    </tr>\n",
       "    <tr>\n",
       "      <th>42</th>\n",
       "      <td>mkl2020.0</td>\n",
       "      <td>3.837779</td>\n",
       "    </tr>\n",
       "    <tr>\n",
       "      <th>52</th>\n",
       "      <td>mkl2024.0</td>\n",
       "      <td>3.828803</td>\n",
       "    </tr>\n",
       "    <tr>\n",
       "      <th>12</th>\n",
       "      <td>mkl2019.5_debug</td>\n",
       "      <td>3.777764</td>\n",
       "    </tr>\n",
       "    <tr>\n",
       "      <th>22</th>\n",
       "      <td>openblas</td>\n",
       "      <td>3.774116</td>\n",
       "    </tr>\n",
       "    <tr>\n",
       "      <th>2</th>\n",
       "      <td>mkl2020.1_fakeintel</td>\n",
       "      <td>3.754651</td>\n",
       "    </tr>\n",
       "  </tbody>\n",
       "</table>\n",
       "</div>"
      ],
      "text/plain": [
       "              config_id   seconds\n",
       "32      mkl2020.0_debug  3.841233\n",
       "42            mkl2020.0  3.837779\n",
       "52            mkl2024.0  3.828803\n",
       "12      mkl2019.5_debug  3.777764\n",
       "22             openblas  3.774116\n",
       "2   mkl2020.1_fakeintel  3.754651"
      ]
     },
     "execution_count": 8,
     "metadata": {},
     "output_type": "execute_result"
    }
   ],
   "source": [
    "df_task = df[df[\"task_id\"] == \"cvxprog\"]\n",
    "df_task[[\"config_id\", \"seconds\"]].sort_values(\"seconds\", ascending=False)"
   ]
  }
 ],
 "metadata": {
  "language_info": {
   "codemirror_mode": {
    "name": "ipython",
    "version": 3
   },
   "file_extension": ".py",
   "mimetype": "text/x-python",
   "name": "python",
   "nbconvert_exporter": "python",
   "pygments_lexer": "ipython3",
   "version": "3.8.18"
  }
 },
 "nbformat": 4,
 "nbformat_minor": 5
}
