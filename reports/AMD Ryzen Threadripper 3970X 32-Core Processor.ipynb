{
 "cells": [
  {
   "cell_type": "markdown",
   "id": "ae2689ed",
   "metadata": {},
   "source": [
    "# AMD Ryzen Threadripper 3970X 32-Core Processor"
   ]
  },
  {
   "cell_type": "code",
   "execution_count": 1,
   "id": "12a30462",
   "metadata": {
    "execution": {
     "iopub.execute_input": "2024-02-24T19:32:27.752418Z",
     "iopub.status.busy": "2024-02-24T19:32:27.752209Z",
     "iopub.status.idle": "2024-02-24T19:32:27.906635Z",
     "shell.execute_reply": "2024-02-24T19:32:27.906024Z"
    }
   },
   "outputs": [],
   "source": [
    "import pandas as pd\n",
    "import numpy as np"
   ]
  },
  {
   "cell_type": "code",
   "execution_count": 2,
   "id": "2de4a541",
   "metadata": {
    "execution": {
     "iopub.execute_input": "2024-02-24T19:32:27.908713Z",
     "iopub.status.busy": "2024-02-24T19:32:27.908551Z",
     "iopub.status.idle": "2024-02-24T19:32:27.912993Z",
     "shell.execute_reply": "2024-02-24T19:32:27.912540Z"
    }
   },
   "outputs": [],
   "source": [
    "df = pd.read_csv(\"results.csv\")\n",
    "df = df[df[\"cpu_name\"] == \"AMD Ryzen Threadripper 3970X 32-Core Processor\"]"
   ]
  },
  {
   "cell_type": "markdown",
   "id": "49b1fd1b",
   "metadata": {},
   "source": [
    "## Highscore"
   ]
  },
  {
   "cell_type": "markdown",
   "id": "84edfe62",
   "metadata": {},
   "source": [
    "The *score* of a configuration is the *geometric mean* of the best possible speed-up in comparison to the other configurations."
   ]
  },
  {
   "cell_type": "code",
   "execution_count": 3,
   "id": "bbb6679e",
   "metadata": {
    "execution": {
     "iopub.execute_input": "2024-02-24T19:32:27.915379Z",
     "iopub.status.busy": "2024-02-24T19:32:27.914965Z",
     "iopub.status.idle": "2024-02-24T19:32:27.933601Z",
     "shell.execute_reply": "2024-02-24T19:32:27.933133Z"
    }
   },
   "outputs": [
    {
     "data": {
      "text/html": [
       "<div>\n",
       "<style scoped>\n",
       "    .dataframe tbody tr th:only-of-type {\n",
       "        vertical-align: middle;\n",
       "    }\n",
       "\n",
       "    .dataframe tbody tr th {\n",
       "        vertical-align: top;\n",
       "    }\n",
       "\n",
       "    .dataframe thead th {\n",
       "        text-align: right;\n",
       "    }\n",
       "</style>\n",
       "<table border=\"1\" class=\"dataframe\">\n",
       "  <thead>\n",
       "    <tr style=\"text-align: right;\">\n",
       "      <th></th>\n",
       "      <th>config_id</th>\n",
       "      <th>score</th>\n",
       "    </tr>\n",
       "  </thead>\n",
       "  <tbody>\n",
       "    <tr>\n",
       "      <th>0</th>\n",
       "      <td>mkl2020.0_debug</td>\n",
       "      <td>1.162179</td>\n",
       "    </tr>\n",
       "    <tr>\n",
       "      <th>1</th>\n",
       "      <td>mkl2020.0</td>\n",
       "      <td>1.153294</td>\n",
       "    </tr>\n",
       "    <tr>\n",
       "      <th>2</th>\n",
       "      <td>mkl2019.5_debug</td>\n",
       "      <td>1.152848</td>\n",
       "    </tr>\n",
       "    <tr>\n",
       "      <th>3</th>\n",
       "      <td>mkl2020.1_fakeintel</td>\n",
       "      <td>1.149275</td>\n",
       "    </tr>\n",
       "    <tr>\n",
       "      <th>4</th>\n",
       "      <td>mkl2024.0</td>\n",
       "      <td>1.139014</td>\n",
       "    </tr>\n",
       "    <tr>\n",
       "      <th>5</th>\n",
       "      <td>openblas</td>\n",
       "      <td>1.010879</td>\n",
       "    </tr>\n",
       "  </tbody>\n",
       "</table>\n",
       "</div>"
      ],
      "text/plain": [
       "             config_id     score\n",
       "0      mkl2020.0_debug  1.162179\n",
       "1            mkl2020.0  1.153294\n",
       "2      mkl2019.5_debug  1.152848\n",
       "3  mkl2020.1_fakeintel  1.149275\n",
       "4            mkl2024.0  1.139014\n",
       "5             openblas  1.010879"
      ]
     },
     "execution_count": 3,
     "metadata": {},
     "output_type": "execute_result"
    }
   ],
   "source": [
    "configs = df[\"config_id\"].unique()\n",
    "scores = {config_id: list() for config_id in configs}\n",
    "for task_id in df[\"task_id\"].unique():\n",
    "    df_task = df[df[\"task_id\"] == task_id]\n",
    "    for config_id in configs:\n",
    "        config_seconds = df_task[df_task[\"config_id\"] == config_id][\"seconds\"].min()\n",
    "        ref_seconds = df_task[\"seconds\"].max()\n",
    "        max_speedup = ref_seconds / config_seconds\n",
    "        scores[config_id].append(max_speedup)\n",
    "mean_scores = {config_id: np.prod(scores[config_id]) / len(scores[config_id])}\n",
    "mean_scores = [pow(np.prod(scores[config_id]), 1 / len(scores[config_id])) for config_id in configs]\n",
    "df_scores = pd.DataFrame.from_dict(dict(config_id=configs, score=mean_scores))\n",
    "df_scores.sort_values(\"score\", ascending=False).reset_index(drop=True)"
   ]
  },
  {
   "cell_type": "markdown",
   "id": "a90e1eb7",
   "metadata": {},
   "source": [
    "## Benchmark details"
   ]
  },
  {
   "cell_type": "markdown",
   "id": "48ee8550",
   "metadata": {},
   "source": [
    "### Task 1: Dotted two 4096x4096 matrices"
   ]
  },
  {
   "cell_type": "code",
   "execution_count": 4,
   "id": "3c9e55c8",
   "metadata": {
    "execution": {
     "iopub.execute_input": "2024-02-24T19:32:27.935752Z",
     "iopub.status.busy": "2024-02-24T19:32:27.935641Z",
     "iopub.status.idle": "2024-02-24T19:32:27.940990Z",
     "shell.execute_reply": "2024-02-24T19:32:27.940447Z"
    }
   },
   "outputs": [
    {
     "data": {
      "text/html": [
       "<div>\n",
       "<style scoped>\n",
       "    .dataframe tbody tr th:only-of-type {\n",
       "        vertical-align: middle;\n",
       "    }\n",
       "\n",
       "    .dataframe tbody tr th {\n",
       "        vertical-align: top;\n",
       "    }\n",
       "\n",
       "    .dataframe thead th {\n",
       "        text-align: right;\n",
       "    }\n",
       "</style>\n",
       "<table border=\"1\" class=\"dataframe\">\n",
       "  <thead>\n",
       "    <tr style=\"text-align: right;\">\n",
       "      <th></th>\n",
       "      <th>config_id</th>\n",
       "      <th>seconds</th>\n",
       "    </tr>\n",
       "  </thead>\n",
       "  <tbody>\n",
       "    <tr>\n",
       "      <th>27</th>\n",
       "      <td>openblas</td>\n",
       "      <td>1.267154</td>\n",
       "    </tr>\n",
       "    <tr>\n",
       "      <th>47</th>\n",
       "      <td>mkl2020.0</td>\n",
       "      <td>1.164649</td>\n",
       "    </tr>\n",
       "    <tr>\n",
       "      <th>57</th>\n",
       "      <td>mkl2024.0</td>\n",
       "      <td>1.152925</td>\n",
       "    </tr>\n",
       "    <tr>\n",
       "      <th>37</th>\n",
       "      <td>mkl2020.0_debug</td>\n",
       "      <td>1.150469</td>\n",
       "    </tr>\n",
       "    <tr>\n",
       "      <th>17</th>\n",
       "      <td>mkl2019.5_debug</td>\n",
       "      <td>1.149742</td>\n",
       "    </tr>\n",
       "    <tr>\n",
       "      <th>7</th>\n",
       "      <td>mkl2020.1_fakeintel</td>\n",
       "      <td>1.142001</td>\n",
       "    </tr>\n",
       "  </tbody>\n",
       "</table>\n",
       "</div>"
      ],
      "text/plain": [
       "              config_id   seconds\n",
       "27             openblas  1.267154\n",
       "47            mkl2020.0  1.164649\n",
       "57            mkl2024.0  1.152925\n",
       "37      mkl2020.0_debug  1.150469\n",
       "17      mkl2019.5_debug  1.149742\n",
       "7   mkl2020.1_fakeintel  1.142001"
      ]
     },
     "execution_count": 4,
     "metadata": {},
     "output_type": "execute_result"
    }
   ],
   "source": [
    "df_task = df[df[\"task_id\"] == \"dot4096\"]\n",
    "df_task[[\"config_id\", \"seconds\"]].sort_values(\"seconds\", ascending=False)"
   ]
  },
  {
   "cell_type": "markdown",
   "id": "737d0963",
   "metadata": {},
   "source": [
    "### Task 2: Dotted two vectors of length 524288"
   ]
  },
  {
   "cell_type": "code",
   "execution_count": 5,
   "id": "78db748a",
   "metadata": {
    "execution": {
     "iopub.execute_input": "2024-02-24T19:32:27.943562Z",
     "iopub.status.busy": "2024-02-24T19:32:27.943011Z",
     "iopub.status.idle": "2024-02-24T19:32:27.950226Z",
     "shell.execute_reply": "2024-02-24T19:32:27.949827Z"
    }
   },
   "outputs": [
    {
     "data": {
      "text/html": [
       "<div>\n",
       "<style scoped>\n",
       "    .dataframe tbody tr th:only-of-type {\n",
       "        vertical-align: middle;\n",
       "    }\n",
       "\n",
       "    .dataframe tbody tr th {\n",
       "        vertical-align: top;\n",
       "    }\n",
       "\n",
       "    .dataframe thead th {\n",
       "        text-align: right;\n",
       "    }\n",
       "</style>\n",
       "<table border=\"1\" class=\"dataframe\">\n",
       "  <thead>\n",
       "    <tr style=\"text-align: right;\">\n",
       "      <th></th>\n",
       "      <th>config_id</th>\n",
       "      <th>seconds</th>\n",
       "    </tr>\n",
       "  </thead>\n",
       "  <tbody>\n",
       "    <tr>\n",
       "      <th>29</th>\n",
       "      <td>openblas</td>\n",
       "      <td>0.000279</td>\n",
       "    </tr>\n",
       "    <tr>\n",
       "      <th>59</th>\n",
       "      <td>mkl2024.0</td>\n",
       "      <td>0.000276</td>\n",
       "    </tr>\n",
       "    <tr>\n",
       "      <th>49</th>\n",
       "      <td>mkl2020.0</td>\n",
       "      <td>0.000275</td>\n",
       "    </tr>\n",
       "    <tr>\n",
       "      <th>39</th>\n",
       "      <td>mkl2020.0_debug</td>\n",
       "      <td>0.000272</td>\n",
       "    </tr>\n",
       "    <tr>\n",
       "      <th>9</th>\n",
       "      <td>mkl2020.1_fakeintel</td>\n",
       "      <td>0.000271</td>\n",
       "    </tr>\n",
       "    <tr>\n",
       "      <th>19</th>\n",
       "      <td>mkl2019.5_debug</td>\n",
       "      <td>0.000267</td>\n",
       "    </tr>\n",
       "  </tbody>\n",
       "</table>\n",
       "</div>"
      ],
      "text/plain": [
       "              config_id   seconds\n",
       "29             openblas  0.000279\n",
       "59            mkl2024.0  0.000276\n",
       "49            mkl2020.0  0.000275\n",
       "39      mkl2020.0_debug  0.000272\n",
       "9   mkl2020.1_fakeintel  0.000271\n",
       "19      mkl2019.5_debug  0.000267"
      ]
     },
     "execution_count": 5,
     "metadata": {},
     "output_type": "execute_result"
    }
   ],
   "source": [
    "df_task = df[df[\"task_id\"] == \"dot524288\"]\n",
    "df_task[[\"config_id\", \"seconds\"]].sort_values(\"seconds\", ascending=False)"
   ]
  },
  {
   "cell_type": "markdown",
   "id": "9cb56de3",
   "metadata": {},
   "source": [
    "### Task 3: SVD of a 2048x1024 matrix"
   ]
  },
  {
   "cell_type": "code",
   "execution_count": 6,
   "id": "b7fda055",
   "metadata": {
    "execution": {
     "iopub.execute_input": "2024-02-24T19:32:27.951915Z",
     "iopub.status.busy": "2024-02-24T19:32:27.951806Z",
     "iopub.status.idle": "2024-02-24T19:32:27.956971Z",
     "shell.execute_reply": "2024-02-24T19:32:27.956517Z"
    }
   },
   "outputs": [
    {
     "data": {
      "text/html": [
       "<div>\n",
       "<style scoped>\n",
       "    .dataframe tbody tr th:only-of-type {\n",
       "        vertical-align: middle;\n",
       "    }\n",
       "\n",
       "    .dataframe tbody tr th {\n",
       "        vertical-align: top;\n",
       "    }\n",
       "\n",
       "    .dataframe thead th {\n",
       "        text-align: right;\n",
       "    }\n",
       "</style>\n",
       "<table border=\"1\" class=\"dataframe\">\n",
       "  <thead>\n",
       "    <tr style=\"text-align: right;\">\n",
       "      <th></th>\n",
       "      <th>config_id</th>\n",
       "      <th>seconds</th>\n",
       "    </tr>\n",
       "  </thead>\n",
       "  <tbody>\n",
       "    <tr>\n",
       "      <th>21</th>\n",
       "      <td>openblas</td>\n",
       "      <td>0.971306</td>\n",
       "    </tr>\n",
       "    <tr>\n",
       "      <th>1</th>\n",
       "      <td>mkl2020.1_fakeintel</td>\n",
       "      <td>0.715189</td>\n",
       "    </tr>\n",
       "    <tr>\n",
       "      <th>31</th>\n",
       "      <td>mkl2020.0_debug</td>\n",
       "      <td>0.714772</td>\n",
       "    </tr>\n",
       "    <tr>\n",
       "      <th>11</th>\n",
       "      <td>mkl2019.5_debug</td>\n",
       "      <td>0.713602</td>\n",
       "    </tr>\n",
       "    <tr>\n",
       "      <th>41</th>\n",
       "      <td>mkl2020.0</td>\n",
       "      <td>0.713489</td>\n",
       "    </tr>\n",
       "    <tr>\n",
       "      <th>51</th>\n",
       "      <td>mkl2024.0</td>\n",
       "      <td>0.713080</td>\n",
       "    </tr>\n",
       "  </tbody>\n",
       "</table>\n",
       "</div>"
      ],
      "text/plain": [
       "              config_id   seconds\n",
       "21             openblas  0.971306\n",
       "1   mkl2020.1_fakeintel  0.715189\n",
       "31      mkl2020.0_debug  0.714772\n",
       "11      mkl2019.5_debug  0.713602\n",
       "41            mkl2020.0  0.713489\n",
       "51            mkl2024.0  0.713080"
      ]
     },
     "execution_count": 6,
     "metadata": {},
     "output_type": "execute_result"
    }
   ],
   "source": [
    "df_task = df[df[\"task_id\"] == \"svd\"]\n",
    "df_task[[\"config_id\", \"seconds\"]].sort_values(\"seconds\", ascending=False)"
   ]
  },
  {
   "cell_type": "markdown",
   "id": "0c58b430",
   "metadata": {},
   "source": [
    "### Task 4: Eigendecomposition of a 2048x2048 matrix"
   ]
  },
  {
   "cell_type": "code",
   "execution_count": 7,
   "id": "82d55619",
   "metadata": {
    "execution": {
     "iopub.execute_input": "2024-02-24T19:32:27.959269Z",
     "iopub.status.busy": "2024-02-24T19:32:27.958815Z",
     "iopub.status.idle": "2024-02-24T19:32:27.966157Z",
     "shell.execute_reply": "2024-02-24T19:32:27.965632Z"
    }
   },
   "outputs": [
    {
     "data": {
      "text/html": [
       "<div>\n",
       "<style scoped>\n",
       "    .dataframe tbody tr th:only-of-type {\n",
       "        vertical-align: middle;\n",
       "    }\n",
       "\n",
       "    .dataframe tbody tr th {\n",
       "        vertical-align: top;\n",
       "    }\n",
       "\n",
       "    .dataframe thead th {\n",
       "        text-align: right;\n",
       "    }\n",
       "</style>\n",
       "<table border=\"1\" class=\"dataframe\">\n",
       "  <thead>\n",
       "    <tr style=\"text-align: right;\">\n",
       "      <th></th>\n",
       "      <th>config_id</th>\n",
       "      <th>seconds</th>\n",
       "    </tr>\n",
       "  </thead>\n",
       "  <tbody>\n",
       "    <tr>\n",
       "      <th>23</th>\n",
       "      <td>openblas</td>\n",
       "      <td>5.407953</td>\n",
       "    </tr>\n",
       "    <tr>\n",
       "      <th>53</th>\n",
       "      <td>mkl2024.0</td>\n",
       "      <td>4.542563</td>\n",
       "    </tr>\n",
       "    <tr>\n",
       "      <th>13</th>\n",
       "      <td>mkl2019.5_debug</td>\n",
       "      <td>4.288708</td>\n",
       "    </tr>\n",
       "    <tr>\n",
       "      <th>43</th>\n",
       "      <td>mkl2020.0</td>\n",
       "      <td>4.268820</td>\n",
       "    </tr>\n",
       "    <tr>\n",
       "      <th>33</th>\n",
       "      <td>mkl2020.0_debug</td>\n",
       "      <td>4.262851</td>\n",
       "    </tr>\n",
       "    <tr>\n",
       "      <th>3</th>\n",
       "      <td>mkl2020.1_fakeintel</td>\n",
       "      <td>4.192879</td>\n",
       "    </tr>\n",
       "  </tbody>\n",
       "</table>\n",
       "</div>"
      ],
      "text/plain": [
       "              config_id   seconds\n",
       "23             openblas  5.407953\n",
       "53            mkl2024.0  4.542563\n",
       "13      mkl2019.5_debug  4.288708\n",
       "43            mkl2020.0  4.268820\n",
       "33      mkl2020.0_debug  4.262851\n",
       "3   mkl2020.1_fakeintel  4.192879"
      ]
     },
     "execution_count": 7,
     "metadata": {},
     "output_type": "execute_result"
    }
   ],
   "source": [
    "df_task = df[df[\"task_id\"] == \"evd\"]\n",
    "df_task[[\"config_id\", \"seconds\"]].sort_values(\"seconds\", ascending=False)"
   ]
  },
  {
   "cell_type": "markdown",
   "id": "36e2cdb0",
   "metadata": {},
   "source": [
    "### Task 5: Convex programming (logistic regression)"
   ]
  },
  {
   "cell_type": "code",
   "execution_count": 8,
   "id": "be4dd3ae",
   "metadata": {
    "execution": {
     "iopub.execute_input": "2024-02-24T19:32:27.967814Z",
     "iopub.status.busy": "2024-02-24T19:32:27.967707Z",
     "iopub.status.idle": "2024-02-24T19:32:27.972761Z",
     "shell.execute_reply": "2024-02-24T19:32:27.972331Z"
    }
   },
   "outputs": [
    {
     "data": {
      "text/html": [
       "<div>\n",
       "<style scoped>\n",
       "    .dataframe tbody tr th:only-of-type {\n",
       "        vertical-align: middle;\n",
       "    }\n",
       "\n",
       "    .dataframe tbody tr th {\n",
       "        vertical-align: top;\n",
       "    }\n",
       "\n",
       "    .dataframe thead th {\n",
       "        text-align: right;\n",
       "    }\n",
       "</style>\n",
       "<table border=\"1\" class=\"dataframe\">\n",
       "  <thead>\n",
       "    <tr style=\"text-align: right;\">\n",
       "      <th></th>\n",
       "      <th>config_id</th>\n",
       "      <th>seconds</th>\n",
       "    </tr>\n",
       "  </thead>\n",
       "  <tbody>\n",
       "    <tr>\n",
       "      <th>5</th>\n",
       "      <td>mkl2020.1_fakeintel</td>\n",
       "      <td>3.861465</td>\n",
       "    </tr>\n",
       "    <tr>\n",
       "      <th>15</th>\n",
       "      <td>mkl2019.5_debug</td>\n",
       "      <td>3.754246</td>\n",
       "    </tr>\n",
       "    <tr>\n",
       "      <th>25</th>\n",
       "      <td>openblas</td>\n",
       "      <td>3.658103</td>\n",
       "    </tr>\n",
       "    <tr>\n",
       "      <th>55</th>\n",
       "      <td>mkl2024.0</td>\n",
       "      <td>3.629287</td>\n",
       "    </tr>\n",
       "    <tr>\n",
       "      <th>45</th>\n",
       "      <td>mkl2020.0</td>\n",
       "      <td>3.606710</td>\n",
       "    </tr>\n",
       "    <tr>\n",
       "      <th>35</th>\n",
       "      <td>mkl2020.0_debug</td>\n",
       "      <td>3.557763</td>\n",
       "    </tr>\n",
       "  </tbody>\n",
       "</table>\n",
       "</div>"
      ],
      "text/plain": [
       "              config_id   seconds\n",
       "5   mkl2020.1_fakeintel  3.861465\n",
       "15      mkl2019.5_debug  3.754246\n",
       "25             openblas  3.658103\n",
       "55            mkl2024.0  3.629287\n",
       "45            mkl2020.0  3.606710\n",
       "35      mkl2020.0_debug  3.557763"
      ]
     },
     "execution_count": 8,
     "metadata": {},
     "output_type": "execute_result"
    }
   ],
   "source": [
    "df_task = df[df[\"task_id\"] == \"cvxprog\"]\n",
    "df_task[[\"config_id\", \"seconds\"]].sort_values(\"seconds\", ascending=False)"
   ]
  }
 ],
 "metadata": {
  "language_info": {
   "codemirror_mode": {
    "name": "ipython",
    "version": 3
   },
   "file_extension": ".py",
   "mimetype": "text/x-python",
   "name": "python",
   "nbconvert_exporter": "python",
   "pygments_lexer": "ipython3",
   "version": "3.8.18"
  }
 },
 "nbformat": 4,
 "nbformat_minor": 5
}
