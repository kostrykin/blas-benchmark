{
 "cells": [
  {
   "cell_type": "markdown",
   "id": "29f3435c",
   "metadata": {},
   "source": [
    "# AMD Ryzen Threadripper 3970X 32-Core Processor"
   ]
  },
  {
   "cell_type": "code",
   "execution_count": 1,
   "id": "c7e333fb",
   "metadata": {
    "execution": {
     "iopub.execute_input": "2024-02-23T22:57:45.272561Z",
     "iopub.status.busy": "2024-02-23T22:57:45.272124Z",
     "iopub.status.idle": "2024-02-23T22:57:45.416739Z",
     "shell.execute_reply": "2024-02-23T22:57:45.416125Z"
    }
   },
   "outputs": [],
   "source": [
    "import pandas as pd"
   ]
  },
  {
   "cell_type": "code",
   "execution_count": 2,
   "id": "98c0de0a",
   "metadata": {
    "execution": {
     "iopub.execute_input": "2024-02-23T22:57:45.418890Z",
     "iopub.status.busy": "2024-02-23T22:57:45.418733Z",
     "iopub.status.idle": "2024-02-23T22:57:45.423316Z",
     "shell.execute_reply": "2024-02-23T22:57:45.422845Z"
    }
   },
   "outputs": [],
   "source": [
    "df = pd.read_csv(\"results.csv\")\n",
    "df = df[df[\"cpu_name\"] == \"AMD Ryzen Threadripper 3970X 32-Core Processor\"]"
   ]
  },
  {
   "cell_type": "markdown",
   "id": "be3b0d4b",
   "metadata": {},
   "source": [
    "### Eigendecomposition of a 2048x2048 matrix"
   ]
  },
  {
   "cell_type": "code",
   "execution_count": 3,
   "id": "a5a89bdc",
   "metadata": {
    "execution": {
     "iopub.execute_input": "2024-02-23T22:57:45.425643Z",
     "iopub.status.busy": "2024-02-23T22:57:45.425298Z",
     "iopub.status.idle": "2024-02-23T22:57:45.435503Z",
     "shell.execute_reply": "2024-02-23T22:57:45.435042Z"
    }
   },
   "outputs": [
    {
     "data": {
      "text/html": [
       "<div>\n",
       "<style scoped>\n",
       "    .dataframe tbody tr th:only-of-type {\n",
       "        vertical-align: middle;\n",
       "    }\n",
       "\n",
       "    .dataframe tbody tr th {\n",
       "        vertical-align: top;\n",
       "    }\n",
       "\n",
       "    .dataframe thead th {\n",
       "        text-align: right;\n",
       "    }\n",
       "</style>\n",
       "<table border=\"1\" class=\"dataframe\">\n",
       "  <thead>\n",
       "    <tr style=\"text-align: right;\">\n",
       "      <th></th>\n",
       "      <th>config_id</th>\n",
       "      <th>seconds</th>\n",
       "    </tr>\n",
       "  </thead>\n",
       "  <tbody>\n",
       "    <tr>\n",
       "      <th>33</th>\n",
       "      <td>mkl2023.0_fakeintel</td>\n",
       "      <td>22.072643</td>\n",
       "    </tr>\n",
       "    <tr>\n",
       "      <th>11</th>\n",
       "      <td>openblas</td>\n",
       "      <td>5.326089</td>\n",
       "    </tr>\n",
       "    <tr>\n",
       "      <th>39</th>\n",
       "      <td>mkl2024.0</td>\n",
       "      <td>4.377142</td>\n",
       "    </tr>\n",
       "    <tr>\n",
       "      <th>3</th>\n",
       "      <td>mkl2019.5_debug</td>\n",
       "      <td>4.109492</td>\n",
       "    </tr>\n",
       "    <tr>\n",
       "      <th>27</th>\n",
       "      <td>mkl2020.0</td>\n",
       "      <td>4.097495</td>\n",
       "    </tr>\n",
       "    <tr>\n",
       "      <th>19</th>\n",
       "      <td>mkl2020.0_debug</td>\n",
       "      <td>4.081514</td>\n",
       "    </tr>\n",
       "  </tbody>\n",
       "</table>\n",
       "</div>"
      ],
      "text/plain": [
       "              config_id    seconds\n",
       "33  mkl2023.0_fakeintel  22.072643\n",
       "11             openblas   5.326089\n",
       "39            mkl2024.0   4.377142\n",
       "3       mkl2019.5_debug   4.109492\n",
       "27            mkl2020.0   4.097495\n",
       "19      mkl2020.0_debug   4.081514"
      ]
     },
     "execution_count": 3,
     "metadata": {},
     "output_type": "execute_result"
    }
   ],
   "source": [
    "df_task = df[df[\"task_id\"] == \"evd\"]\n",
    "df_task[[\"config_id\", \"seconds\"]].sort_values(\"seconds\", ascending=False)"
   ]
  },
  {
   "cell_type": "markdown",
   "id": "bc1175f2",
   "metadata": {},
   "source": [
    "### Dotted two 4096x4096 matrices"
   ]
  },
  {
   "cell_type": "code",
   "execution_count": 4,
   "id": "abfee77b",
   "metadata": {
    "execution": {
     "iopub.execute_input": "2024-02-23T22:57:45.437464Z",
     "iopub.status.busy": "2024-02-23T22:57:45.437249Z",
     "iopub.status.idle": "2024-02-23T22:57:45.442857Z",
     "shell.execute_reply": "2024-02-23T22:57:45.442396Z"
    }
   },
   "outputs": [
    {
     "data": {
      "text/html": [
       "<div>\n",
       "<style scoped>\n",
       "    .dataframe tbody tr th:only-of-type {\n",
       "        vertical-align: middle;\n",
       "    }\n",
       "\n",
       "    .dataframe tbody tr th {\n",
       "        vertical-align: top;\n",
       "    }\n",
       "\n",
       "    .dataframe thead th {\n",
       "        text-align: right;\n",
       "    }\n",
       "</style>\n",
       "<table border=\"1\" class=\"dataframe\">\n",
       "  <thead>\n",
       "    <tr style=\"text-align: right;\">\n",
       "      <th></th>\n",
       "      <th>config_id</th>\n",
       "      <th>seconds</th>\n",
       "    </tr>\n",
       "  </thead>\n",
       "  <tbody>\n",
       "    <tr>\n",
       "      <th>34</th>\n",
       "      <td>mkl2023.0_fakeintel</td>\n",
       "      <td>26.831279</td>\n",
       "    </tr>\n",
       "    <tr>\n",
       "      <th>13</th>\n",
       "      <td>openblas</td>\n",
       "      <td>1.270478</td>\n",
       "    </tr>\n",
       "    <tr>\n",
       "      <th>29</th>\n",
       "      <td>mkl2020.0</td>\n",
       "      <td>1.155068</td>\n",
       "    </tr>\n",
       "    <tr>\n",
       "      <th>41</th>\n",
       "      <td>mkl2024.0</td>\n",
       "      <td>1.147374</td>\n",
       "    </tr>\n",
       "    <tr>\n",
       "      <th>5</th>\n",
       "      <td>mkl2019.5_debug</td>\n",
       "      <td>1.145674</td>\n",
       "    </tr>\n",
       "    <tr>\n",
       "      <th>21</th>\n",
       "      <td>mkl2020.0_debug</td>\n",
       "      <td>1.145637</td>\n",
       "    </tr>\n",
       "  </tbody>\n",
       "</table>\n",
       "</div>"
      ],
      "text/plain": [
       "              config_id    seconds\n",
       "34  mkl2023.0_fakeintel  26.831279\n",
       "13             openblas   1.270478\n",
       "29            mkl2020.0   1.155068\n",
       "41            mkl2024.0   1.147374\n",
       "5       mkl2019.5_debug   1.145674\n",
       "21      mkl2020.0_debug   1.145637"
      ]
     },
     "execution_count": 4,
     "metadata": {},
     "output_type": "execute_result"
    }
   ],
   "source": [
    "df_task = df[df[\"task_id\"] == \"dot4096\"]\n",
    "df_task[[\"config_id\", \"seconds\"]].sort_values(\"seconds\", ascending=False)"
   ]
  },
  {
   "cell_type": "markdown",
   "id": "d8c4e728",
   "metadata": {},
   "source": [
    "### Dotted two vectors of length 524288"
   ]
  },
  {
   "cell_type": "code",
   "execution_count": 5,
   "id": "ae0d2cf0",
   "metadata": {
    "execution": {
     "iopub.execute_input": "2024-02-23T22:57:45.445168Z",
     "iopub.status.busy": "2024-02-23T22:57:45.444759Z",
     "iopub.status.idle": "2024-02-23T22:57:45.451429Z",
     "shell.execute_reply": "2024-02-23T22:57:45.450923Z"
    }
   },
   "outputs": [
    {
     "data": {
      "text/html": [
       "<div>\n",
       "<style scoped>\n",
       "    .dataframe tbody tr th:only-of-type {\n",
       "        vertical-align: middle;\n",
       "    }\n",
       "\n",
       "    .dataframe tbody tr th {\n",
       "        vertical-align: top;\n",
       "    }\n",
       "\n",
       "    .dataframe thead th {\n",
       "        text-align: right;\n",
       "    }\n",
       "</style>\n",
       "<table border=\"1\" class=\"dataframe\">\n",
       "  <thead>\n",
       "    <tr style=\"text-align: right;\">\n",
       "      <th></th>\n",
       "      <th>config_id</th>\n",
       "      <th>seconds</th>\n",
       "    </tr>\n",
       "  </thead>\n",
       "  <tbody>\n",
       "    <tr>\n",
       "      <th>35</th>\n",
       "      <td>mkl2023.0_fakeintel</td>\n",
       "      <td>0.000370</td>\n",
       "    </tr>\n",
       "    <tr>\n",
       "      <th>23</th>\n",
       "      <td>mkl2020.0_debug</td>\n",
       "      <td>0.000045</td>\n",
       "    </tr>\n",
       "    <tr>\n",
       "      <th>15</th>\n",
       "      <td>openblas</td>\n",
       "      <td>0.000045</td>\n",
       "    </tr>\n",
       "    <tr>\n",
       "      <th>7</th>\n",
       "      <td>mkl2019.5_debug</td>\n",
       "      <td>0.000045</td>\n",
       "    </tr>\n",
       "    <tr>\n",
       "      <th>43</th>\n",
       "      <td>mkl2024.0</td>\n",
       "      <td>0.000045</td>\n",
       "    </tr>\n",
       "    <tr>\n",
       "      <th>31</th>\n",
       "      <td>mkl2020.0</td>\n",
       "      <td>0.000045</td>\n",
       "    </tr>\n",
       "  </tbody>\n",
       "</table>\n",
       "</div>"
      ],
      "text/plain": [
       "              config_id   seconds\n",
       "35  mkl2023.0_fakeintel  0.000370\n",
       "23      mkl2020.0_debug  0.000045\n",
       "15             openblas  0.000045\n",
       "7       mkl2019.5_debug  0.000045\n",
       "43            mkl2024.0  0.000045\n",
       "31            mkl2020.0  0.000045"
      ]
     },
     "execution_count": 5,
     "metadata": {},
     "output_type": "execute_result"
    }
   ],
   "source": [
    "df_task = df[df[\"task_id\"] == \"dot524288\"]\n",
    "df_task[[\"config_id\", \"seconds\"]].sort_values(\"seconds\", ascending=False)"
   ]
  },
  {
   "cell_type": "markdown",
   "id": "5ae1e0b9",
   "metadata": {},
   "source": [
    "### SVD of a 2048x1024 matrix"
   ]
  },
  {
   "cell_type": "code",
   "execution_count": 6,
   "id": "cf6cf601",
   "metadata": {
    "execution": {
     "iopub.execute_input": "2024-02-23T22:57:45.454305Z",
     "iopub.status.busy": "2024-02-23T22:57:45.453889Z",
     "iopub.status.idle": "2024-02-23T22:57:45.460832Z",
     "shell.execute_reply": "2024-02-23T22:57:45.460311Z"
    }
   },
   "outputs": [
    {
     "data": {
      "text/html": [
       "<div>\n",
       "<style scoped>\n",
       "    .dataframe tbody tr th:only-of-type {\n",
       "        vertical-align: middle;\n",
       "    }\n",
       "\n",
       "    .dataframe tbody tr th {\n",
       "        vertical-align: top;\n",
       "    }\n",
       "\n",
       "    .dataframe thead th {\n",
       "        text-align: right;\n",
       "    }\n",
       "</style>\n",
       "<table border=\"1\" class=\"dataframe\">\n",
       "  <thead>\n",
       "    <tr style=\"text-align: right;\">\n",
       "      <th></th>\n",
       "      <th>config_id</th>\n",
       "      <th>seconds</th>\n",
       "    </tr>\n",
       "  </thead>\n",
       "  <tbody>\n",
       "    <tr>\n",
       "      <th>32</th>\n",
       "      <td>mkl2023.0_fakeintel</td>\n",
       "      <td>6.136205</td>\n",
       "    </tr>\n",
       "    <tr>\n",
       "      <th>9</th>\n",
       "      <td>openblas</td>\n",
       "      <td>0.961966</td>\n",
       "    </tr>\n",
       "    <tr>\n",
       "      <th>37</th>\n",
       "      <td>mkl2024.0</td>\n",
       "      <td>0.708939</td>\n",
       "    </tr>\n",
       "    <tr>\n",
       "      <th>17</th>\n",
       "      <td>mkl2020.0_debug</td>\n",
       "      <td>0.708882</td>\n",
       "    </tr>\n",
       "    <tr>\n",
       "      <th>25</th>\n",
       "      <td>mkl2020.0</td>\n",
       "      <td>0.708372</td>\n",
       "    </tr>\n",
       "    <tr>\n",
       "      <th>1</th>\n",
       "      <td>mkl2019.5_debug</td>\n",
       "      <td>0.706079</td>\n",
       "    </tr>\n",
       "  </tbody>\n",
       "</table>\n",
       "</div>"
      ],
      "text/plain": [
       "              config_id   seconds\n",
       "32  mkl2023.0_fakeintel  6.136205\n",
       "9              openblas  0.961966\n",
       "37            mkl2024.0  0.708939\n",
       "17      mkl2020.0_debug  0.708882\n",
       "25            mkl2020.0  0.708372\n",
       "1       mkl2019.5_debug  0.706079"
      ]
     },
     "execution_count": 6,
     "metadata": {},
     "output_type": "execute_result"
    }
   ],
   "source": [
    "df_task = df[df[\"task_id\"] == \"svd\"]\n",
    "df_task[[\"config_id\", \"seconds\"]].sort_values(\"seconds\", ascending=False)"
   ]
  }
 ],
 "metadata": {
  "language_info": {
   "codemirror_mode": {
    "name": "ipython",
    "version": 3
   },
   "file_extension": ".py",
   "mimetype": "text/x-python",
   "name": "python",
   "nbconvert_exporter": "python",
   "pygments_lexer": "ipython3",
   "version": "3.8.18"
  }
 },
 "nbformat": 4,
 "nbformat_minor": 5
}
