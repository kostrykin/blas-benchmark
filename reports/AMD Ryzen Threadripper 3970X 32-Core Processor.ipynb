{
 "cells": [
  {
   "cell_type": "markdown",
   "id": "eb5924c2",
   "metadata": {},
   "source": [
    "# AMD Ryzen Threadripper 3970X 32-Core Processor"
   ]
  },
  {
   "cell_type": "code",
   "execution_count": 1,
   "id": "0e402f9d",
   "metadata": {
    "execution": {
     "iopub.execute_input": "2024-02-24T19:27:01.105635Z",
     "iopub.status.busy": "2024-02-24T19:27:01.105426Z",
     "iopub.status.idle": "2024-02-24T19:27:01.249972Z",
     "shell.execute_reply": "2024-02-24T19:27:01.249364Z"
    }
   },
   "outputs": [],
   "source": [
    "import pandas as pd\n",
    "import numpy as np"
   ]
  },
  {
   "cell_type": "code",
   "execution_count": 2,
   "id": "88f6c5bb",
   "metadata": {
    "execution": {
     "iopub.execute_input": "2024-02-24T19:27:01.252300Z",
     "iopub.status.busy": "2024-02-24T19:27:01.252143Z",
     "iopub.status.idle": "2024-02-24T19:27:01.256867Z",
     "shell.execute_reply": "2024-02-24T19:27:01.256267Z"
    }
   },
   "outputs": [],
   "source": [
    "df = pd.read_csv(\"results.csv\")\n",
    "df = df[df[\"cpu_name\"] == \"AMD Ryzen Threadripper 3970X 32-Core Processor\"]"
   ]
  },
  {
   "cell_type": "markdown",
   "id": "34cf83e0",
   "metadata": {},
   "source": [
    "## Highscore"
   ]
  },
  {
   "cell_type": "code",
   "execution_count": 3,
   "id": "04e50dc9",
   "metadata": {
    "execution": {
     "iopub.execute_input": "2024-02-24T19:27:01.259283Z",
     "iopub.status.busy": "2024-02-24T19:27:01.259119Z",
     "iopub.status.idle": "2024-02-24T19:27:01.279169Z",
     "shell.execute_reply": "2024-02-24T19:27:01.278723Z"
    }
   },
   "outputs": [
    {
     "data": {
      "text/html": [
       "<div>\n",
       "<style scoped>\n",
       "    .dataframe tbody tr th:only-of-type {\n",
       "        vertical-align: middle;\n",
       "    }\n",
       "\n",
       "    .dataframe tbody tr th {\n",
       "        vertical-align: top;\n",
       "    }\n",
       "\n",
       "    .dataframe thead th {\n",
       "        text-align: right;\n",
       "    }\n",
       "</style>\n",
       "<table border=\"1\" class=\"dataframe\">\n",
       "  <thead>\n",
       "    <tr style=\"text-align: right;\">\n",
       "      <th></th>\n",
       "      <th>config_id</th>\n",
       "      <th>score</th>\n",
       "    </tr>\n",
       "  </thead>\n",
       "  <tbody>\n",
       "    <tr>\n",
       "      <th>0</th>\n",
       "      <td>mkl2020.0_debug</td>\n",
       "      <td>0.424029</td>\n",
       "    </tr>\n",
       "    <tr>\n",
       "      <th>1</th>\n",
       "      <td>mkl2020.0</td>\n",
       "      <td>0.408066</td>\n",
       "    </tr>\n",
       "    <tr>\n",
       "      <th>2</th>\n",
       "      <td>mkl2019.5_debug</td>\n",
       "      <td>0.407278</td>\n",
       "    </tr>\n",
       "    <tr>\n",
       "      <th>3</th>\n",
       "      <td>mkl2020.1_fakeintel</td>\n",
       "      <td>0.401005</td>\n",
       "    </tr>\n",
       "    <tr>\n",
       "      <th>4</th>\n",
       "      <td>mkl2024.0</td>\n",
       "      <td>0.383421</td>\n",
       "    </tr>\n",
       "    <tr>\n",
       "      <th>5</th>\n",
       "      <td>openblas</td>\n",
       "      <td>0.211118</td>\n",
       "    </tr>\n",
       "  </tbody>\n",
       "</table>\n",
       "</div>"
      ],
      "text/plain": [
       "             config_id     score\n",
       "0      mkl2020.0_debug  0.424029\n",
       "1            mkl2020.0  0.408066\n",
       "2      mkl2019.5_debug  0.407278\n",
       "3  mkl2020.1_fakeintel  0.401005\n",
       "4            mkl2024.0  0.383421\n",
       "5             openblas  0.211118"
      ]
     },
     "execution_count": 3,
     "metadata": {},
     "output_type": "execute_result"
    }
   ],
   "source": [
    "configs = df[\"config_id\"].unique()\n",
    "scores = {config_id: list() for config_id in configs}\n",
    "for task_id in df[\"task_id\"].unique():\n",
    "    df_task = df[df[\"task_id\"] == task_id]\n",
    "    for config_id in configs:\n",
    "        config_seconds = df_task[df_task[\"config_id\"] == config_id][\"seconds\"].min()\n",
    "        ref_seconds = df_task[\"seconds\"].max()\n",
    "        max_speedup = ref_seconds / config_seconds\n",
    "        scores[config_id].append(max_speedup)\n",
    "mean_scores = {config_id: np.prod(scores[config_id]) / len(scores[config_id])}\n",
    "mean_scores = [np.prod(scores[config_id]) / len(scores[config_id]) for config_id in configs]\n",
    "df_scores = pd.DataFrame.from_dict(dict(config_id=configs, score=mean_scores))\n",
    "df_scores.sort_values(\"score\", ascending=False).reset_index(drop=True)"
   ]
  },
  {
   "cell_type": "markdown",
   "id": "b4236c1a",
   "metadata": {},
   "source": [
    "## Benchmark details"
   ]
  },
  {
   "cell_type": "markdown",
   "id": "63968aaf",
   "metadata": {},
   "source": [
    "### Dotted two 4096x4096 matrices"
   ]
  },
  {
   "cell_type": "code",
   "execution_count": 4,
   "id": "c7d14218",
   "metadata": {
    "execution": {
     "iopub.execute_input": "2024-02-24T19:27:01.281603Z",
     "iopub.status.busy": "2024-02-24T19:27:01.281298Z",
     "iopub.status.idle": "2024-02-24T19:27:01.286473Z",
     "shell.execute_reply": "2024-02-24T19:27:01.286041Z"
    }
   },
   "outputs": [
    {
     "data": {
      "text/html": [
       "<div>\n",
       "<style scoped>\n",
       "    .dataframe tbody tr th:only-of-type {\n",
       "        vertical-align: middle;\n",
       "    }\n",
       "\n",
       "    .dataframe tbody tr th {\n",
       "        vertical-align: top;\n",
       "    }\n",
       "\n",
       "    .dataframe thead th {\n",
       "        text-align: right;\n",
       "    }\n",
       "</style>\n",
       "<table border=\"1\" class=\"dataframe\">\n",
       "  <thead>\n",
       "    <tr style=\"text-align: right;\">\n",
       "      <th></th>\n",
       "      <th>config_id</th>\n",
       "      <th>seconds</th>\n",
       "    </tr>\n",
       "  </thead>\n",
       "  <tbody>\n",
       "    <tr>\n",
       "      <th>27</th>\n",
       "      <td>openblas</td>\n",
       "      <td>1.267154</td>\n",
       "    </tr>\n",
       "    <tr>\n",
       "      <th>47</th>\n",
       "      <td>mkl2020.0</td>\n",
       "      <td>1.164649</td>\n",
       "    </tr>\n",
       "    <tr>\n",
       "      <th>57</th>\n",
       "      <td>mkl2024.0</td>\n",
       "      <td>1.152925</td>\n",
       "    </tr>\n",
       "    <tr>\n",
       "      <th>37</th>\n",
       "      <td>mkl2020.0_debug</td>\n",
       "      <td>1.150469</td>\n",
       "    </tr>\n",
       "    <tr>\n",
       "      <th>17</th>\n",
       "      <td>mkl2019.5_debug</td>\n",
       "      <td>1.149742</td>\n",
       "    </tr>\n",
       "    <tr>\n",
       "      <th>7</th>\n",
       "      <td>mkl2020.1_fakeintel</td>\n",
       "      <td>1.142001</td>\n",
       "    </tr>\n",
       "  </tbody>\n",
       "</table>\n",
       "</div>"
      ],
      "text/plain": [
       "              config_id   seconds\n",
       "27             openblas  1.267154\n",
       "47            mkl2020.0  1.164649\n",
       "57            mkl2024.0  1.152925\n",
       "37      mkl2020.0_debug  1.150469\n",
       "17      mkl2019.5_debug  1.149742\n",
       "7   mkl2020.1_fakeintel  1.142001"
      ]
     },
     "execution_count": 4,
     "metadata": {},
     "output_type": "execute_result"
    }
   ],
   "source": [
    "df_task = df[df[\"task_id\"] == \"dot4096\"]\n",
    "df_task[[\"config_id\", \"seconds\"]].sort_values(\"seconds\", ascending=False)"
   ]
  },
  {
   "cell_type": "markdown",
   "id": "338a7015",
   "metadata": {},
   "source": [
    "### Dotted two vectors of length 524288"
   ]
  },
  {
   "cell_type": "code",
   "execution_count": 5,
   "id": "6b4a0211",
   "metadata": {
    "execution": {
     "iopub.execute_input": "2024-02-24T19:27:01.288651Z",
     "iopub.status.busy": "2024-02-24T19:27:01.288304Z",
     "iopub.status.idle": "2024-02-24T19:27:01.295059Z",
     "shell.execute_reply": "2024-02-24T19:27:01.294543Z"
    }
   },
   "outputs": [
    {
     "data": {
      "text/html": [
       "<div>\n",
       "<style scoped>\n",
       "    .dataframe tbody tr th:only-of-type {\n",
       "        vertical-align: middle;\n",
       "    }\n",
       "\n",
       "    .dataframe tbody tr th {\n",
       "        vertical-align: top;\n",
       "    }\n",
       "\n",
       "    .dataframe thead th {\n",
       "        text-align: right;\n",
       "    }\n",
       "</style>\n",
       "<table border=\"1\" class=\"dataframe\">\n",
       "  <thead>\n",
       "    <tr style=\"text-align: right;\">\n",
       "      <th></th>\n",
       "      <th>config_id</th>\n",
       "      <th>seconds</th>\n",
       "    </tr>\n",
       "  </thead>\n",
       "  <tbody>\n",
       "    <tr>\n",
       "      <th>29</th>\n",
       "      <td>openblas</td>\n",
       "      <td>0.000279</td>\n",
       "    </tr>\n",
       "    <tr>\n",
       "      <th>59</th>\n",
       "      <td>mkl2024.0</td>\n",
       "      <td>0.000276</td>\n",
       "    </tr>\n",
       "    <tr>\n",
       "      <th>49</th>\n",
       "      <td>mkl2020.0</td>\n",
       "      <td>0.000275</td>\n",
       "    </tr>\n",
       "    <tr>\n",
       "      <th>39</th>\n",
       "      <td>mkl2020.0_debug</td>\n",
       "      <td>0.000272</td>\n",
       "    </tr>\n",
       "    <tr>\n",
       "      <th>9</th>\n",
       "      <td>mkl2020.1_fakeintel</td>\n",
       "      <td>0.000271</td>\n",
       "    </tr>\n",
       "    <tr>\n",
       "      <th>19</th>\n",
       "      <td>mkl2019.5_debug</td>\n",
       "      <td>0.000267</td>\n",
       "    </tr>\n",
       "  </tbody>\n",
       "</table>\n",
       "</div>"
      ],
      "text/plain": [
       "              config_id   seconds\n",
       "29             openblas  0.000279\n",
       "59            mkl2024.0  0.000276\n",
       "49            mkl2020.0  0.000275\n",
       "39      mkl2020.0_debug  0.000272\n",
       "9   mkl2020.1_fakeintel  0.000271\n",
       "19      mkl2019.5_debug  0.000267"
      ]
     },
     "execution_count": 5,
     "metadata": {},
     "output_type": "execute_result"
    }
   ],
   "source": [
    "df_task = df[df[\"task_id\"] == \"dot524288\"]\n",
    "df_task[[\"config_id\", \"seconds\"]].sort_values(\"seconds\", ascending=False)"
   ]
  },
  {
   "cell_type": "markdown",
   "id": "cee98ee7",
   "metadata": {},
   "source": [
    "### SVD of a 2048x1024 matrix"
   ]
  },
  {
   "cell_type": "code",
   "execution_count": 6,
   "id": "76894d43",
   "metadata": {
    "execution": {
     "iopub.execute_input": "2024-02-24T19:27:01.297287Z",
     "iopub.status.busy": "2024-02-24T19:27:01.296943Z",
     "iopub.status.idle": "2024-02-24T19:27:01.303679Z",
     "shell.execute_reply": "2024-02-24T19:27:01.303168Z"
    }
   },
   "outputs": [
    {
     "data": {
      "text/html": [
       "<div>\n",
       "<style scoped>\n",
       "    .dataframe tbody tr th:only-of-type {\n",
       "        vertical-align: middle;\n",
       "    }\n",
       "\n",
       "    .dataframe tbody tr th {\n",
       "        vertical-align: top;\n",
       "    }\n",
       "\n",
       "    .dataframe thead th {\n",
       "        text-align: right;\n",
       "    }\n",
       "</style>\n",
       "<table border=\"1\" class=\"dataframe\">\n",
       "  <thead>\n",
       "    <tr style=\"text-align: right;\">\n",
       "      <th></th>\n",
       "      <th>config_id</th>\n",
       "      <th>seconds</th>\n",
       "    </tr>\n",
       "  </thead>\n",
       "  <tbody>\n",
       "    <tr>\n",
       "      <th>21</th>\n",
       "      <td>openblas</td>\n",
       "      <td>0.971306</td>\n",
       "    </tr>\n",
       "    <tr>\n",
       "      <th>1</th>\n",
       "      <td>mkl2020.1_fakeintel</td>\n",
       "      <td>0.715189</td>\n",
       "    </tr>\n",
       "    <tr>\n",
       "      <th>31</th>\n",
       "      <td>mkl2020.0_debug</td>\n",
       "      <td>0.714772</td>\n",
       "    </tr>\n",
       "    <tr>\n",
       "      <th>11</th>\n",
       "      <td>mkl2019.5_debug</td>\n",
       "      <td>0.713602</td>\n",
       "    </tr>\n",
       "    <tr>\n",
       "      <th>41</th>\n",
       "      <td>mkl2020.0</td>\n",
       "      <td>0.713489</td>\n",
       "    </tr>\n",
       "    <tr>\n",
       "      <th>51</th>\n",
       "      <td>mkl2024.0</td>\n",
       "      <td>0.713080</td>\n",
       "    </tr>\n",
       "  </tbody>\n",
       "</table>\n",
       "</div>"
      ],
      "text/plain": [
       "              config_id   seconds\n",
       "21             openblas  0.971306\n",
       "1   mkl2020.1_fakeintel  0.715189\n",
       "31      mkl2020.0_debug  0.714772\n",
       "11      mkl2019.5_debug  0.713602\n",
       "41            mkl2020.0  0.713489\n",
       "51            mkl2024.0  0.713080"
      ]
     },
     "execution_count": 6,
     "metadata": {},
     "output_type": "execute_result"
    }
   ],
   "source": [
    "df_task = df[df[\"task_id\"] == \"svd\"]\n",
    "df_task[[\"config_id\", \"seconds\"]].sort_values(\"seconds\", ascending=False)"
   ]
  },
  {
   "cell_type": "markdown",
   "id": "b2afdc88",
   "metadata": {},
   "source": [
    "### Eigendecomposition of a 2048x2048 matrix"
   ]
  },
  {
   "cell_type": "code",
   "execution_count": 7,
   "id": "ee68c0ff",
   "metadata": {
    "execution": {
     "iopub.execute_input": "2024-02-24T19:27:01.305815Z",
     "iopub.status.busy": "2024-02-24T19:27:01.305462Z",
     "iopub.status.idle": "2024-02-24T19:27:01.312191Z",
     "shell.execute_reply": "2024-02-24T19:27:01.311685Z"
    }
   },
   "outputs": [
    {
     "data": {
      "text/html": [
       "<div>\n",
       "<style scoped>\n",
       "    .dataframe tbody tr th:only-of-type {\n",
       "        vertical-align: middle;\n",
       "    }\n",
       "\n",
       "    .dataframe tbody tr th {\n",
       "        vertical-align: top;\n",
       "    }\n",
       "\n",
       "    .dataframe thead th {\n",
       "        text-align: right;\n",
       "    }\n",
       "</style>\n",
       "<table border=\"1\" class=\"dataframe\">\n",
       "  <thead>\n",
       "    <tr style=\"text-align: right;\">\n",
       "      <th></th>\n",
       "      <th>config_id</th>\n",
       "      <th>seconds</th>\n",
       "    </tr>\n",
       "  </thead>\n",
       "  <tbody>\n",
       "    <tr>\n",
       "      <th>23</th>\n",
       "      <td>openblas</td>\n",
       "      <td>5.407953</td>\n",
       "    </tr>\n",
       "    <tr>\n",
       "      <th>53</th>\n",
       "      <td>mkl2024.0</td>\n",
       "      <td>4.542563</td>\n",
       "    </tr>\n",
       "    <tr>\n",
       "      <th>13</th>\n",
       "      <td>mkl2019.5_debug</td>\n",
       "      <td>4.288708</td>\n",
       "    </tr>\n",
       "    <tr>\n",
       "      <th>43</th>\n",
       "      <td>mkl2020.0</td>\n",
       "      <td>4.268820</td>\n",
       "    </tr>\n",
       "    <tr>\n",
       "      <th>33</th>\n",
       "      <td>mkl2020.0_debug</td>\n",
       "      <td>4.262851</td>\n",
       "    </tr>\n",
       "    <tr>\n",
       "      <th>3</th>\n",
       "      <td>mkl2020.1_fakeintel</td>\n",
       "      <td>4.192879</td>\n",
       "    </tr>\n",
       "  </tbody>\n",
       "</table>\n",
       "</div>"
      ],
      "text/plain": [
       "              config_id   seconds\n",
       "23             openblas  5.407953\n",
       "53            mkl2024.0  4.542563\n",
       "13      mkl2019.5_debug  4.288708\n",
       "43            mkl2020.0  4.268820\n",
       "33      mkl2020.0_debug  4.262851\n",
       "3   mkl2020.1_fakeintel  4.192879"
      ]
     },
     "execution_count": 7,
     "metadata": {},
     "output_type": "execute_result"
    }
   ],
   "source": [
    "df_task = df[df[\"task_id\"] == \"evd\"]\n",
    "df_task[[\"config_id\", \"seconds\"]].sort_values(\"seconds\", ascending=False)"
   ]
  },
  {
   "cell_type": "markdown",
   "id": "901756de",
   "metadata": {},
   "source": [
    "### Convex programming (logistic regression)"
   ]
  },
  {
   "cell_type": "code",
   "execution_count": 8,
   "id": "f94b0d91",
   "metadata": {
    "execution": {
     "iopub.execute_input": "2024-02-24T19:27:01.314424Z",
     "iopub.status.busy": "2024-02-24T19:27:01.314078Z",
     "iopub.status.idle": "2024-02-24T19:27:01.320778Z",
     "shell.execute_reply": "2024-02-24T19:27:01.320272Z"
    }
   },
   "outputs": [
    {
     "data": {
      "text/html": [
       "<div>\n",
       "<style scoped>\n",
       "    .dataframe tbody tr th:only-of-type {\n",
       "        vertical-align: middle;\n",
       "    }\n",
       "\n",
       "    .dataframe tbody tr th {\n",
       "        vertical-align: top;\n",
       "    }\n",
       "\n",
       "    .dataframe thead th {\n",
       "        text-align: right;\n",
       "    }\n",
       "</style>\n",
       "<table border=\"1\" class=\"dataframe\">\n",
       "  <thead>\n",
       "    <tr style=\"text-align: right;\">\n",
       "      <th></th>\n",
       "      <th>config_id</th>\n",
       "      <th>seconds</th>\n",
       "    </tr>\n",
       "  </thead>\n",
       "  <tbody>\n",
       "    <tr>\n",
       "      <th>5</th>\n",
       "      <td>mkl2020.1_fakeintel</td>\n",
       "      <td>3.861465</td>\n",
       "    </tr>\n",
       "    <tr>\n",
       "      <th>15</th>\n",
       "      <td>mkl2019.5_debug</td>\n",
       "      <td>3.754246</td>\n",
       "    </tr>\n",
       "    <tr>\n",
       "      <th>25</th>\n",
       "      <td>openblas</td>\n",
       "      <td>3.658103</td>\n",
       "    </tr>\n",
       "    <tr>\n",
       "      <th>55</th>\n",
       "      <td>mkl2024.0</td>\n",
       "      <td>3.629287</td>\n",
       "    </tr>\n",
       "    <tr>\n",
       "      <th>45</th>\n",
       "      <td>mkl2020.0</td>\n",
       "      <td>3.606710</td>\n",
       "    </tr>\n",
       "    <tr>\n",
       "      <th>35</th>\n",
       "      <td>mkl2020.0_debug</td>\n",
       "      <td>3.557763</td>\n",
       "    </tr>\n",
       "  </tbody>\n",
       "</table>\n",
       "</div>"
      ],
      "text/plain": [
       "              config_id   seconds\n",
       "5   mkl2020.1_fakeintel  3.861465\n",
       "15      mkl2019.5_debug  3.754246\n",
       "25             openblas  3.658103\n",
       "55            mkl2024.0  3.629287\n",
       "45            mkl2020.0  3.606710\n",
       "35      mkl2020.0_debug  3.557763"
      ]
     },
     "execution_count": 8,
     "metadata": {},
     "output_type": "execute_result"
    }
   ],
   "source": [
    "df_task = df[df[\"task_id\"] == \"cvxprog\"]\n",
    "df_task[[\"config_id\", \"seconds\"]].sort_values(\"seconds\", ascending=False)"
   ]
  }
 ],
 "metadata": {
  "language_info": {
   "codemirror_mode": {
    "name": "ipython",
    "version": 3
   },
   "file_extension": ".py",
   "mimetype": "text/x-python",
   "name": "python",
   "nbconvert_exporter": "python",
   "pygments_lexer": "ipython3",
   "version": "3.8.18"
  }
 },
 "nbformat": 4,
 "nbformat_minor": 5
}
