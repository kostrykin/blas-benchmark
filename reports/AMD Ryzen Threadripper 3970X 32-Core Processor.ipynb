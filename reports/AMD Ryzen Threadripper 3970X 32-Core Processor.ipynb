{
 "cells": [
  {
   "cell_type": "markdown",
   "id": "6a36c10c",
   "metadata": {},
   "source": [
    "# AMD Ryzen Threadripper 3970X 32-Core Processor"
   ]
  },
  {
   "cell_type": "code",
   "execution_count": 1,
   "id": "8bdfe077",
   "metadata": {
    "execution": {
     "iopub.execute_input": "2024-02-24T14:32:34.770554Z",
     "iopub.status.busy": "2024-02-24T14:32:34.770094Z",
     "iopub.status.idle": "2024-02-24T14:32:34.909952Z",
     "shell.execute_reply": "2024-02-24T14:32:34.909334Z"
    }
   },
   "outputs": [],
   "source": [
    "import pandas as pd"
   ]
  },
  {
   "cell_type": "code",
   "execution_count": 2,
   "id": "fe01f39a",
   "metadata": {
    "execution": {
     "iopub.execute_input": "2024-02-24T14:32:34.912280Z",
     "iopub.status.busy": "2024-02-24T14:32:34.912127Z",
     "iopub.status.idle": "2024-02-24T14:32:34.916613Z",
     "shell.execute_reply": "2024-02-24T14:32:34.916079Z"
    }
   },
   "outputs": [],
   "source": [
    "df = pd.read_csv(\"results.csv\")\n",
    "df = df[df[\"cpu_name\"] == \"AMD Ryzen Threadripper 3970X 32-Core Processor\"]"
   ]
  },
  {
   "cell_type": "markdown",
   "id": "174ec8a6",
   "metadata": {},
   "source": [
    "### Dotted two 4096x4096 matrices"
   ]
  },
  {
   "cell_type": "code",
   "execution_count": 3,
   "id": "0f54771c",
   "metadata": {
    "execution": {
     "iopub.execute_input": "2024-02-24T14:32:34.918777Z",
     "iopub.status.busy": "2024-02-24T14:32:34.918669Z",
     "iopub.status.idle": "2024-02-24T14:32:34.928568Z",
     "shell.execute_reply": "2024-02-24T14:32:34.928035Z"
    }
   },
   "outputs": [
    {
     "data": {
      "text/html": [
       "<div>\n",
       "<style scoped>\n",
       "    .dataframe tbody tr th:only-of-type {\n",
       "        vertical-align: middle;\n",
       "    }\n",
       "\n",
       "    .dataframe tbody tr th {\n",
       "        vertical-align: top;\n",
       "    }\n",
       "\n",
       "    .dataframe thead th {\n",
       "        text-align: right;\n",
       "    }\n",
       "</style>\n",
       "<table border=\"1\" class=\"dataframe\">\n",
       "  <thead>\n",
       "    <tr style=\"text-align: right;\">\n",
       "      <th></th>\n",
       "      <th>config_id</th>\n",
       "      <th>seconds</th>\n",
       "    </tr>\n",
       "  </thead>\n",
       "  <tbody>\n",
       "    <tr>\n",
       "      <th>19</th>\n",
       "      <td>openblas</td>\n",
       "      <td>1.267154</td>\n",
       "    </tr>\n",
       "    <tr>\n",
       "      <th>31</th>\n",
       "      <td>mkl2020.0</td>\n",
       "      <td>1.164649</td>\n",
       "    </tr>\n",
       "    <tr>\n",
       "      <th>39</th>\n",
       "      <td>mkl2024.0</td>\n",
       "      <td>1.152925</td>\n",
       "    </tr>\n",
       "    <tr>\n",
       "      <th>25</th>\n",
       "      <td>mkl2020.0_debug</td>\n",
       "      <td>1.150469</td>\n",
       "    </tr>\n",
       "    <tr>\n",
       "      <th>13</th>\n",
       "      <td>mkl2019.5_debug</td>\n",
       "      <td>1.149742</td>\n",
       "    </tr>\n",
       "    <tr>\n",
       "      <th>6</th>\n",
       "      <td>mkl2020.1_fakeintel</td>\n",
       "      <td>1.142001</td>\n",
       "    </tr>\n",
       "  </tbody>\n",
       "</table>\n",
       "</div>"
      ],
      "text/plain": [
       "              config_id   seconds\n",
       "19             openblas  1.267154\n",
       "31            mkl2020.0  1.164649\n",
       "39            mkl2024.0  1.152925\n",
       "25      mkl2020.0_debug  1.150469\n",
       "13      mkl2019.5_debug  1.149742\n",
       "6   mkl2020.1_fakeintel  1.142001"
      ]
     },
     "execution_count": 3,
     "metadata": {},
     "output_type": "execute_result"
    }
   ],
   "source": [
    "df_task = df[df[\"task_id\"] == \"dot4096\"]\n",
    "df_task[[\"config_id\", \"seconds\"]].sort_values(\"seconds\", ascending=False)"
   ]
  },
  {
   "cell_type": "markdown",
   "id": "f00b74ba",
   "metadata": {},
   "source": [
    "### Dotted two vectors of length 524288"
   ]
  },
  {
   "cell_type": "code",
   "execution_count": 4,
   "id": "f4ece573",
   "metadata": {
    "execution": {
     "iopub.execute_input": "2024-02-24T14:32:34.930804Z",
     "iopub.status.busy": "2024-02-24T14:32:34.930697Z",
     "iopub.status.idle": "2024-02-24T14:32:34.935981Z",
     "shell.execute_reply": "2024-02-24T14:32:34.935524Z"
    }
   },
   "outputs": [
    {
     "data": {
      "text/html": [
       "<div>\n",
       "<style scoped>\n",
       "    .dataframe tbody tr th:only-of-type {\n",
       "        vertical-align: middle;\n",
       "    }\n",
       "\n",
       "    .dataframe tbody tr th {\n",
       "        vertical-align: top;\n",
       "    }\n",
       "\n",
       "    .dataframe thead th {\n",
       "        text-align: right;\n",
       "    }\n",
       "</style>\n",
       "<table border=\"1\" class=\"dataframe\">\n",
       "  <thead>\n",
       "    <tr style=\"text-align: right;\">\n",
       "      <th></th>\n",
       "      <th>config_id</th>\n",
       "      <th>seconds</th>\n",
       "    </tr>\n",
       "  </thead>\n",
       "  <tbody>\n",
       "    <tr>\n",
       "      <th>20</th>\n",
       "      <td>openblas</td>\n",
       "      <td>0.000279</td>\n",
       "    </tr>\n",
       "    <tr>\n",
       "      <th>41</th>\n",
       "      <td>mkl2024.0</td>\n",
       "      <td>0.000276</td>\n",
       "    </tr>\n",
       "    <tr>\n",
       "      <th>32</th>\n",
       "      <td>mkl2020.0</td>\n",
       "      <td>0.000275</td>\n",
       "    </tr>\n",
       "    <tr>\n",
       "      <th>26</th>\n",
       "      <td>mkl2020.0_debug</td>\n",
       "      <td>0.000272</td>\n",
       "    </tr>\n",
       "    <tr>\n",
       "      <th>8</th>\n",
       "      <td>mkl2020.1_fakeintel</td>\n",
       "      <td>0.000271</td>\n",
       "    </tr>\n",
       "    <tr>\n",
       "      <th>14</th>\n",
       "      <td>mkl2019.5_debug</td>\n",
       "      <td>0.000267</td>\n",
       "    </tr>\n",
       "  </tbody>\n",
       "</table>\n",
       "</div>"
      ],
      "text/plain": [
       "              config_id   seconds\n",
       "20             openblas  0.000279\n",
       "41            mkl2024.0  0.000276\n",
       "32            mkl2020.0  0.000275\n",
       "26      mkl2020.0_debug  0.000272\n",
       "8   mkl2020.1_fakeintel  0.000271\n",
       "14      mkl2019.5_debug  0.000267"
      ]
     },
     "execution_count": 4,
     "metadata": {},
     "output_type": "execute_result"
    }
   ],
   "source": [
    "df_task = df[df[\"task_id\"] == \"dot524288\"]\n",
    "df_task[[\"config_id\", \"seconds\"]].sort_values(\"seconds\", ascending=False)"
   ]
  },
  {
   "cell_type": "markdown",
   "id": "4579ff8e",
   "metadata": {},
   "source": [
    "### SVD of a 2048x1024 matrix"
   ]
  },
  {
   "cell_type": "code",
   "execution_count": 5,
   "id": "a871a825",
   "metadata": {
    "execution": {
     "iopub.execute_input": "2024-02-24T14:32:34.938472Z",
     "iopub.status.busy": "2024-02-24T14:32:34.937992Z",
     "iopub.status.idle": "2024-02-24T14:32:34.944674Z",
     "shell.execute_reply": "2024-02-24T14:32:34.944200Z"
    }
   },
   "outputs": [
    {
     "data": {
      "text/html": [
       "<div>\n",
       "<style scoped>\n",
       "    .dataframe tbody tr th:only-of-type {\n",
       "        vertical-align: middle;\n",
       "    }\n",
       "\n",
       "    .dataframe tbody tr th {\n",
       "        vertical-align: top;\n",
       "    }\n",
       "\n",
       "    .dataframe thead th {\n",
       "        text-align: right;\n",
       "    }\n",
       "</style>\n",
       "<table border=\"1\" class=\"dataframe\">\n",
       "  <thead>\n",
       "    <tr style=\"text-align: right;\">\n",
       "      <th></th>\n",
       "      <th>config_id</th>\n",
       "      <th>seconds</th>\n",
       "    </tr>\n",
       "  </thead>\n",
       "  <tbody>\n",
       "    <tr>\n",
       "      <th>15</th>\n",
       "      <td>openblas</td>\n",
       "      <td>0.971306</td>\n",
       "    </tr>\n",
       "    <tr>\n",
       "      <th>1</th>\n",
       "      <td>mkl2020.1_fakeintel</td>\n",
       "      <td>0.715189</td>\n",
       "    </tr>\n",
       "    <tr>\n",
       "      <th>21</th>\n",
       "      <td>mkl2020.0_debug</td>\n",
       "      <td>0.714772</td>\n",
       "    </tr>\n",
       "    <tr>\n",
       "      <th>9</th>\n",
       "      <td>mkl2019.5_debug</td>\n",
       "      <td>0.713602</td>\n",
       "    </tr>\n",
       "    <tr>\n",
       "      <th>27</th>\n",
       "      <td>mkl2020.0</td>\n",
       "      <td>0.713489</td>\n",
       "    </tr>\n",
       "    <tr>\n",
       "      <th>34</th>\n",
       "      <td>mkl2024.0</td>\n",
       "      <td>0.713080</td>\n",
       "    </tr>\n",
       "  </tbody>\n",
       "</table>\n",
       "</div>"
      ],
      "text/plain": [
       "              config_id   seconds\n",
       "15             openblas  0.971306\n",
       "1   mkl2020.1_fakeintel  0.715189\n",
       "21      mkl2020.0_debug  0.714772\n",
       "9       mkl2019.5_debug  0.713602\n",
       "27            mkl2020.0  0.713489\n",
       "34            mkl2024.0  0.713080"
      ]
     },
     "execution_count": 5,
     "metadata": {},
     "output_type": "execute_result"
    }
   ],
   "source": [
    "df_task = df[df[\"task_id\"] == \"svd\"]\n",
    "df_task[[\"config_id\", \"seconds\"]].sort_values(\"seconds\", ascending=False)"
   ]
  },
  {
   "cell_type": "markdown",
   "id": "c2ea2fed",
   "metadata": {},
   "source": [
    "### Eigendecomposition of a 2048x2048 matrix"
   ]
  },
  {
   "cell_type": "code",
   "execution_count": 6,
   "id": "e11969a3",
   "metadata": {
    "execution": {
     "iopub.execute_input": "2024-02-24T14:32:34.947054Z",
     "iopub.status.busy": "2024-02-24T14:32:34.946568Z",
     "iopub.status.idle": "2024-02-24T14:32:34.953512Z",
     "shell.execute_reply": "2024-02-24T14:32:34.952980Z"
    }
   },
   "outputs": [
    {
     "data": {
      "text/html": [
       "<div>\n",
       "<style scoped>\n",
       "    .dataframe tbody tr th:only-of-type {\n",
       "        vertical-align: middle;\n",
       "    }\n",
       "\n",
       "    .dataframe tbody tr th {\n",
       "        vertical-align: top;\n",
       "    }\n",
       "\n",
       "    .dataframe thead th {\n",
       "        text-align: right;\n",
       "    }\n",
       "</style>\n",
       "<table border=\"1\" class=\"dataframe\">\n",
       "  <thead>\n",
       "    <tr style=\"text-align: right;\">\n",
       "      <th></th>\n",
       "      <th>config_id</th>\n",
       "      <th>seconds</th>\n",
       "    </tr>\n",
       "  </thead>\n",
       "  <tbody>\n",
       "    <tr>\n",
       "      <th>16</th>\n",
       "      <td>openblas</td>\n",
       "      <td>5.407953</td>\n",
       "    </tr>\n",
       "    <tr>\n",
       "      <th>36</th>\n",
       "      <td>mkl2024.0</td>\n",
       "      <td>4.542563</td>\n",
       "    </tr>\n",
       "    <tr>\n",
       "      <th>10</th>\n",
       "      <td>mkl2019.5_debug</td>\n",
       "      <td>4.288708</td>\n",
       "    </tr>\n",
       "    <tr>\n",
       "      <th>28</th>\n",
       "      <td>mkl2020.0</td>\n",
       "      <td>4.268820</td>\n",
       "    </tr>\n",
       "    <tr>\n",
       "      <th>22</th>\n",
       "      <td>mkl2020.0_debug</td>\n",
       "      <td>4.262851</td>\n",
       "    </tr>\n",
       "    <tr>\n",
       "      <th>3</th>\n",
       "      <td>mkl2020.1_fakeintel</td>\n",
       "      <td>4.192879</td>\n",
       "    </tr>\n",
       "  </tbody>\n",
       "</table>\n",
       "</div>"
      ],
      "text/plain": [
       "              config_id   seconds\n",
       "16             openblas  5.407953\n",
       "36            mkl2024.0  4.542563\n",
       "10      mkl2019.5_debug  4.288708\n",
       "28            mkl2020.0  4.268820\n",
       "22      mkl2020.0_debug  4.262851\n",
       "3   mkl2020.1_fakeintel  4.192879"
      ]
     },
     "execution_count": 6,
     "metadata": {},
     "output_type": "execute_result"
    }
   ],
   "source": [
    "df_task = df[df[\"task_id\"] == \"evd\"]\n",
    "df_task[[\"config_id\", \"seconds\"]].sort_values(\"seconds\", ascending=False)"
   ]
  },
  {
   "cell_type": "markdown",
   "id": "ba7683b9",
   "metadata": {},
   "source": [
    "### Convex programming (logistic regression)"
   ]
  },
  {
   "cell_type": "code",
   "execution_count": 7,
   "id": "dceac7e4",
   "metadata": {
    "execution": {
     "iopub.execute_input": "2024-02-24T14:32:34.955320Z",
     "iopub.status.busy": "2024-02-24T14:32:34.955206Z",
     "iopub.status.idle": "2024-02-24T14:32:34.960441Z",
     "shell.execute_reply": "2024-02-24T14:32:34.959995Z"
    }
   },
   "outputs": [
    {
     "data": {
      "text/html": [
       "<div>\n",
       "<style scoped>\n",
       "    .dataframe tbody tr th:only-of-type {\n",
       "        vertical-align: middle;\n",
       "    }\n",
       "\n",
       "    .dataframe tbody tr th {\n",
       "        vertical-align: top;\n",
       "    }\n",
       "\n",
       "    .dataframe thead th {\n",
       "        text-align: right;\n",
       "    }\n",
       "</style>\n",
       "<table border=\"1\" class=\"dataframe\">\n",
       "  <thead>\n",
       "    <tr style=\"text-align: right;\">\n",
       "      <th></th>\n",
       "      <th>config_id</th>\n",
       "      <th>seconds</th>\n",
       "    </tr>\n",
       "  </thead>\n",
       "  <tbody>\n",
       "    <tr>\n",
       "      <th>4</th>\n",
       "      <td>mkl2020.1_fakeintel</td>\n",
       "      <td>3.861465</td>\n",
       "    </tr>\n",
       "    <tr>\n",
       "      <th>11</th>\n",
       "      <td>mkl2019.5_debug</td>\n",
       "      <td>3.754246</td>\n",
       "    </tr>\n",
       "    <tr>\n",
       "      <th>17</th>\n",
       "      <td>openblas</td>\n",
       "      <td>3.658103</td>\n",
       "    </tr>\n",
       "    <tr>\n",
       "      <th>37</th>\n",
       "      <td>mkl2024.0</td>\n",
       "      <td>3.629287</td>\n",
       "    </tr>\n",
       "    <tr>\n",
       "      <th>29</th>\n",
       "      <td>mkl2020.0</td>\n",
       "      <td>3.606710</td>\n",
       "    </tr>\n",
       "    <tr>\n",
       "      <th>23</th>\n",
       "      <td>mkl2020.0_debug</td>\n",
       "      <td>3.557763</td>\n",
       "    </tr>\n",
       "  </tbody>\n",
       "</table>\n",
       "</div>"
      ],
      "text/plain": [
       "              config_id   seconds\n",
       "4   mkl2020.1_fakeintel  3.861465\n",
       "11      mkl2019.5_debug  3.754246\n",
       "17             openblas  3.658103\n",
       "37            mkl2024.0  3.629287\n",
       "29            mkl2020.0  3.606710\n",
       "23      mkl2020.0_debug  3.557763"
      ]
     },
     "execution_count": 7,
     "metadata": {},
     "output_type": "execute_result"
    }
   ],
   "source": [
    "df_task = df[df[\"task_id\"] == \"cvxprog\"]\n",
    "df_task[[\"config_id\", \"seconds\"]].sort_values(\"seconds\", ascending=False)"
   ]
  }
 ],
 "metadata": {
  "language_info": {
   "codemirror_mode": {
    "name": "ipython",
    "version": 3
   },
   "file_extension": ".py",
   "mimetype": "text/x-python",
   "name": "python",
   "nbconvert_exporter": "python",
   "pygments_lexer": "ipython3",
   "version": "3.8.18"
  }
 },
 "nbformat": 4,
 "nbformat_minor": 5
}
