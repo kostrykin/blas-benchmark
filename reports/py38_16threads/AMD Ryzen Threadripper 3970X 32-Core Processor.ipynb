{
 "cells": [
  {
   "cell_type": "markdown",
   "id": "db9199d1",
   "metadata": {},
   "source": [
    "# AMD Ryzen Threadripper 3970X 32-Core Processor"
   ]
  },
  {
   "cell_type": "code",
   "execution_count": 1,
   "id": "c2d47321",
   "metadata": {
    "execution": {
     "iopub.execute_input": "2024-02-25T21:10:49.121615Z",
     "iopub.status.busy": "2024-02-25T21:10:49.121386Z",
     "iopub.status.idle": "2024-02-25T21:10:49.265775Z",
     "shell.execute_reply": "2024-02-25T21:10:49.265162Z"
    }
   },
   "outputs": [],
   "source": [
    "import pandas as pd\n",
    "import numpy as np"
   ]
  },
  {
   "cell_type": "code",
   "execution_count": 2,
   "id": "0587a570",
   "metadata": {
    "execution": {
     "iopub.execute_input": "2024-02-25T21:10:49.267804Z",
     "iopub.status.busy": "2024-02-25T21:10:49.267650Z",
     "iopub.status.idle": "2024-02-25T21:10:49.273093Z",
     "shell.execute_reply": "2024-02-25T21:10:49.272502Z"
    }
   },
   "outputs": [],
   "source": [
    "df = pd.read_csv(\"results.csv\")\n",
    "df = df[df[\"cpu_name\"] == \"AMD Ryzen Threadripper 3970X 32-Core Processor\"]\n",
    "df = df[df[\"profile_id\"] == \"py38_16threads\"]"
   ]
  },
  {
   "cell_type": "markdown",
   "id": "b2301ded",
   "metadata": {},
   "source": [
    "**Profile:**\n",
    "```json\n",
    "{\"python\": 3.8, \"threads\": 16, \"id\": \"py38_16threads\"}\n",
    "```"
   ]
  },
  {
   "cell_type": "markdown",
   "id": "64f5420b",
   "metadata": {},
   "source": [
    "## Highscore"
   ]
  },
  {
   "cell_type": "markdown",
   "id": "ed8a51dd",
   "metadata": {},
   "source": [
    "The *score* of a configuration is the *geometric mean* of the best possible speed-up in comparison to the other configurations."
   ]
  },
  {
   "cell_type": "code",
   "execution_count": 3,
   "id": "f2db5fef",
   "metadata": {
    "execution": {
     "iopub.execute_input": "2024-02-25T21:10:49.275534Z",
     "iopub.status.busy": "2024-02-25T21:10:49.275069Z",
     "iopub.status.idle": "2024-02-25T21:10:49.295102Z",
     "shell.execute_reply": "2024-02-25T21:10:49.294645Z"
    }
   },
   "outputs": [
    {
     "data": {
      "text/html": [
       "<div>\n",
       "<style scoped>\n",
       "    .dataframe tbody tr th:only-of-type {\n",
       "        vertical-align: middle;\n",
       "    }\n",
       "\n",
       "    .dataframe tbody tr th {\n",
       "        vertical-align: top;\n",
       "    }\n",
       "\n",
       "    .dataframe thead th {\n",
       "        text-align: right;\n",
       "    }\n",
       "</style>\n",
       "<table border=\"1\" class=\"dataframe\">\n",
       "  <thead>\n",
       "    <tr style=\"text-align: right;\">\n",
       "      <th></th>\n",
       "      <th>config_id</th>\n",
       "      <th>score</th>\n",
       "    </tr>\n",
       "  </thead>\n",
       "  <tbody>\n",
       "    <tr>\n",
       "      <th>0</th>\n",
       "      <td>mkl2019.5_debug</td>\n",
       "      <td>1.253381</td>\n",
       "    </tr>\n",
       "    <tr>\n",
       "      <th>1</th>\n",
       "      <td>mkl2020.1_fakeintel</td>\n",
       "      <td>1.250750</td>\n",
       "    </tr>\n",
       "    <tr>\n",
       "      <th>2</th>\n",
       "      <td>mkl2020.0</td>\n",
       "      <td>1.240589</td>\n",
       "    </tr>\n",
       "    <tr>\n",
       "      <th>3</th>\n",
       "      <td>mkl2020.0_debug</td>\n",
       "      <td>1.214846</td>\n",
       "    </tr>\n",
       "    <tr>\n",
       "      <th>4</th>\n",
       "      <td>mkl2024.0</td>\n",
       "      <td>1.207232</td>\n",
       "    </tr>\n",
       "    <tr>\n",
       "      <th>5</th>\n",
       "      <td>openblas</td>\n",
       "      <td>1.022402</td>\n",
       "    </tr>\n",
       "  </tbody>\n",
       "</table>\n",
       "</div>"
      ],
      "text/plain": [
       "             config_id     score\n",
       "0      mkl2019.5_debug  1.253381\n",
       "1  mkl2020.1_fakeintel  1.250750\n",
       "2            mkl2020.0  1.240589\n",
       "3      mkl2020.0_debug  1.214846\n",
       "4            mkl2024.0  1.207232\n",
       "5             openblas  1.022402"
      ]
     },
     "execution_count": 3,
     "metadata": {},
     "output_type": "execute_result"
    }
   ],
   "source": [
    "configs = df[\"config_id\"].unique()\n",
    "scores = {config_id: list() for config_id in configs}\n",
    "for task_id in df[\"task_id\"].unique():\n",
    "    df_task = df[df[\"task_id\"] == task_id]\n",
    "    for config_id in configs:\n",
    "        config_seconds = df_task[df_task[\"config_id\"] == config_id][\"seconds\"].min()\n",
    "        ref_seconds = df_task[\"seconds\"].max()\n",
    "        max_speedup = ref_seconds / config_seconds\n",
    "        scores[config_id].append(max_speedup)\n",
    "mean_scores = [pow(np.prod(scores[config_id]), 1 / len(scores[config_id])) for config_id in configs]\n",
    "df_scores = pd.DataFrame.from_dict(dict(config_id=configs, score=mean_scores))\n",
    "df_scores.sort_values(\"score\", ascending=False).reset_index(drop=True)"
   ]
  },
  {
   "cell_type": "markdown",
   "id": "f89550f0",
   "metadata": {},
   "source": [
    "## Benchmark details"
   ]
  },
  {
   "cell_type": "markdown",
   "id": "f2667e70",
   "metadata": {},
   "source": [
    "### Task 1: Dotted two 4096x4096 matrices"
   ]
  },
  {
   "cell_type": "code",
   "execution_count": 4,
   "id": "15aba07a",
   "metadata": {
    "execution": {
     "iopub.execute_input": "2024-02-25T21:10:49.297442Z",
     "iopub.status.busy": "2024-02-25T21:10:49.297235Z",
     "iopub.status.idle": "2024-02-25T21:10:49.302674Z",
     "shell.execute_reply": "2024-02-25T21:10:49.302273Z"
    }
   },
   "outputs": [
    {
     "data": {
      "text/html": [
       "<div>\n",
       "<style scoped>\n",
       "    .dataframe tbody tr th:only-of-type {\n",
       "        vertical-align: middle;\n",
       "    }\n",
       "\n",
       "    .dataframe tbody tr th {\n",
       "        vertical-align: top;\n",
       "    }\n",
       "\n",
       "    .dataframe thead th {\n",
       "        text-align: right;\n",
       "    }\n",
       "</style>\n",
       "<table border=\"1\" class=\"dataframe\">\n",
       "  <thead>\n",
       "    <tr style=\"text-align: right;\">\n",
       "      <th></th>\n",
       "      <th>config_id</th>\n",
       "      <th>seconds</th>\n",
       "    </tr>\n",
       "  </thead>\n",
       "  <tbody>\n",
       "    <tr>\n",
       "      <th>8</th>\n",
       "      <td>mkl2020.1_fakeintel</td>\n",
       "      <td>0.255833</td>\n",
       "    </tr>\n",
       "    <tr>\n",
       "      <th>28</th>\n",
       "      <td>openblas</td>\n",
       "      <td>0.250436</td>\n",
       "    </tr>\n",
       "    <tr>\n",
       "      <th>18</th>\n",
       "      <td>mkl2019.5_debug</td>\n",
       "      <td>0.238674</td>\n",
       "    </tr>\n",
       "    <tr>\n",
       "      <th>38</th>\n",
       "      <td>mkl2020.0_debug</td>\n",
       "      <td>0.237325</td>\n",
       "    </tr>\n",
       "    <tr>\n",
       "      <th>58</th>\n",
       "      <td>mkl2024.0</td>\n",
       "      <td>0.233674</td>\n",
       "    </tr>\n",
       "    <tr>\n",
       "      <th>48</th>\n",
       "      <td>mkl2020.0</td>\n",
       "      <td>0.232717</td>\n",
       "    </tr>\n",
       "  </tbody>\n",
       "</table>\n",
       "</div>"
      ],
      "text/plain": [
       "              config_id   seconds\n",
       "8   mkl2020.1_fakeintel  0.255833\n",
       "28             openblas  0.250436\n",
       "18      mkl2019.5_debug  0.238674\n",
       "38      mkl2020.0_debug  0.237325\n",
       "58            mkl2024.0  0.233674\n",
       "48            mkl2020.0  0.232717"
      ]
     },
     "execution_count": 4,
     "metadata": {},
     "output_type": "execute_result"
    }
   ],
   "source": [
    "df_task = df[df[\"task_id\"] == \"dot4096\"]\n",
    "df_task[[\"config_id\", \"seconds\"]].sort_values(\"seconds\", ascending=False)"
   ]
  },
  {
   "cell_type": "markdown",
   "id": "d1ed4aa3",
   "metadata": {},
   "source": [
    "### Task 2: Dotted two vectors of length 524288"
   ]
  },
  {
   "cell_type": "code",
   "execution_count": 5,
   "id": "d36619fd",
   "metadata": {
    "execution": {
     "iopub.execute_input": "2024-02-25T21:10:49.304983Z",
     "iopub.status.busy": "2024-02-25T21:10:49.304582Z",
     "iopub.status.idle": "2024-02-25T21:10:49.311278Z",
     "shell.execute_reply": "2024-02-25T21:10:49.310752Z"
    }
   },
   "outputs": [
    {
     "data": {
      "text/html": [
       "<div>\n",
       "<style scoped>\n",
       "    .dataframe tbody tr th:only-of-type {\n",
       "        vertical-align: middle;\n",
       "    }\n",
       "\n",
       "    .dataframe tbody tr th {\n",
       "        vertical-align: top;\n",
       "    }\n",
       "\n",
       "    .dataframe thead th {\n",
       "        text-align: right;\n",
       "    }\n",
       "</style>\n",
       "<table border=\"1\" class=\"dataframe\">\n",
       "  <thead>\n",
       "    <tr style=\"text-align: right;\">\n",
       "      <th></th>\n",
       "      <th>config_id</th>\n",
       "      <th>seconds</th>\n",
       "    </tr>\n",
       "  </thead>\n",
       "  <tbody>\n",
       "    <tr>\n",
       "      <th>39</th>\n",
       "      <td>mkl2020.0_debug</td>\n",
       "      <td>0.000293</td>\n",
       "    </tr>\n",
       "    <tr>\n",
       "      <th>59</th>\n",
       "      <td>mkl2024.0</td>\n",
       "      <td>0.000281</td>\n",
       "    </tr>\n",
       "    <tr>\n",
       "      <th>29</th>\n",
       "      <td>openblas</td>\n",
       "      <td>0.000280</td>\n",
       "    </tr>\n",
       "    <tr>\n",
       "      <th>49</th>\n",
       "      <td>mkl2020.0</td>\n",
       "      <td>0.000274</td>\n",
       "    </tr>\n",
       "    <tr>\n",
       "      <th>19</th>\n",
       "      <td>mkl2019.5_debug</td>\n",
       "      <td>0.000273</td>\n",
       "    </tr>\n",
       "    <tr>\n",
       "      <th>9</th>\n",
       "      <td>mkl2020.1_fakeintel</td>\n",
       "      <td>0.000265</td>\n",
       "    </tr>\n",
       "  </tbody>\n",
       "</table>\n",
       "</div>"
      ],
      "text/plain": [
       "              config_id   seconds\n",
       "39      mkl2020.0_debug  0.000293\n",
       "59            mkl2024.0  0.000281\n",
       "29             openblas  0.000280\n",
       "49            mkl2020.0  0.000274\n",
       "19      mkl2019.5_debug  0.000273\n",
       "9   mkl2020.1_fakeintel  0.000265"
      ]
     },
     "execution_count": 5,
     "metadata": {},
     "output_type": "execute_result"
    }
   ],
   "source": [
    "df_task = df[df[\"task_id\"] == \"dot524288\"]\n",
    "df_task[[\"config_id\", \"seconds\"]].sort_values(\"seconds\", ascending=False)"
   ]
  },
  {
   "cell_type": "markdown",
   "id": "5ae0ff13",
   "metadata": {},
   "source": [
    "### Task 3: SVD of a 2048x1024 matrix"
   ]
  },
  {
   "cell_type": "code",
   "execution_count": 6,
   "id": "78167772",
   "metadata": {
    "execution": {
     "iopub.execute_input": "2024-02-25T21:10:49.313388Z",
     "iopub.status.busy": "2024-02-25T21:10:49.313084Z",
     "iopub.status.idle": "2024-02-25T21:10:49.319913Z",
     "shell.execute_reply": "2024-02-25T21:10:49.319389Z"
    }
   },
   "outputs": [
    {
     "data": {
      "text/html": [
       "<div>\n",
       "<style scoped>\n",
       "    .dataframe tbody tr th:only-of-type {\n",
       "        vertical-align: middle;\n",
       "    }\n",
       "\n",
       "    .dataframe tbody tr th {\n",
       "        vertical-align: top;\n",
       "    }\n",
       "\n",
       "    .dataframe thead th {\n",
       "        text-align: right;\n",
       "    }\n",
       "</style>\n",
       "<table border=\"1\" class=\"dataframe\">\n",
       "  <thead>\n",
       "    <tr style=\"text-align: right;\">\n",
       "      <th></th>\n",
       "      <th>config_id</th>\n",
       "      <th>seconds</th>\n",
       "    </tr>\n",
       "  </thead>\n",
       "  <tbody>\n",
       "    <tr>\n",
       "      <th>25</th>\n",
       "      <td>openblas</td>\n",
       "      <td>0.818988</td>\n",
       "    </tr>\n",
       "    <tr>\n",
       "      <th>35</th>\n",
       "      <td>mkl2020.0_debug</td>\n",
       "      <td>0.470923</td>\n",
       "    </tr>\n",
       "    <tr>\n",
       "      <th>55</th>\n",
       "      <td>mkl2024.0</td>\n",
       "      <td>0.467315</td>\n",
       "    </tr>\n",
       "    <tr>\n",
       "      <th>45</th>\n",
       "      <td>mkl2020.0</td>\n",
       "      <td>0.466912</td>\n",
       "    </tr>\n",
       "    <tr>\n",
       "      <th>5</th>\n",
       "      <td>mkl2020.1_fakeintel</td>\n",
       "      <td>0.451951</td>\n",
       "    </tr>\n",
       "    <tr>\n",
       "      <th>15</th>\n",
       "      <td>mkl2019.5_debug</td>\n",
       "      <td>0.449664</td>\n",
       "    </tr>\n",
       "  </tbody>\n",
       "</table>\n",
       "</div>"
      ],
      "text/plain": [
       "              config_id   seconds\n",
       "25             openblas  0.818988\n",
       "35      mkl2020.0_debug  0.470923\n",
       "55            mkl2024.0  0.467315\n",
       "45            mkl2020.0  0.466912\n",
       "5   mkl2020.1_fakeintel  0.451951\n",
       "15      mkl2019.5_debug  0.449664"
      ]
     },
     "execution_count": 6,
     "metadata": {},
     "output_type": "execute_result"
    }
   ],
   "source": [
    "df_task = df[df[\"task_id\"] == \"svd\"]\n",
    "df_task[[\"config_id\", \"seconds\"]].sort_values(\"seconds\", ascending=False)"
   ]
  },
  {
   "cell_type": "markdown",
   "id": "e698da37",
   "metadata": {},
   "source": [
    "### Task 4: Eigendecomposition of a 2048x2048 matrix"
   ]
  },
  {
   "cell_type": "code",
   "execution_count": 7,
   "id": "473467b4",
   "metadata": {
    "execution": {
     "iopub.execute_input": "2024-02-25T21:10:49.322054Z",
     "iopub.status.busy": "2024-02-25T21:10:49.321733Z",
     "iopub.status.idle": "2024-02-25T21:10:49.328575Z",
     "shell.execute_reply": "2024-02-25T21:10:49.328047Z"
    }
   },
   "outputs": [
    {
     "data": {
      "text/html": [
       "<div>\n",
       "<style scoped>\n",
       "    .dataframe tbody tr th:only-of-type {\n",
       "        vertical-align: middle;\n",
       "    }\n",
       "\n",
       "    .dataframe tbody tr th {\n",
       "        vertical-align: top;\n",
       "    }\n",
       "\n",
       "    .dataframe thead th {\n",
       "        text-align: right;\n",
       "    }\n",
       "</style>\n",
       "<table border=\"1\" class=\"dataframe\">\n",
       "  <thead>\n",
       "    <tr style=\"text-align: right;\">\n",
       "      <th></th>\n",
       "      <th>config_id</th>\n",
       "      <th>seconds</th>\n",
       "    </tr>\n",
       "  </thead>\n",
       "  <tbody>\n",
       "    <tr>\n",
       "      <th>26</th>\n",
       "      <td>openblas</td>\n",
       "      <td>4.758956</td>\n",
       "    </tr>\n",
       "    <tr>\n",
       "      <th>56</th>\n",
       "      <td>mkl2024.0</td>\n",
       "      <td>3.852445</td>\n",
       "    </tr>\n",
       "    <tr>\n",
       "      <th>46</th>\n",
       "      <td>mkl2020.0</td>\n",
       "      <td>3.446245</td>\n",
       "    </tr>\n",
       "    <tr>\n",
       "      <th>36</th>\n",
       "      <td>mkl2020.0_debug</td>\n",
       "      <td>3.371684</td>\n",
       "    </tr>\n",
       "    <tr>\n",
       "      <th>16</th>\n",
       "      <td>mkl2019.5_debug</td>\n",
       "      <td>3.276509</td>\n",
       "    </tr>\n",
       "    <tr>\n",
       "      <th>6</th>\n",
       "      <td>mkl2020.1_fakeintel</td>\n",
       "      <td>3.247261</td>\n",
       "    </tr>\n",
       "  </tbody>\n",
       "</table>\n",
       "</div>"
      ],
      "text/plain": [
       "              config_id   seconds\n",
       "26             openblas  4.758956\n",
       "56            mkl2024.0  3.852445\n",
       "46            mkl2020.0  3.446245\n",
       "36      mkl2020.0_debug  3.371684\n",
       "16      mkl2019.5_debug  3.276509\n",
       "6   mkl2020.1_fakeintel  3.247261"
      ]
     },
     "execution_count": 7,
     "metadata": {},
     "output_type": "execute_result"
    }
   ],
   "source": [
    "df_task = df[df[\"task_id\"] == \"evd\"]\n",
    "df_task[[\"config_id\", \"seconds\"]].sort_values(\"seconds\", ascending=False)"
   ]
  },
  {
   "cell_type": "markdown",
   "id": "0463792f",
   "metadata": {},
   "source": [
    "### Task 5: Convex programming (logistic regression)"
   ]
  },
  {
   "cell_type": "code",
   "execution_count": 8,
   "id": "f8ae8da7",
   "metadata": {
    "execution": {
     "iopub.execute_input": "2024-02-25T21:10:49.330812Z",
     "iopub.status.busy": "2024-02-25T21:10:49.330402Z",
     "iopub.status.idle": "2024-02-25T21:10:49.337192Z",
     "shell.execute_reply": "2024-02-25T21:10:49.336671Z"
    }
   },
   "outputs": [
    {
     "data": {
      "text/html": [
       "<div>\n",
       "<style scoped>\n",
       "    .dataframe tbody tr th:only-of-type {\n",
       "        vertical-align: middle;\n",
       "    }\n",
       "\n",
       "    .dataframe tbody tr th {\n",
       "        vertical-align: top;\n",
       "    }\n",
       "\n",
       "    .dataframe thead th {\n",
       "        text-align: right;\n",
       "    }\n",
       "</style>\n",
       "<table border=\"1\" class=\"dataframe\">\n",
       "  <thead>\n",
       "    <tr style=\"text-align: right;\">\n",
       "      <th></th>\n",
       "      <th>config_id</th>\n",
       "      <th>seconds</th>\n",
       "    </tr>\n",
       "  </thead>\n",
       "  <tbody>\n",
       "    <tr>\n",
       "      <th>37</th>\n",
       "      <td>mkl2020.0_debug</td>\n",
       "      <td>4.016744</td>\n",
       "    </tr>\n",
       "    <tr>\n",
       "      <th>17</th>\n",
       "      <td>mkl2019.5_debug</td>\n",
       "      <td>3.948451</td>\n",
       "    </tr>\n",
       "    <tr>\n",
       "      <th>47</th>\n",
       "      <td>mkl2020.0</td>\n",
       "      <td>3.887898</td>\n",
       "    </tr>\n",
       "    <tr>\n",
       "      <th>57</th>\n",
       "      <td>mkl2024.0</td>\n",
       "      <td>3.867309</td>\n",
       "    </tr>\n",
       "    <tr>\n",
       "      <th>7</th>\n",
       "      <td>mkl2020.1_fakeintel</td>\n",
       "      <td>3.852806</td>\n",
       "    </tr>\n",
       "    <tr>\n",
       "      <th>27</th>\n",
       "      <td>openblas</td>\n",
       "      <td>3.839549</td>\n",
       "    </tr>\n",
       "  </tbody>\n",
       "</table>\n",
       "</div>"
      ],
      "text/plain": [
       "              config_id   seconds\n",
       "37      mkl2020.0_debug  4.016744\n",
       "17      mkl2019.5_debug  3.948451\n",
       "47            mkl2020.0  3.887898\n",
       "57            mkl2024.0  3.867309\n",
       "7   mkl2020.1_fakeintel  3.852806\n",
       "27             openblas  3.839549"
      ]
     },
     "execution_count": 8,
     "metadata": {},
     "output_type": "execute_result"
    }
   ],
   "source": [
    "df_task = df[df[\"task_id\"] == \"cvxprog\"]\n",
    "df_task[[\"config_id\", \"seconds\"]].sort_values(\"seconds\", ascending=False)"
   ]
  }
 ],
 "metadata": {
  "language_info": {
   "codemirror_mode": {
    "name": "ipython",
    "version": 3
   },
   "file_extension": ".py",
   "mimetype": "text/x-python",
   "name": "python",
   "nbconvert_exporter": "python",
   "pygments_lexer": "ipython3",
   "version": "3.8.18"
  }
 },
 "nbformat": 4,
 "nbformat_minor": 5
}
